{
 "cells": [
  {
   "cell_type": "markdown",
   "metadata": {},
   "source": [
    "## Dictionaries\n",
    "\n",
    "A key -> value store\n"
   ]
  },
  {
   "cell_type": "code",
   "execution_count": 78,
   "metadata": {
    "collapsed": false
   },
   "outputs": [
    {
     "name": "stdout",
     "output_type": "stream",
     "text": [
      "cranberries\n"
     ]
    }
   ],
   "source": [
    "## List access\n",
    "fruit = ['cranberries', 'apples']\n",
    "\n",
    "print(fruit[0])"
   ]
  },
  {
   "cell_type": "code",
   "execution_count": 91,
   "metadata": {
    "collapsed": false
   },
   "outputs": [
    {
     "name": "stdout",
     "output_type": "stream",
     "text": [
      "{'one': 1, 'two': 2}\n",
      "{1: 'one', 2: 'two'}\n",
      "{'apples': 10, 'oranges': 25, 'pears': 15}\n",
      "Has walnuts?  None\n",
      "{'apples': 20, 'oranges': 25, 'pears': 15}\n",
      "Has walnuts?  0\n"
     ]
    }
   ],
   "source": [
    "## As storage\n",
    "string_key_to_int_value = {'one': 1, 'two': 2}\n",
    "\n",
    "print(string_key_to_int_value)\n",
    "\n",
    "int_key_to_string_value = {1: 'one', 2: 'two'}\n",
    "\n",
    "print(int_key_to_string_value)\n",
    "\n",
    "fruit = {\n",
    "    'apples': 10,\n",
    "    'oranges': 25,\n",
    "    'pears': 15\n",
    "}\n",
    "\n",
    "print(fruit)\n",
    "\n",
    "## Bought more apples\n",
    "print('Has walnuts? ', fruit.get('walnut'))\n",
    "fruit['apples'] += 10\n",
    "\n",
    "print(fruit)\n",
    "print('Has walnuts? ', fruit.get('walnut', 0))\n"
   ]
  },
  {
   "cell_type": "markdown",
   "metadata": {},
   "source": [
    "### Combining two or more dictionaries dictionaries"
   ]
  },
  {
   "cell_type": "code",
   "execution_count": 102,
   "metadata": {
    "collapsed": false
   },
   "outputs": [
    {
     "name": "stdout",
     "output_type": "stream",
     "text": [
      "Upper level rooms have\n",
      "{'guest_bath': 150,\n",
      " 'guest_bed_room_one': 300,\n",
      " 'kitchen': 250,\n",
      " 'master_bed_room': 400}\n",
      "\n",
      "All rooms in house\n",
      "{'den': 300,\n",
      " 'guest_bath': 150,\n",
      " 'guest_bed_room_one': 300,\n",
      " 'kitchen': 250,\n",
      " 'living_room': 500,\n",
      " 'master_bed_room': 400}\n",
      "\n",
      "guest_bed_room_one : 300\n",
      "\n",
      "den : 300\n",
      "\n",
      "kitchen : 250\n",
      "\n",
      "living_room : 500\n",
      "\n",
      "master_bed_room : 400\n",
      "\n",
      "guest_bath : 150\n",
      "\n"
     ]
    }
   ],
   "source": [
    "from pprint import pprint\n",
    "\n",
    "basement_rooms = {'den': 300, 'living_room': 500}\n",
    "ground_level_rooms = {'kitchen': 250, 'guest_bed_room_one': 300}\n",
    "upstairs_rooms = {'master_bed_room': 400, 'guest_bath': 150}\n",
    "\n",
    "upper_floors = upstairs_rooms.copy()\n",
    "upper_floors.update(ground_level_rooms)\n",
    "\n",
    "print('Upper level rooms have')\n",
    "pprint(upper_floors)\n",
    "print()\n",
    "\n",
    "entire_house = upper_floors.copy()\n",
    "entire_house.update(basement_rooms)\n",
    "\n",
    "print('All rooms in house')\n",
    "pprint(entire_house)\n",
    "\n",
    "print()\n",
    "for room, square_feet in entire_house.items():\n",
    "    print(room, ':', square_feet)\n",
    "    print()\n",
    "\n"
   ]
  },
  {
   "cell_type": "markdown",
   "metadata": {},
   "source": [
    "### Combining two or more dictionaries dictionaries"
   ]
  },
  {
   "cell_type": "code",
   "execution_count": 104,
   "metadata": {
    "collapsed": false,
    "scrolled": true
   },
   "outputs": [
    {
     "name": "stdout",
     "output_type": "stream",
     "text": [
      "Ground level rooms\n",
      "{'bathroom': 200, 'guest_bed_room_one': 300, 'kitchen': 250}\n",
      "\n",
      "Upper level rooms have\n",
      "{'guest_bath': 150,\n",
      " 'guest_bed_room_one': 300,\n",
      " 'kitchen': 250,\n",
      " 'master_bed_room': 400}\n"
     ]
    }
   ],
   "source": [
    "from pprint import pprint\n",
    "\n",
    "basement_rooms = {'den': 300, 'living_room': 500}\n",
    "ground_level_rooms = {'kitchen': 250, 'guest_bed_room_one': 300}\n",
    "upstairs_rooms = {'master_bed_room': 400, 'guest_bath': 150}\n",
    "\n",
    "upper_floors = upstairs_rooms.copy()\n",
    "upper_floors.update(ground_level_rooms)\n",
    "\n",
    "## Note no change if I go and add a room to the ground_level_rooms after creating upper_floors\n",
    "ground_level_rooms['bathroom'] = 200\n",
    "\n",
    "print('Ground level rooms')\n",
    "pprint(ground_level_rooms)\n",
    "print()\n",
    "\n",
    "print('Upper level rooms have')\n",
    "pprint(upper_floors)"
   ]
  },
  {
   "cell_type": "code",
   "execution_count": 127,
   "metadata": {
    "collapsed": false
   },
   "outputs": [
    {
     "name": "stdout",
     "output_type": "stream",
     "text": [
      "{'kitchen': 700, 'living': 500}\n",
      "{'kitchen': 700, 'living': 200}\n"
     ]
    }
   ],
   "source": [
    "big_rooms = {'living': 500, 'kitchen': 700}\n",
    "small_rooms = {'living': 200}\n",
    "\n",
    "my_rooms = big_rooms.copy()\n",
    "\n",
    "print(my_rooms)\n",
    "\n",
    "my_rooms.update(small_rooms)\n",
    "\n",
    "print(my_rooms)\n"
   ]
  },
  {
   "cell_type": "markdown",
   "metadata": {},
   "source": [
    "### Mutations are possible\n",
    "\n",
    "Much like the lists, a dictionary can end up changing other dictionaries even with a copy.\n"
   ]
  },
  {
   "cell_type": "markdown",
   "metadata": {},
   "source": [
    "### Why care about Deep vs Shallow Copies\n",
    "\n",
    "The performance and memory taken up on a machine. In general the idea is shown below. \n",
    "\n",
    "A **deep copy** takes up double the amount of space, but prevents accidental data overrides. \n",
    "\n",
    "\n",
    "```\n",
    "A = [1, 2, 3, 4, 5]\n",
    "\n",
    "\n",
    "B = [1, 2, 3, 4, 5]\n",
    "```\n",
    "\n",
    "A **shallow copy** takes up a marginal amount of extra space but allows for changing of data.\n",
    "\n",
    "\n",
    "```\n",
    "A = [1, 2, 3, 4, 5]\n",
    "\n",
    "B => A\n",
    "```\n",
    "\n"
   ]
  },
  {
   "cell_type": "markdown",
   "metadata": {},
   "source": [
    "##### Number Fruits in a list -- mutated list version"
   ]
  },
  {
   "cell_type": "code",
   "execution_count": 109,
   "metadata": {
    "collapsed": false
   },
   "outputs": [
    {
     "name": "stdout",
     "output_type": "stream",
     "text": [
      "[{'apples': 10, 'pears': 15, 'plums': 4},\n",
      " {'carrots': 10, 'celery': 3, 'sprouts': 15}]\n",
      "\n",
      "[{'apples': 20, 'pears': 15, 'plums': 4},\n",
      " {'carrots': 10, 'celery': 3, 'sprouts': 15}]\n"
     ]
    }
   ],
   "source": [
    "from pprint import pprint\n",
    "\n",
    "number_of_fruits = {\n",
    "    'apples': 10,\n",
    "    'pears': 15,\n",
    "    'plums': 4\n",
    "}\n",
    "\n",
    "number_of_vegetables = {\n",
    "    'carrots': 10,\n",
    "    'celery': 3,\n",
    "    'sprouts': 15\n",
    "}\n",
    "\n",
    "food_amounts = [number_of_fruits, number_of_vegetables]\n",
    "\n",
    "pprint(food_amounts)\n",
    "\n",
    "## If I change the number_of_fruits it updates the values inside of food_amounts\n",
    "number_of_fruits['apples'] = 20\n",
    "\n",
    "print()\n",
    "pprint(food_amounts)\n",
    "\n"
   ]
  },
  {
   "cell_type": "markdown",
   "metadata": {},
   "source": [
    "##### Number Fruits in a dictionary -- setting up the data, base case"
   ]
  },
  {
   "cell_type": "code",
   "execution_count": 111,
   "metadata": {
    "collapsed": false
   },
   "outputs": [
    {
     "name": "stdout",
     "output_type": "stream",
     "text": [
      "{'fruit': {'apples': 10, 'pears': 15, 'plums': 4},\n",
      " 'vegetables': {'carrots': 10, 'celery': 3, 'sprouts': 15}}\n",
      "\n",
      "{'fruit': {'apples': 10, 'pears': 15, 'plums': 4},\n",
      " 'vegetables': {'carrots': 10, 'celery': 3, 'sprouts': 15}}\n"
     ]
    }
   ],
   "source": [
    "from pprint import pprint\n",
    "\n",
    "number_of_fruits = {\n",
    "    'apples': 10,\n",
    "    'pears': 15,\n",
    "    'plums': 4\n",
    "}\n",
    "\n",
    "number_of_vegetables = {\n",
    "    'carrots': 10,\n",
    "    'celery': 3,\n",
    "    'sprouts': 15\n",
    "}\n",
    "\n",
    "food_box_one = {\n",
    "    'fruit': number_of_fruits.copy(), # Do a copy so updating the number of fruits does not break them\n",
    "    'vegetables': number_of_vegetables.copy()\n",
    "}\n",
    "\n",
    "food_box_two = food_box_one.copy()\n",
    "\n",
    "number_of_fruits['apples'] = 100000\n",
    "\n",
    "# Currently the values are the same and 'apples' is not updated\n",
    "pprint(food_box_one)\n",
    "print()\n",
    "pprint(food_box_two)\n",
    "\n"
   ]
  },
  {
   "cell_type": "markdown",
   "metadata": {},
   "source": [
    "##### Number Fruits in a dictionary -- Shallow Copy\n"
   ]
  },
  {
   "cell_type": "code",
   "execution_count": 115,
   "metadata": {
    "collapsed": false
   },
   "outputs": [
    {
     "name": "stdout",
     "output_type": "stream",
     "text": [
      "Food box one\n",
      "{'fruit': {'apples': 25, 'pears': 15, 'plums': 4},\n",
      " 'vegetables': {'carrots': 10, 'celery': 3, 'sprouts': 15}}\n",
      "\n",
      "Food box two\n",
      "{'fruit': {'apples': 25, 'pears': 15, 'plums': 4},\n",
      " 'vegetables': {'carrots': 10, 'celery': 3, 'sprouts': 15}}\n"
     ]
    }
   ],
   "source": [
    "from pprint import pprint\n",
    "\n",
    "number_of_fruits = {\n",
    "    'apples': 10,\n",
    "    'pears': 15,\n",
    "    'plums': 4\n",
    "}\n",
    "\n",
    "number_of_vegetables = {\n",
    "    'carrots': 10,\n",
    "    'celery': 3,\n",
    "    'sprouts': 15\n",
    "}\n",
    "\n",
    "food_box_one = {\n",
    "    'fruit': number_of_fruits.copy(),\n",
    "    'vegetables': number_of_vegetables.copy()\n",
    "}\n",
    "\n",
    "food_box_two = food_box_one.copy()\n",
    "\n",
    "# Updating the fruits inside the food_box_one updates it inside of food_box_two\n",
    "food_box_one['fruit']['apples'] = 25\n",
    "\n",
    "print('Food box one')\n",
    "pprint(food_box_one)\n",
    "print()\n",
    "print('Food box two')\n",
    "pprint(food_box_two)\n",
    "\n"
   ]
  },
  {
   "cell_type": "markdown",
   "metadata": {},
   "source": [
    "##### Number Fruits in a dictionary -- Deep Copy\n"
   ]
  },
  {
   "cell_type": "code",
   "execution_count": 117,
   "metadata": {
    "collapsed": false
   },
   "outputs": [
    {
     "name": "stdout",
     "output_type": "stream",
     "text": [
      "Food box one\n",
      "{'fruit': {'apples': 25, 'pears': 15, 'plums': 4},\n",
      " 'vegetables': {'carrots': 10, 'celery': 3, 'sprouts': 15}}\n",
      "\n",
      "Food box two\n",
      "{'fruit': {'apples': 10, 'pears': 15, 'plums': 4},\n",
      " 'vegetables': {'carrots': 10, 'celery': 3, 'sprouts': 15}}\n"
     ]
    }
   ],
   "source": [
    "from copy import deepcopy\n",
    "from pprint import pprint\n",
    "\n",
    "number_of_fruits = {\n",
    "    'apples': 10,\n",
    "    'pears': 15,\n",
    "    'plums': 4\n",
    "}\n",
    "\n",
    "number_of_vegetables = {\n",
    "    'carrots': 10,\n",
    "    'celery': 3,\n",
    "    'sprouts': 15\n",
    "}\n",
    "\n",
    "food_box_one = {\n",
    "    'fruit': number_of_fruits.copy(),\n",
    "    'vegetables': number_of_vegetables.copy()\n",
    "}\n",
    "\n",
    "food_box_two = deepcopy(food_box_one)\n",
    "\n",
    "# Updating the fruits inside the food_box_one updates it inside of food_box_two\n",
    "food_box_one['fruit']['apples'] = 25\n",
    "\n",
    "print('Food box one')\n",
    "pprint(food_box_one)\n",
    "\n",
    "print()\n",
    "print('Food box two')\n",
    "pprint(food_box_two)\n",
    "\n"
   ]
  },
  {
   "cell_type": "markdown",
   "metadata": {},
   "source": [
    "## Example with Chores, People, Rooms, and cleaning\n",
    "\n",
    "This example will use lists and dictionaries to setup who chould do which chores in a home. \n",
    "\n",
    "#### Key Concepts\n",
    "\n",
    "* Lists\n",
    "* Dictionaries\n",
    "* Iteration\n",
    "* Nested loop avoidance strategies via dictionaires"
   ]
  },
  {
   "cell_type": "markdown",
   "metadata": {},
   "source": [
    "### Room setup"
   ]
  },
  {
   "cell_type": "code",
   "execution_count": 118,
   "metadata": {
    "collapsed": false
   },
   "outputs": [
    {
     "name": "stdout",
     "output_type": "stream",
     "text": [
      "{'attic': ['sweeping', 'vacuuming', 'dusting', 'windows'],\n",
      " 'basement': ['sweeping', 'vacuuming', 'dusting', 'windows'],\n",
      " 'bedroom_one': ['sweeping', 'vacuuming', 'dusting', 'windows'],\n",
      " 'bedroom_three': ['sweeping', 'vacuuming', 'dusting', 'windows'],\n",
      " 'bedroom_two': ['sweeping', 'vacuuming', 'dusting', 'windows'],\n",
      " 'dining_room': ['sweeping', 'vacuuming', 'dusting', 'windows'],\n",
      " 'kitchen': ['sweeping', 'vacuuming', 'dusting', 'windows'],\n",
      " 'living_room': ['sweeping', 'vacuuming', 'dusting', 'windows'],\n",
      " 'master_bedroom': ['sweeping', 'vacuuming', 'dusting', 'windows']}\n"
     ]
    }
   ],
   "source": [
    "from pprint import pprint\n",
    "\n",
    "chores = ['sweeping', 'vacuuming', 'dusting', 'windows']\n",
    "people = ['kid_one', 'kid_two', 'adult_one', 'adult_two']\n",
    "rooms = [\n",
    "    'kitchen', 'living_room', 'dining_room', 'bedroom_one',\n",
    "    'bedroom_two', 'master_bedroom', 'bedroom_three', 'basement',\n",
    "    'attic'\n",
    "]\n",
    "\n",
    "rooms_with_size = {\n",
    "    'kitchen': 400,\n",
    "    'living_room': 200,\n",
    "    'dining_room': 250,\n",
    "    'bedroom_one': 400,\n",
    "    'bedroom_two': 300,\n",
    "    'master_bedroom': 350,\n",
    "    'bedroom_three': 200,\n",
    "    'basement': 800,\n",
    "    'attic': 475\n",
    "}\n",
    "\n",
    "# Assign the chores to each room\n",
    "rooms_with_chores = {}\n",
    "for room in rooms:\n",
    "    rooms_with_chores[room] = chores.copy()\n",
    "    \n",
    "pprint(rooms_with_chores)"
   ]
  },
  {
   "cell_type": "markdown",
   "metadata": {},
   "source": [
    "### Room and chore setup"
   ]
  },
  {
   "cell_type": "code",
   "execution_count": 120,
   "metadata": {
    "collapsed": false
   },
   "outputs": [
    {
     "name": "stdout",
     "output_type": "stream",
     "text": [
      "{'adult_one': [],\n",
      " 'adult_two': ['attic', 'bedroom_two', 'kitchen'],\n",
      " 'kid_one': ['bedroom_one', 'dining_room', 'bedroom_three'],\n",
      " 'kid_two': ['master_bedroom', 'living_room', 'basement']}\n"
     ]
    }
   ],
   "source": [
    "from pprint import pprint\n",
    "from random import choice\n",
    "\n",
    "chores = ['sweeping', 'vacuuming', 'dusting', 'windows']\n",
    "people = ['kid_one', 'kid_two', 'adult_one', 'adult_two']\n",
    "rooms = [\n",
    "    'kitchen', 'living_room', 'dining_room', 'bedroom_one',\n",
    "    'bedroom_two', 'master_bedroom', 'bedroom_three', 'basement',\n",
    "    'attic'\n",
    "]\n",
    "\n",
    "rooms_with_size = {\n",
    "    'kitchen': 400,\n",
    "    'living_room': 200,\n",
    "    'dining_room': 250,\n",
    "    'bedroom_one': 400,\n",
    "    'bedroom_two': 300,\n",
    "    'master_bedroom': 350,\n",
    "    'bedroom_three': 200,\n",
    "    'basement': 800,\n",
    "    'attic': 475\n",
    "}\n",
    "\n",
    "# Assign the chores to each room\n",
    "rooms_with_chores = {}\n",
    "for room in rooms:\n",
    "    rooms_with_chores[room] = chores.copy()\n",
    "    \n",
    "\n",
    "# Assign rooms to people\n",
    "people_with_rooms = {}\n",
    "rooms_to_clean = rooms.copy()\n",
    "\n",
    "while len(rooms_to_clean) > 0:\n",
    "    \n",
    "    # Randomly assign a person to a chore\n",
    "    person = choice(people) \n",
    "    room = choice(rooms_to_clean)\n",
    "    \n",
    "    # Need to make sure we only add rooms to the list of rooms\n",
    "    # if the person has already been given at least one room\n",
    "    if person in people_with_rooms:\n",
    "        people_with_rooms[person].append(room)\n",
    "    else:\n",
    "        people_with_rooms[person] = [room]\n",
    "    \n",
    "    # This ensures we stop our loop at some point\n",
    "    rooms_to_clean.remove(room)\n",
    "\n",
    "# Ensure everyone has something to clean, even if it's no rooms at all\n",
    "for person in people:\n",
    "    if person not in people_with_rooms:\n",
    "        people_with_rooms[person] = []\n",
    "\n",
    "# Show which rooms are assigned to which people\n",
    "pprint(people_with_rooms)\n"
   ]
  },
  {
   "cell_type": "markdown",
   "metadata": {},
   "source": [
    "### Figure out how much each person cleans -- takes more CPU time"
   ]
  },
  {
   "cell_type": "code",
   "execution_count": 123,
   "metadata": {
    "collapsed": false
   },
   "outputs": [
    {
     "name": "stdout",
     "output_type": "stream",
     "text": [
      "{'adult_one': 1200, 'adult_two': 1075, 'kid_one': 0, 'kid_two': 1100}\n"
     ]
    }
   ],
   "source": [
    "from pprint import pprint\n",
    "from random import choice\n",
    "\n",
    "chores = ['sweeping', 'vacuuming', 'dusting', 'windows']\n",
    "people = ['kid_one', 'kid_two', 'adult_one', 'adult_two']\n",
    "rooms = [\n",
    "    'kitchen', 'living_room', 'dining_room', 'bedroom_one',\n",
    "    'bedroom_two', 'master_bedroom', 'bedroom_three', 'basement',\n",
    "    'attic'\n",
    "]\n",
    "\n",
    "rooms_with_size = {\n",
    "    'kitchen': 400,\n",
    "    'living_room': 200,\n",
    "    'dining_room': 250,\n",
    "    'bedroom_one': 400,\n",
    "    'bedroom_two': 300,\n",
    "    'master_bedroom': 350,\n",
    "    'bedroom_three': 200,\n",
    "    'basement': 800,\n",
    "    'attic': 475\n",
    "}\n",
    "\n",
    "# Assign the chores to each room\n",
    "rooms_with_chores = {}\n",
    "for room in rooms:\n",
    "    rooms_with_chores[room] = chores.copy()\n",
    "    \n",
    "\n",
    "# Assign rooms to people\n",
    "people_with_rooms = {}\n",
    "rooms_to_clean = rooms.copy()\n",
    "\n",
    "while len(rooms_to_clean) > 0:\n",
    "    \n",
    "    # Randomly assign a person to a chore\n",
    "    person = choice(people) \n",
    "    room = choice(rooms_to_clean)\n",
    "    \n",
    "    # Need to make sure we only add rooms to the list of rooms\n",
    "    # if the person has already been given at least one room\n",
    "    if person in people_with_rooms:\n",
    "        people_with_rooms[person].append(room)\n",
    "    else:\n",
    "        people_with_rooms[person] = [room]\n",
    "    \n",
    "    # This ensures we stop our loop at some point\n",
    "    rooms_to_clean.remove(room)\n",
    "\n",
    "# Ensure everyone has something to clean, even if it's no rooms at all\n",
    "for person in people:\n",
    "    if person not in people_with_rooms:\n",
    "        people_with_rooms[person] = []\n",
    "\n",
    "\n",
    "# Less efficient way to \n",
    "amount_cleaned_by_person = {}\n",
    "for person, rooms in people_with_rooms.items():\n",
    "    \n",
    "    amount_cleaned_by_person[person] = 0\n",
    "    \n",
    "    for room in rooms:\n",
    "        amount_cleaned_by_person[person] += rooms_with_size[room]\n",
    "\n",
    "pprint(amount_cleaned_by_person)\n"
   ]
  },
  {
   "cell_type": "markdown",
   "metadata": {},
   "source": [
    "### Figure out how much each person cleans -- takes less CPU time"
   ]
  },
  {
   "cell_type": "code",
   "execution_count": 124,
   "metadata": {
    "collapsed": false
   },
   "outputs": [
    {
     "name": "stdout",
     "output_type": "stream",
     "text": [
      "{'adult_one': 800, 'adult_two': 1350, 'kid_one': 450, 'kid_two': 775}\n"
     ]
    }
   ],
   "source": [
    "from pprint import pprint\n",
    "from random import choice\n",
    "\n",
    "chores = ['sweeping', 'vacuuming', 'dusting', 'windows']\n",
    "people = ['kid_one', 'kid_two', 'adult_one', 'adult_two']\n",
    "rooms = [\n",
    "    'kitchen', 'living_room', 'dining_room', 'bedroom_one',\n",
    "    'bedroom_two', 'master_bedroom', 'bedroom_three', 'basement',\n",
    "    'attic'\n",
    "]\n",
    "\n",
    "rooms_with_size = {\n",
    "    'kitchen': 400,\n",
    "    'living_room': 200,\n",
    "    'dining_room': 250,\n",
    "    'bedroom_one': 400,\n",
    "    'bedroom_two': 300,\n",
    "    'master_bedroom': 350,\n",
    "    'bedroom_three': 200,\n",
    "    'basement': 800,\n",
    "    'attic': 475\n",
    "}\n",
    "\n",
    "# Assign the chores to each room\n",
    "rooms_with_chores = {}\n",
    "for room in rooms:\n",
    "    rooms_with_chores[room] = chores.copy()\n",
    "    \n",
    "\n",
    "# Assign rooms to people AND how much they will clean\n",
    "people_with_rooms = {}\n",
    "rooms_to_clean = rooms.copy()\n",
    "\n",
    "# Setup the amount cleaned by each person -- which is 0 to start\n",
    "amount_cleaned_by_person = {}\n",
    "for person in people:\n",
    "    amount_cleaned_by_person[person] = 0\n",
    "\n",
    "while len(rooms_to_clean) > 0:\n",
    "    \n",
    "    # Randomly assign a person to a chore\n",
    "    person = choice(people) \n",
    "    room = choice(rooms_to_clean)\n",
    "    \n",
    "    # Need to make sure we only add rooms to the list of rooms\n",
    "    # if the person has already been given at least one room\n",
    "    if person in people_with_rooms:\n",
    "        people_with_rooms[person].append(room)\n",
    "    else:\n",
    "        people_with_rooms[person] = [room]\n",
    "    \n",
    "    # Add the amount cleaned by the person to the list\n",
    "    amount_cleaned_by_person[person] += rooms_with_size[room]\n",
    "    \n",
    "    # This ensures we stop our loop at some point\n",
    "    rooms_to_clean.remove(room)\n",
    "\n",
    "# Ensure everyone has something to clean, even if it's no rooms at all\n",
    "for person in people:\n",
    "    if person not in people_with_rooms:\n",
    "        people_with_rooms[person] = []\n",
    "\n",
    "\n",
    "# See that the amount cleaned by each person is still show here\n",
    "pprint(amount_cleaned_by_person)\n",
    "\n"
   ]
  },
  {
   "cell_type": "markdown",
   "metadata": {},
   "source": [
    "### Further analysis on who did what cleaning"
   ]
  },
  {
   "cell_type": "code",
   "execution_count": 125,
   "metadata": {
    "collapsed": false
   },
   "outputs": [
    {
     "name": "stdout",
     "output_type": "stream",
     "text": [
      "Average amount cleaned per person: 843.75\n",
      "Maximum amount cleaned: 1350 ['adult_two']\n",
      "Minimum amount cleaned: 600 ['kid_one']\n"
     ]
    }
   ],
   "source": [
    "from statistics import mean\n",
    "\n",
    "cleaned = {'adult_one': 700, 'adult_two': 1350, 'kid_one': 600, 'kid_two': 725}\n",
    "\n",
    "rooms = [\n",
    "    'kitchen', 'living_room', 'dining_room', 'bedroom_one',\n",
    "    'bedroom_two', 'master_bedroom', 'bedroom_three', 'basement',\n",
    "    'attic'\n",
    "]\n",
    "\n",
    "values = cleaned.values()\n",
    "\n",
    "average = mean(values)\n",
    "maximum = max(values)\n",
    "minimum = min(values)\n",
    "\n",
    "max_persons = []\n",
    "min_persons = []\n",
    "for person, value in cleaned.items():\n",
    "    if value == maximum:\n",
    "        max_persons.append(person)\n",
    "    \n",
    "    if value == minimum:\n",
    "        min_persons.append(person)\n",
    "\n",
    "print('Average amount cleaned per person:', average)\n",
    "print('Maximum amount cleaned:', maximum, max_persons)\n",
    "print('Minimum amount cleaned:', minimum, min_persons)"
   ]
  },
  {
   "cell_type": "code",
   "execution_count": 132,
   "metadata": {
    "collapsed": false
   },
   "outputs": [
    {
     "name": "stdout",
     "output_type": "stream",
     "text": [
      "Please enter some text.  Lorem ipsum dolor sit amet, consectetur adipiscing elit. Nunc accumsan sem ut ligula scelerisque sollicitudin. Ut at sagittis augue. Praesent quis rhoncus justo. Aliquam erat volutpat. Donec sit amet suscipit metus, non lobortis massa. Vestibulum augue ex, dapibus ac suscipit vel, volutpat eget massa. Donec nec velit non ligula efficitur luctus\n",
      "  50\n",
      ", 4\n",
      ". 7\n",
      "A 1\n",
      "D 2\n",
      "L 1\n",
      "P 1\n",
      "U 1\n",
      "V 1\n",
      "a 22\n",
      "b 3\n",
      "c 17\n",
      "d 4\n",
      "e 26\n",
      "f 2\n",
      "g 7\n",
      "h 1\n",
      "i 27\n",
      "j 1\n",
      "l 17\n",
      "m 11\n",
      "n 14\n",
      "o 15\n",
      "p 7\n",
      "q 3\n",
      "r 9\n",
      "s 29\n",
      "t 29\n",
      "u 28\n",
      "v 4\n",
      "x 1\n",
      "dict_keys(['a', 'x', 's', '.', 'A', 'e', 'h', 'b', 'L', ' ', 'v', 'p', 'i', 't', 'u', 'q', 'm', 'V', 'o', 'n', 'D', 'l', 'd', 'U', 'r', 'P', ',', 'g', 'c', 'j', 'f'])\n"
     ]
    }
   ],
   "source": [
    "## Studio:\n",
    "\n",
    "text = input(\"Please enter some text.  \")       # USER INPUT\n",
    "\n",
    "characters = \"ABCDEFGHIJKLMOPQURSTUVWXYZabcdefghijklmnopqrstuvwxyz,.!? \"\n",
    "\n",
    "count = {}                                      # initialize the dictionary\n",
    "\n",
    "for char in text:\n",
    "    if char in characters:\n",
    "        if char in count:\n",
    "            count[char] = count[char] + 1       # add to the dictionary\n",
    "        else:\n",
    "            count[char] = 1                     # build the dictionary\n",
    "\n",
    "s = sorted(count.keys())                        # sort the return\n",
    "for key in s:\n",
    "    print(key, count[key])\n",
    "    \n",
    "print(count.keys())"
   ]
  },
  {
   "cell_type": "markdown",
   "metadata": {},
   "source": [
    "## Advent code\n",
    "\n",
    "https://lc101-advent.herokuapp.com/"
   ]
  },
  {
   "cell_type": "code",
   "execution_count": null,
   "metadata": {
    "collapsed": true
   },
   "outputs": [],
   "source": []
  },
  {
   "cell_type": "code",
   "execution_count": null,
   "metadata": {
    "collapsed": true
   },
   "outputs": [],
   "source": [
    "https://lc101-advent.herokuapp.com/"
   ]
  }
 ],
 "metadata": {
  "kernelspec": {
   "display_name": "Python 3",
   "language": "python",
   "name": "python3"
  },
  "language_info": {
   "codemirror_mode": {
    "name": "ipython",
    "version": 3
   },
   "file_extension": ".py",
   "mimetype": "text/x-python",
   "name": "python",
   "nbconvert_exporter": "python",
   "pygments_lexer": "ipython3",
   "version": "3.5.2"
  }
 },
 "nbformat": 4,
 "nbformat_minor": 1
}
