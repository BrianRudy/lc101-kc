{
 "cells": [
  {
   "cell_type": "markdown",
   "metadata": {},
   "source": [
    "# Inheritance\n",
    "\n",
    "Using a more realistic example with \"Streams\". In software development streams are used to communicate information. Sometimes they may be user input, files, or something else entirely. \n",
    "\n",
    "The goal with these \"Streams\" is to convey a more realistic use for class inheritance."
   ]
  },
  {
   "cell_type": "markdown",
   "metadata": {},
   "source": [
    "## Less realistic example first"
   ]
  },
  {
   "cell_type": "code",
   "execution_count": 73,
   "metadata": {
    "collapsed": false
   },
   "outputs": [
    {
     "name": "stdout",
     "output_type": "stream",
     "text": [
      "None\n",
      "Some Name of classification mammal says None\n"
     ]
    }
   ],
   "source": [
    "class Animal:\n",
    "    \n",
    "    def __init__(self, name):\n",
    "        self.name = name\n",
    "    \n",
    "    def pretty_version(self):\n",
    "        return self.name\n",
    "    \n",
    "    def speak(self):\n",
    "        pass\n",
    "    \n",
    "    def __str__(self):\n",
    "        return '{} says {}'.format(self.pretty_version(), self.speak())\n",
    "    \n",
    "\n",
    "class Mammal(Animal):\n",
    "    \n",
    "    def __init__(self, name):\n",
    "        super().__init__(name)\n",
    "        self.classification = 'mammal'\n",
    "    \n",
    "    def pretty_version(self):\n",
    "        return '{} of classification {}'.format(self.name, self.classification)\n",
    "\n",
    "some_animal = Mammal('Some Name')\n",
    "\n",
    "print(some_animal.speak())\n",
    "print(some_animal)\n",
    "\n",
    "\n",
    "    \n",
    "    "
   ]
  },
  {
   "cell_type": "code",
   "execution_count": 74,
   "metadata": {
    "collapsed": false
   },
   "outputs": [
    {
     "name": "stdout",
     "output_type": "stream",
     "text": [
      "bark\n",
      "Rover of classification mammal says bark \n",
      "\n",
      "bark\n",
      "Carl of classification mammal says bark \n",
      "\n",
      "bark\n",
      "Sally of classification mammal says bark \n",
      "\n",
      "bark\n",
      "Baxter of classification mammal says bark \n",
      "\n"
     ]
    }
   ],
   "source": [
    "class Dog(Mammal):\n",
    "    \n",
    "    def speak(self):\n",
    "        return 'bark'\n",
    "    \n",
    "\n",
    "dog_names = ['Rover', 'Carl', 'Sally', 'Baxter']\n",
    "\n",
    "for name in dog_names:\n",
    "    new_dog = Dog(name)\n",
    "    \n",
    "    print(new_dog.speak())\n",
    "    print(new_dog,'\\n')"
   ]
  },
  {
   "cell_type": "code",
   "execution_count": 86,
   "metadata": {
    "collapsed": false
   },
   "outputs": [
    {
     "name": "stdout",
     "output_type": "stream",
     "text": [
      "bad cat call RAWR\n",
      "good cat call meow\n"
     ]
    }
   ],
   "source": [
    "class WildCat:\n",
    "    def __init__(self, name):\n",
    "        \n",
    "        self.name = name\n",
    "    \n",
    "    def speak(self):\n",
    "        return 'RAWR'\n",
    "        \n",
    "    def __str__(self):\n",
    "        return self.name\n",
    "\n",
    "    \n",
    "class DemesticCat(WildCat):\n",
    "    \n",
    "    def speak(self):\n",
    "        return 'meow'\n",
    "\n",
    "class BadSuperHouseCat(DemesticCat):\n",
    "    \n",
    "    def speak(self):\n",
    "        return WildCat.speak(self)\n",
    "\n",
    "    \n",
    "class GoodSuperHouseCat(DemesticCat):\n",
    "    \n",
    "    def speak(self):\n",
    "        return super().speak()\n",
    "\n",
    "\n",
    "        \n",
    "bad_super_cat = BadSuperHouseCat('bill')\n",
    "\n",
    "print('bad cat call', bad_super_cat.speak())\n",
    "\n",
    "good_super_cat = GoodSuperHouseCat('bill')\n",
    "\n",
    "print('good cat call', good_super_cat.speak())"
   ]
  },
  {
   "cell_type": "code",
   "execution_count": 92,
   "metadata": {
    "collapsed": false
   },
   "outputs": [
    {
     "data": {
      "text/plain": [
       "\"meow says None says they like <class '__main__.Default'>\""
      ]
     },
     "execution_count": 92,
     "metadata": {},
     "output_type": "execute_result"
    }
   ],
   "source": [
    "class Default():\n",
    "    pass\n",
    "\n",
    "second_arg = Default\n",
    "first_arg = Animal('meow')\n",
    "\"{name} says they like {sound}\".format(\n",
    "    name=first_arg, \n",
    "    sound=second_arg)"
   ]
  },
  {
   "cell_type": "markdown",
   "metadata": {},
   "source": [
    "## Using Read Streams"
   ]
  },
  {
   "cell_type": "code",
   "execution_count": 93,
   "metadata": {
    "collapsed": false
   },
   "outputs": [
    {
     "ename": "NotImplementedError",
     "evalue": "The sub class must implement the `read` method",
     "output_type": "error",
     "traceback": [
      "\u001b[0;31m------------------------------------------\u001b[0m",
      "\u001b[0;31mNotImplementedError\u001b[0mTraceback (most recent call last)",
      "\u001b[0;32m<ipython-input-93-a6c1b0de25a5>\u001b[0m in \u001b[0;36m<module>\u001b[0;34m()\u001b[0m\n\u001b[1;32m     14\u001b[0m \u001b[0mread_stream_instance\u001b[0m \u001b[0;34m=\u001b[0m \u001b[0mReadStream\u001b[0m\u001b[0;34m(\u001b[0m\u001b[0;34m'some data'\u001b[0m\u001b[0;34m)\u001b[0m\u001b[0;34m\u001b[0m\u001b[0m\n\u001b[1;32m     15\u001b[0m \u001b[0;34m\u001b[0m\u001b[0m\n\u001b[0;32m---> 16\u001b[0;31m \u001b[0mread_stream_instance\u001b[0m\u001b[0;34m.\u001b[0m\u001b[0mprint_read\u001b[0m\u001b[0;34m(\u001b[0m\u001b[0;34m)\u001b[0m\u001b[0;34m\u001b[0m\u001b[0m\n\u001b[0m",
      "\u001b[0;32m<ipython-input-93-a6c1b0de25a5>\u001b[0m in \u001b[0;36mprint_read\u001b[0;34m(self)\u001b[0m\n\u001b[1;32m     10\u001b[0m \u001b[0;34m\u001b[0m\u001b[0m\n\u001b[1;32m     11\u001b[0m     \u001b[0;32mdef\u001b[0m \u001b[0mprint_read\u001b[0m\u001b[0;34m(\u001b[0m\u001b[0mself\u001b[0m\u001b[0;34m)\u001b[0m\u001b[0;34m:\u001b[0m\u001b[0;34m\u001b[0m\u001b[0m\n\u001b[0;32m---> 12\u001b[0;31m         \u001b[0mprint\u001b[0m\u001b[0;34m(\u001b[0m\u001b[0mself\u001b[0m\u001b[0;34m.\u001b[0m\u001b[0mread\u001b[0m\u001b[0;34m(\u001b[0m\u001b[0;34m)\u001b[0m\u001b[0;34m)\u001b[0m\u001b[0;34m\u001b[0m\u001b[0m\n\u001b[0m\u001b[1;32m     13\u001b[0m \u001b[0;34m\u001b[0m\u001b[0m\n\u001b[1;32m     14\u001b[0m \u001b[0mread_stream_instance\u001b[0m \u001b[0;34m=\u001b[0m \u001b[0mReadStream\u001b[0m\u001b[0;34m(\u001b[0m\u001b[0;34m'some data'\u001b[0m\u001b[0;34m)\u001b[0m\u001b[0;34m\u001b[0m\u001b[0m\n",
      "\u001b[0;32m<ipython-input-93-a6c1b0de25a5>\u001b[0m in \u001b[0;36mread\u001b[0;34m(self)\u001b[0m\n\u001b[1;32m      7\u001b[0m \u001b[0;34m\u001b[0m\u001b[0m\n\u001b[1;32m      8\u001b[0m     \u001b[0;32mdef\u001b[0m \u001b[0mread\u001b[0m\u001b[0;34m(\u001b[0m\u001b[0mself\u001b[0m\u001b[0;34m)\u001b[0m\u001b[0;34m:\u001b[0m\u001b[0;34m\u001b[0m\u001b[0m\n\u001b[0;32m----> 9\u001b[0;31m         \u001b[0;32mraise\u001b[0m \u001b[0mNotImplementedError\u001b[0m\u001b[0;34m(\u001b[0m\u001b[0;34m'The sub class must implement the `read` method'\u001b[0m\u001b[0;34m)\u001b[0m\u001b[0;34m\u001b[0m\u001b[0m\n\u001b[0m\u001b[1;32m     10\u001b[0m \u001b[0;34m\u001b[0m\u001b[0m\n\u001b[1;32m     11\u001b[0m     \u001b[0;32mdef\u001b[0m \u001b[0mprint_read\u001b[0m\u001b[0;34m(\u001b[0m\u001b[0mself\u001b[0m\u001b[0;34m)\u001b[0m\u001b[0;34m:\u001b[0m\u001b[0;34m\u001b[0m\u001b[0m\n",
      "\u001b[0;31mNotImplementedError\u001b[0m: The sub class must implement the `read` method"
     ]
    }
   ],
   "source": [
    "class ReadStream:\n",
    "    \"\"\"\n",
    "    Base class for reading data.\n",
    "    \"\"\"\n",
    "    def __init__(self, source=None):\n",
    "        self.source = source\n",
    "    \n",
    "    def read(self):\n",
    "        raise NotImplementedError('The sub class must implement the `read` method')\n",
    "    \n",
    "    def print_read(self):\n",
    "        print(self.read())\n",
    "\n",
    "read_stream_instance = ReadStream('some data')\n",
    "\n",
    "read_stream_instance.print_read()"
   ]
  },
  {
   "cell_type": "markdown",
   "metadata": {},
   "source": [
    "### Using standard input as the read"
   ]
  },
  {
   "cell_type": "code",
   "execution_count": 94,
   "metadata": {
    "collapsed": false
   },
   "outputs": [
    {
     "name": "stdout",
     "output_type": "stream",
     "text": [
      "How many dogs do you want? I want a lot dogs\n",
      "I want a lot dogs\n"
     ]
    }
   ],
   "source": [
    "class InputReadStream(ReadStream):\n",
    "    \"\"\"\n",
    "    Used to read data from standard input\n",
    "    \"\"\"    \n",
    "    def read(self):\n",
    "        return input(self.source)\n",
    "\n",
    "\n",
    "input_read_stream_instance = InputReadStream('How many dogs do you want? ')\n",
    "\n",
    "\n",
    "input_read_stream_instance.print_read()"
   ]
  },
  {
   "cell_type": "markdown",
   "metadata": {},
   "source": [
    "### Input with a URL"
   ]
  },
  {
   "cell_type": "code",
   "execution_count": 95,
   "metadata": {
    "collapsed": false
   },
   "outputs": [
    {
     "name": "stdout",
     "output_type": "stream",
     "text": [
      "Small example text from the internet.\n"
     ]
    }
   ],
   "source": [
    "import requests # This is a library used to make HTTP web requests\n",
    "\n",
    "class UrlReadStream(ReadStream):\n",
    "    \"\"\"\n",
    "    Used to read data from a URL\n",
    "    \"\"\"\n",
    "    \n",
    "    def read(self):\n",
    "        return requests.get(self.source).text\n",
    "\n",
    "    \n",
    "url_read_stream_instance = UrlReadStream('https://goo.gl/r7BDx9')\n",
    "\n",
    "\n",
    "\n",
    "url_read_stream_instance.print_read()"
   ]
  },
  {
   "cell_type": "markdown",
   "metadata": {},
   "source": [
    "### Input using a file"
   ]
  },
  {
   "cell_type": "code",
   "execution_count": 96,
   "metadata": {
    "collapsed": false
   },
   "outputs": [
    {
     "name": "stdout",
     "output_type": "stream",
     "text": [
      "Some simple text in a file\n",
      "\n"
     ]
    }
   ],
   "source": [
    "class FileReadStream(ReadStream):\n",
    "    \"\"\"\n",
    "    Used to read data from a URL\n",
    "    \"\"\"\n",
    "    \n",
    "    def read(self):\n",
    "        return open(self.source, 'r').read()\n",
    "\n",
    "\n",
    "# This works because there is a file within this directory called `smimple_text.txt`\n",
    "file_read_stream_instance = FileReadStream('simple_text.txt')\n",
    "\n",
    "file_read_stream_instance.print_read()\n"
   ]
  },
  {
   "cell_type": "markdown",
   "metadata": {},
   "source": [
    "## Using Write Streams "
   ]
  },
  {
   "cell_type": "code",
   "execution_count": 98,
   "metadata": {
    "collapsed": false
   },
   "outputs": [
    {
     "ename": "NotImplementedError",
     "evalue": "Subclass must implement `write` method",
     "output_type": "error",
     "traceback": [
      "\u001b[0;31m------------------------------------------\u001b[0m",
      "\u001b[0;31mNotImplementedError\u001b[0mTraceback (most recent call last)",
      "\u001b[0;32m<ipython-input-98-2a113fc6b76c>\u001b[0m in \u001b[0;36m<module>\u001b[0;34m()\u001b[0m\n\u001b[1;32m     13\u001b[0m \u001b[0mwrite_stream_instance\u001b[0m \u001b[0;34m=\u001b[0m \u001b[0mWriteStream\u001b[0m\u001b[0;34m(\u001b[0m\u001b[0;34m'some_source_data'\u001b[0m\u001b[0;34m,\u001b[0m \u001b[0;34m'sample_output_file.txt'\u001b[0m\u001b[0;34m)\u001b[0m\u001b[0;34m\u001b[0m\u001b[0m\n\u001b[1;32m     14\u001b[0m \u001b[0;34m\u001b[0m\u001b[0m\n\u001b[0;32m---> 15\u001b[0;31m \u001b[0mwrite_stream_instance\u001b[0m\u001b[0;34m.\u001b[0m\u001b[0mwrite\u001b[0m\u001b[0;34m(\u001b[0m\u001b[0;34m)\u001b[0m\u001b[0;34m\u001b[0m\u001b[0m\n\u001b[0m",
      "\u001b[0;32m<ipython-input-98-2a113fc6b76c>\u001b[0m in \u001b[0;36mwrite\u001b[0;34m(self)\u001b[0m\n\u001b[1;32m      8\u001b[0m \u001b[0;34m\u001b[0m\u001b[0m\n\u001b[1;32m      9\u001b[0m     \u001b[0;32mdef\u001b[0m \u001b[0mwrite\u001b[0m\u001b[0;34m(\u001b[0m\u001b[0mself\u001b[0m\u001b[0;34m)\u001b[0m\u001b[0;34m:\u001b[0m\u001b[0;34m\u001b[0m\u001b[0m\n\u001b[0;32m---> 10\u001b[0;31m         \u001b[0;32mraise\u001b[0m \u001b[0mNotImplementedError\u001b[0m\u001b[0;34m(\u001b[0m\u001b[0;34m'Subclass must implement `write` method'\u001b[0m\u001b[0;34m)\u001b[0m\u001b[0;34m\u001b[0m\u001b[0m\n\u001b[0m\u001b[1;32m     11\u001b[0m \u001b[0;34m\u001b[0m\u001b[0m\n\u001b[1;32m     12\u001b[0m \u001b[0;34m\u001b[0m\u001b[0m\n",
      "\u001b[0;31mNotImplementedError\u001b[0m: Subclass must implement `write` method"
     ]
    }
   ],
   "source": [
    "class WriteStream:\n",
    "    \"\"\"\n",
    "    Base class for writing data.\n",
    "    \"\"\"\n",
    "    def __init__(self, source_data, destination=None):\n",
    "        self.source_data = source_data\n",
    "        self.destination = destination\n",
    "    \n",
    "    def write(self):\n",
    "        raise NotImplementedError('Subclass must implement `write` method')\n",
    "\n",
    "\n",
    "write_stream_instance = WriteStream('some_source_data', 'sample_output_file.txt')\n",
    "\n",
    "write_stream_instance.write()"
   ]
  },
  {
   "cell_type": "markdown",
   "metadata": {},
   "source": [
    "### Writing to standard out"
   ]
  },
  {
   "cell_type": "code",
   "execution_count": 99,
   "metadata": {
    "collapsed": false
   },
   "outputs": [
    {
     "name": "stdout",
     "output_type": "stream",
     "text": [
      "some little data"
     ]
    }
   ],
   "source": [
    "import sys\n",
    "class OutputWriteStream(WriteStream):\n",
    "    \"\"\"\n",
    "    Used to write data to a file\n",
    "    \"\"\"    \n",
    "    def write(self):\n",
    "        sys.stdout.write(self.source_data)\n",
    "\n",
    "file_write_stream_instance = OutputWriteStream('some little data')\n",
    "\n",
    "file_write_stream_instance.write()"
   ]
  },
  {
   "cell_type": "markdown",
   "metadata": {},
   "source": [
    "### Writing to a file"
   ]
  },
  {
   "cell_type": "code",
   "execution_count": 102,
   "metadata": {
    "collapsed": false
   },
   "outputs": [
    {
     "name": "stdout",
     "output_type": "stream",
     "text": [
      "Wrote to file: sample_output_file.txt\n"
     ]
    }
   ],
   "source": [
    "class FileWriteStream(WriteStream):\n",
    "    \"\"\"\n",
    "    Used to write data to standard out\n",
    "    \"\"\"    \n",
    "    def write(self):\n",
    "        file = open(self.destination, 'w')\n",
    "        file.write(self.source_data)\n",
    "        print('Wrote to file: {}'.format(self.destination))\n",
    "\n",
    "output_write_stream_instance = FileWriteStream('some other data that I wrote', 'sample_output_file.txt')\n",
    "\n",
    "output_write_stream_instance.write()"
   ]
  },
  {
   "cell_type": "code",
   "execution_count": 103,
   "metadata": {
    "collapsed": false
   },
   "outputs": [
    {
     "name": "stdout",
     "output_type": "stream",
     "text": [
      "some other data that I wrote\n"
     ]
    }
   ],
   "source": [
    "## Read the sample output file\n",
    "\n",
    "file_name = 'sample_output_file.txt'\n",
    "\n",
    "sample_output_file = FileReadStream(file_name)\n",
    "\n",
    "sample_output_file.print_read()"
   ]
  },
  {
   "cell_type": "markdown",
   "metadata": {},
   "source": [
    "## Read and Write to file in one class"
   ]
  },
  {
   "cell_type": "code",
   "execution_count": 104,
   "metadata": {
    "collapsed": false
   },
   "outputs": [
    {
     "name": "stdout",
     "output_type": "stream",
     "text": [
      "Wrote to file: simple_copy_data.txt\n",
      "Wrote to file: simple_copy_of_data_file.txt\n",
      "\n",
      "The data in the destiation file reads:\n",
      "baby data\n",
      "\n",
      "Wrote to file: simple_copy_of_data_file.txt\n",
      "\n",
      "The data in the destiation file reads:\n",
      "Some data that needs to be copied\n"
     ]
    }
   ],
   "source": [
    "class CopyFile:\n",
    "    \n",
    "    def __init__(self, read_file, write_file):\n",
    "        self.read_file = read_file\n",
    "        self.write_file = write_file\n",
    "        \n",
    "    def copy(self):\n",
    "        read_file = FileReadStream(self.read_file)\n",
    "        write_file = FileWriteStream(read_file.read(), self.write_file)\n",
    "        write_file.write()\n",
    "        \n",
    "source_file_name = 'simple_copy_data.txt'\n",
    "destination_file_name = 'simple_copy_of_data_file.txt'\n",
    "\n",
    "# Create the first file\n",
    "new_sample_file = FileWriteStream('Some data that needs to be copied', source_file_name)\n",
    "new_sample_file.write()\n",
    "\n",
    "# First have to write to the `destination_file_name` so it can be read\n",
    "destination_file_writer = FileWriteStream('baby data', destination_file_name)\n",
    "destination_file_writer.write()\n",
    "\n",
    "# Show the desitnation file has nothing in it\n",
    "print('\\nThe data in the destiation file reads:')\n",
    "destination_file_reader = FileReadStream(destination_file_name)\n",
    "destination_file_reader.print_read()\n",
    "\n",
    "\n",
    "# Copy the data from one file to the other\n",
    "copy_file_instance = CopyFile(source_file_name, destination_file_name)\n",
    "print()\n",
    "copy_file_instance.copy()\n",
    "print('\\nThe data in the destiation file reads:')\n",
    "destination_file_reader.print_read()"
   ]
  },
  {
   "cell_type": "code",
   "execution_count": 114,
   "metadata": {
    "collapsed": false
   },
   "outputs": [
    {
     "name": "stdout",
     "output_type": "stream",
     "text": [
      "hi\n",
      "meow cats 4556727688\n",
      "hi\n",
      "4556727688\n",
      "True\n"
     ]
    }
   ],
   "source": [
    "class BaseClass:\n",
    "    def some_func(self):\n",
    "        print('hi')\n",
    "        \n",
    "class SubClass:\n",
    "    def some_func(self):\n",
    "        print(self)\n",
    "        BaseClass.some_func(self)\n",
    "    \n",
    "    def __str__(self):\n",
    "        return 'meow cats {}'.format(id(self))\n",
    "    \n",
    "    def return_self(self):\n",
    "        return self\n",
    "        \n",
    "BaseClass.some_func('asdlkjasdfj')\n",
    "my_sub_class = SubClass()\n",
    "\n",
    "my_sub_class.some_func()\n",
    "\n",
    "print(id(my_sub_class))\n",
    "\n",
    "print(my_sub_class is my_sub_class.return_self())"
   ]
  },
  {
   "cell_type": "code",
   "execution_count": 117,
   "metadata": {
    "collapsed": false
   },
   "outputs": [
    {
     "name": "stdout",
     "output_type": "stream",
     "text": [
      "Little Scream - Love As a Weapon played 2 times\n",
      "10 Best Albums of 2016 by Chris Bay\n",
      "Cats in space by Crystal Martin\n",
      "LaunchCode's LC101: https://www.launchcode.org/lc101\n"
     ]
    }
   ],
   "source": [
    "class Post:\n",
    "    def __init__(self, title, author, body):\n",
    "        self.title = title\n",
    "        self.author = author\n",
    "        self.body = body\n",
    "        self.likes = 0\n",
    "\n",
    "    def like(self):\n",
    "        self.likes += 1\n",
    "\n",
    "    def __str__(self):\n",
    "        return self.title + \" by \" + self.author\n",
    "\n",
    "\n",
    "class VideoPost(Post):\n",
    "    def __init__(self, title, author, url):\n",
    "        super().__init__(title, author, None)\n",
    "        self.video_url = url\n",
    "        self.plays = 0\n",
    "\n",
    "    def play(self):\n",
    "        self.plays += 1\n",
    "\n",
    "    def __str__(self):\n",
    "        return self.title + \" played \" + str(self.plays) + \" times\"\n",
    "\n",
    "    \n",
    "# Little Scream - Love As a Weapon played 2 times\n",
    "# 10 Best Albums of 2016 by Chris Bay\n",
    "# Cats in space by Crystal Martin\n",
    "# LaunchCode's LC101: https://www.launchcode.org/lc101\n",
    "\n",
    "# TODO - create ImagePost class based on class diagram\n",
    "# file_name \n",
    "\n",
    "class ImagePost(Post):\n",
    "    def __init__(self, title, author, file_name):\n",
    "        super().__init__(title, author, None)\n",
    "        self.file_name = file_name\n",
    "\n",
    "# TODO - create LinkPost class based on class diagram\n",
    "# url attribute\n",
    "# click method\n",
    "# clicks attribute\n",
    "\n",
    "class LinkPost(Post):\n",
    "    def __init__(self, title, author, url):\n",
    "        super().__init__(title, author, None)\n",
    "        self.url = url\n",
    "        self.clicks = 0\n",
    "\n",
    "    def click(self):\n",
    "        self.clicks += 1\n",
    "\n",
    "    def __str__(self):\n",
    "        return self.title + ': ' + self.url\n",
    "\n",
    "plain_post = Post(\"10 Best Albums of 2016\", \"Chris Bay\", \"1. Little Scream - Cult Following 2. ...\")\n",
    "vid_post = VideoPost(\"Little Scream - Love As a Weapon\", \"Chris Bay\", \"https://youtu.be/Tq4Vw4MB6eA\")\n",
    "pic_post = ImagePost(\"Cats in space\", \"Crystal Martin\", \"spacecats.gif\")\n",
    "url_post = LinkPost(\"LaunchCode's LC101\", \"LaunchCode Staff\", \"https://www.launchcode.org/lc101\")\n",
    "\n",
    "vid_post.play()\n",
    "vid_post.play()\n",
    "url_post.click()\n",
    "\n",
    "print(vid_post)\n",
    "print(plain_post)\n",
    "print(pic_post)\n",
    "print(url_post)\n",
    "\n",
    "# Little Scream - Love As a Weapon played 2 times\n",
    "# 10 Best Albums of 2016 by Chris Bay\n",
    "# Cats in space by Crystal Martin\n",
    "# LaunchCode's LC101: https://www.launchcode.org/lc101"
   ]
  },
  {
   "cell_type": "code",
   "execution_count": null,
   "metadata": {
    "collapsed": true
   },
   "outputs": [],
   "source": []
  }
 ],
 "metadata": {
  "kernelspec": {
   "display_name": "Python 3",
   "language": "python",
   "name": "python3"
  },
  "language_info": {
   "codemirror_mode": {
    "name": "ipython",
    "version": 3
   },
   "file_extension": ".py",
   "mimetype": "text/x-python",
   "name": "python",
   "nbconvert_exporter": "python",
   "pygments_lexer": "ipython3",
   "version": "3.5.2"
  }
 },
 "nbformat": 4,
 "nbformat_minor": 1
}
