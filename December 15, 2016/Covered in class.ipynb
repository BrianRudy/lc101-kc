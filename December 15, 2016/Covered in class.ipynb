{
 "cells": [
  {
   "cell_type": "markdown",
   "metadata": {},
   "source": [
    "# Python design patterns\n",
    "\n",
    "Covering only a small portion of what exists.\n",
    "\n",
    "* `import this`\n",
    "* creating `main` functions\n",
    "* Take a look at this guide: http://docs.python-guide.org/en/latest/writing/style/\n",
    "* Take a look at this \"Zen of Python\" by example: http://artifex.org/~hblanks/talks/2011/pep20_by_example.html"
   ]
  },
  {
   "cell_type": "code",
   "execution_count": 19,
   "metadata": {
    "collapsed": false
   },
   "outputs": [
    {
     "name": "stdout",
     "output_type": "stream",
     "text": [
      "<module 'this' from '/usr/local/Cellar/python3/3.5.2/Frameworks/Python.framework/Versions/3.5/lib/python3.5/this.py'>\n"
     ]
    }
   ],
   "source": [
    "import this as t\n",
    "\n",
    "print(t)"
   ]
  },
  {
   "cell_type": "markdown",
   "metadata": {},
   "source": [
    "## Explicit is better than implicit"
   ]
  },
  {
   "cell_type": "code",
   "execution_count": 23,
   "metadata": {
    "collapsed": false
   },
   "outputs": [
    {
     "name": "stdout",
     "output_type": "stream",
     "text": [
      "apple\n",
      "pear\n",
      "cranberry\n",
      "apple\n",
      "pear\n",
      "cranberry\n",
      "0\n",
      "1\n",
      "2\n",
      "3\n",
      "4\n",
      "5\n",
      "6\n",
      "7\n",
      "8\n",
      "9\n"
     ]
    }
   ],
   "source": [
    "fruits = ['apple', 'pear', 'cranberry']\n",
    "\n",
    "# Good\n",
    "for fruit in fruits:\n",
    "    print(fruit)\n",
    "    \n",
    "\n",
    "# Bad\n",
    "for i in fruits:\n",
    "    print(i)\n",
    "    \n",
    "# okay\n",
    "for index in range(10):\n",
    "    print(index)\n",
    "    \n",
    "# Questionable\n",
    "for i in range(10):\n",
    "    for j in range(11):\n",
    "        for k in range(11):\n",
    "            pass"
   ]
  },
  {
   "cell_type": "markdown",
   "metadata": {},
   "source": [
    "## Simple is better than complex"
   ]
  },
  {
   "cell_type": "code",
   "execution_count": 26,
   "metadata": {
    "collapsed": false
   },
   "outputs": [
    {
     "name": "stdout",
     "output_type": "stream",
     "text": [
      "I have a person Bill 4576151368\n",
      "I have a person Sammy 4576150752\n",
      "I have a person Jim 4576150248\n",
      "I have a person Sue 4576150864\n",
      "\n",
      "\n",
      "I have a person Bill 4576151368\n",
      "I have a person Sammy 4576150752\n",
      "I have a person Jim 4576150248\n",
      "I have a person Sue 4576150864\n",
      "\n",
      "\n",
      "I have a person Bill 4576151368\n",
      "I have a person Sammy 4576150752\n",
      "I have a person Jim 4576150248\n",
      "I have a person Sue 4576150864\n",
      "range(0, 10)\n"
     ]
    }
   ],
   "source": [
    "class Person:\n",
    "    \n",
    "    def __init__(self, name):\n",
    "        self.name = name\n",
    "        self.is_hungry = True\n",
    "        self.is_tired = False\n",
    "    \n",
    "    def __str__(self):\n",
    "        return '{name} {id}'.format(\n",
    "            name=self.name,\n",
    "            id=id(self)\n",
    "        )\n",
    "    \n",
    "    def fed(self, big_meal=False):\n",
    "        self.is_hungry = False\n",
    "        \n",
    "        if big_meal:\n",
    "            self.is_tired = True\n",
    "    \n",
    "    def sleep(self):\n",
    "        self.is_hungry = True\n",
    "        self.is_tired = False\n",
    "\n",
    "bill = Person('Bill')\n",
    "sammy = Person('Sammy')\n",
    "jim = Person('Jim')\n",
    "sue = Person('Sue')\n",
    "\n",
    "persons = [bill, sammy, jim, sue]\n",
    "\n",
    "jim.fed(True)\n",
    "sue.fed(True)\n",
    "\n",
    "# Bad check -- because it's complex and hides logic\n",
    "if persons[0].is_hungry and persons[1].is_hungry and persons[2].is_tired and persons[3].is_tired:\n",
    "    for person in persons:\n",
    "        print('I have a person', person)\n",
    "\n",
    "\n",
    "print()\n",
    "print()\n",
    "# Better check -- it doesn't hide meaning, but is verbose\n",
    "def all_are_hungry(persons):\n",
    "    for person in persons:\n",
    "        if not person.is_hungry:\n",
    "            return False\n",
    "    return True\n",
    "\n",
    "def all_are_tired(persons):\n",
    "    for person in persons:\n",
    "        if not person.is_tired:\n",
    "            return False\n",
    "    return True\n",
    "\n",
    "hungry_people_group = persons[:2]\n",
    "tired_people = persons[2:]\n",
    "\n",
    "if all_are_hungry(hungry_people_group) and all_are_tired(tired_people):\n",
    "    for person in persons:\n",
    "        print('I have a person', person)\n",
    "\n",
    "print()\n",
    "print()\n",
    "\n",
    "# Good/Best check -- doesn't hide meaning, and isn't verbose\n",
    "has_hungry = all([person.is_hungry for person in persons[:2]])\n",
    "has_tired = all([person.is_tired for person in persons[2:]])\n",
    "\n",
    "if has_hungry and has_tired:\n",
    "    for person in persons:\n",
    "        print('I have a person', person)\n",
    "        \n",
    "print(range(10))"
   ]
  },
  {
   "cell_type": "markdown",
   "metadata": {},
   "source": [
    "## Take a look at the main example in the folder\n",
    "\n",
    "Below the main is imported and used. On the command line it is also use."
   ]
  },
  {
   "cell_type": "code",
   "execution_count": 29,
   "metadata": {
    "collapsed": false
   },
   "outputs": [
    {
     "name": "stdout",
     "output_type": "stream",
     "text": [
      "I am testing my main function\n"
     ]
    },
    {
     "data": {
      "text/plain": [
       "0"
      ]
     },
     "execution_count": 29,
     "metadata": {},
     "output_type": "execute_result"
    }
   ],
   "source": [
    "import echo\n",
    "\n",
    "echo.main('I am testing my main function')"
   ]
  },
  {
   "cell_type": "code",
   "execution_count": 30,
   "metadata": {
    "collapsed": false
   },
   "outputs": [
    {
     "name": "stdout",
     "output_type": "stream",
     "text": [
      "2^5 == 32\n",
      "32\n",
      "2 to the power 5 equals 32\n",
      "32\n"
     ]
    }
   ],
   "source": [
    "import exponent\n",
    "\n",
    "_ = exponent.main(2, 5)\n",
    "\n",
    "_ = exponent.main(2, 5, quiet=True)\n",
    "_ = exponent.main(2, 5, verbose=True)\n",
    "_ = exponent.main(2, 5, quiet=True, verbose=True)"
   ]
  },
  {
   "cell_type": "code",
   "execution_count": null,
   "metadata": {
    "collapsed": true
   },
   "outputs": [],
   "source": []
  }
 ],
 "metadata": {
  "kernelspec": {
   "display_name": "Python 3",
   "language": "python",
   "name": "python3"
  },
  "language_info": {
   "codemirror_mode": {
    "name": "ipython",
    "version": 3
   },
   "file_extension": ".py",
   "mimetype": "text/x-python",
   "name": "python",
   "nbconvert_exporter": "python",
   "pygments_lexer": "ipython3",
   "version": "3.5.2"
  }
 },
 "nbformat": 4,
 "nbformat_minor": 1
}
