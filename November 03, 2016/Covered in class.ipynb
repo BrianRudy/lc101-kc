{
 "cells": [
  {
   "cell_type": "markdown",
   "metadata": {},
   "source": [
    "# Chapter 5"
   ]
  },
  {
   "cell_type": "markdown",
   "metadata": {},
   "source": [
    "## More turtle and function fun"
   ]
  },
  {
   "cell_type": "code",
   "execution_count": 10,
   "metadata": {
    "collapsed": false
   },
   "outputs": [],
   "source": [
    "import turtle\n",
    "\n",
    "\n",
    "def draw_multi_color_shape(t_turtle, size):\n",
    "    \"\"\"Make turtle t_turtle draw a multi-colour shape based on size passed in.\"\"\"\n",
    "    \n",
    "    colors = ['#2424FF', '#aaa', '#FF2424', '#ccc', '#24FF24', '#000']\n",
    "    \n",
    "    for color in colors:\n",
    "        t_turtle.color(color)\n",
    "        t_turtle.forward(size)\n",
    "        t_turtle.left(135)\n",
    "\n",
    "        \n",
    "def create_turtle(speed, pensize):\n",
    "    \"\"\"Returns a configured turtule\"\"\"\n",
    "    \n",
    "    turt = turtle.Turtle()\n",
    "    turt.speed(speed)\n",
    "    turt.pensize(pensize)\n",
    "    \n",
    "    return turt\n",
    "\n",
    "\n",
    "def move_turtle(t_turtle, forward, right):\n",
    "    \"\"\"Move t_turtle forward and then right\"\"\"\n",
    "    t_turtle.forward(forward)\n",
    "    t_turtle.right(right)\n",
    "\n",
    "# Setup the screen for drawing\n",
    "wn = turtle.Screen()\n",
    "wn.bgcolor(\"#ffffff\")\n",
    "\n",
    "# Create our turtle\n",
    "tess = create_turtle(0, 3.5)\n",
    "\n",
    "# Lift turtle and move it\n",
    "tess.up()\n",
    "tess.goto(0, 0)\n",
    "tess.down()\n",
    "\n",
    "# Start coloring for the turtle\n",
    "tess.begin_fill()\n",
    "\n",
    "# Begin actually drawing\n",
    "square_size = 30\n",
    "square_rotation = 8\n",
    "for i in range(45):\n",
    "    draw_multi_color_shape(tess, square_size)\n",
    "    square_size += square_rotation\n",
    "    move_turtle(tess, square_size, square_rotation)\n",
    "\n",
    "tess.end_fill()\n",
    "\n",
    "wn.exitonclick()\n"
   ]
  },
  {
   "cell_type": "code",
   "execution_count": 9,
   "metadata": {
    "collapsed": false
   },
   "outputs": [
    {
     "name": "stdout",
     "output_type": "stream",
     "text": [
      "\n",
      "    Return the absolute value of a number. \n",
      "    The argument may be an integer or a floating point number. \n",
      "    If the argument is a complex number, its magnitude is returned.\n",
      "    \n",
      "10\n",
      "11\n",
      "10\n",
      "5\n",
      "20\n",
      "25\n"
     ]
    }
   ],
   "source": [
    "def absolute_value(number):\n",
    "    \"\"\"\n",
    "    Return the absolute value of a number. \n",
    "    The argument may be an integer or a floating point number. \n",
    "    If the argument is a complex number, its magnitude is returned.\n",
    "    \"\"\"\n",
    "    return abs(number)\n",
    "\n",
    "print(absolute_value.__doc__)\n",
    "\n",
    "value = 10\n",
    "print(value)\n",
    "\n",
    "value = 11\n",
    "print(value)\n",
    "\n",
    "print(absolute_value(-10))\n",
    "\n",
    "value = 5\n",
    "print(value)\n",
    "\n",
    "value += 15\n",
    "print(value)\n",
    "\n",
    "def add_to(number, amount):\n",
    "    return number + amount\n",
    "\n",
    "print(add_to(value, 5))"
   ]
  },
  {
   "cell_type": "markdown",
   "metadata": {},
   "source": [
    "## Functions calling themselves\n",
    "\n",
    "This is known as recursion "
   ]
  },
  {
   "cell_type": "code",
   "execution_count": 23,
   "metadata": {
    "collapsed": false
   },
   "outputs": [
    {
     "name": "stdout",
     "output_type": "stream",
     "text": [
      "6\n",
      "6\n",
      "6\n",
      "362880\n",
      "362880\n",
      "362880\n"
     ]
    }
   ],
   "source": [
    "import math\n",
    "\n",
    "def factorial(n):\n",
    "    for number in range(n, 1, -1):\n",
    "        return number * factorial(number - 1)\n",
    "    \n",
    "    return 1\n",
    "\n",
    "print(factorial(3))\n",
    "print(3 * 2 * 1)\n",
    "print(math.factorial(3))\n",
    "\n",
    "print(factorial(9))\n",
    "print(9 * 8 * 7 * 6 * 5 * 4 * 3 * 2 * 1)\n",
    "print(math.factorial(9))\n"
   ]
  },
  {
   "cell_type": "markdown",
   "metadata": {},
   "source": [
    "## Function Defaults\n",
    "\n",
    "By default a function without a `return` statement will give the result `None`."
   ]
  },
  {
   "cell_type": "code",
   "execution_count": 22,
   "metadata": {
    "collapsed": false,
    "scrolled": true
   },
   "outputs": [
    {
     "name": "stdout",
     "output_type": "stream",
     "text": [
      "45\n",
      "The result of no return is: None\n",
      "\n",
      "The result of a return is:  30\n"
     ]
    }
   ],
   "source": [
    "def add_all(*numbers):\n",
    "    number = 0\n",
    "    \n",
    "    for num in numbers:\n",
    "        number += num\n",
    "        \n",
    "    return number\n",
    "\n",
    "print(add_all(1, 2, 3, 4, 5, 6, 7, 8, 9))\n",
    "\n",
    "def multiply_and_sum(x, *args):\n",
    "    \"\"\"\n",
    "    Returns the results of multiplying x by all \n",
    "    passed arguments and then adding the results\n",
    "    of each multiplication together\n",
    "    \"\"\"\n",
    "    all_by_x = [arg * x for arg in args]\n",
    "    return sum(all_by_x)\n",
    "\n",
    "def multiply_and_sum_no_return(x, *args):\n",
    "    \"\"\"\n",
    "    Same as mutiply_and_sum only returns nothing\n",
    "    and is therefore useless\n",
    "    \"\"\"\n",
    "    multiply_and_sum(x, *args)\n",
    "\n",
    "values = [1,2,3,4]\n",
    "result = multiply_and_sum_no_return(3, *values)\n",
    "\n",
    "print(\"The result of no return is:\", result)\n",
    "\n",
    "result = multiply_and_sum(3, *values)\n",
    "print(\"\\nThe result of a return is: \", result)\n"
   ]
  },
  {
   "cell_type": "markdown",
   "metadata": {},
   "source": [
    "## Writing Code\n",
    "\n",
    "Be sure when writing code to follow PEP-0008 https://www.python.org/dev/peps/pep-0008/\n",
    "\n",
    "This is the defacto Python style guide for writing code. You can think of it how English writers might think of MLA or ALA."
   ]
  },
  {
   "cell_type": "markdown",
   "metadata": {
    "collapsed": true
   },
   "source": [
    "## Studio: Wagon Wheel\n",
    "\n",
    "Thanks James!\n",
    "\n",
    "WEbsite for running: https://trinket.io/python"
   ]
  },
  {
   "cell_type": "code",
   "execution_count": null,
   "metadata": {
    "collapsed": true
   },
   "outputs": [],
   "source": [
    "import turtle\n",
    "import random\n",
    "\n",
    "\n",
    "def draw_square(turt,sideLength):\n",
    "   \"\"\"Returns nothing draws a square \"\"\"\n",
    "   turt.color(random.choice([\"red\",\"orange\",\"yellow\",\"blue\",\"purple\"]))\n",
    "   turt.begin_fill()\n",
    "   for _ in range(4):\n",
    "       turt.forward(sideLength)\n",
    "       turt.left(90)\n",
    "   turt.end_fill()\n",
    "       \n",
    "def draw_four_square(turt,sideLength):\n",
    "   \"\"\"Return None draws a group of four squares that form a larger square\"\"\"\n",
    "   for index in range(4):\n",
    "       if(index == 0):\n",
    "           draw_square(turt,sideLength)\n",
    "       elif(index == 1):\n",
    "           turt.penup()\n",
    "           turt.backward(sideLength)\n",
    "           turt.pendown()\n",
    "           draw_square(turt,sideLength)\n",
    "       elif(index == 2):\n",
    "           turt.penup()\n",
    "           turt.right(90)\n",
    "           turt.forward(sideLength)\n",
    "           turt.left(90)\n",
    "           turt.pendown()\n",
    "           draw_square(turt,sideLength)\n",
    "       elif(index == 3):\n",
    "           turt.forward(sideLength)\n",
    "           draw_square(turt,sideLength)\n",
    "   reset_turtle_to_origin(turt)   \n",
    "   \n",
    "def draw_square_rotate(turt,sideLength,num):\n",
    "   \"\"\"Returns None draws four square and regular intervals over 360 based on num \"\"\"\n",
    "   for angle in range(0,360,360//num):\n",
    "       turt.left(angle)\n",
    "       draw_four_square(turt,sideLength)\n",
    "           \n",
    "def reset_turtle_to_origin(turt):\n",
    "   turt.penup()\n",
    "   turt.setheading(0)\n",
    "   turt.goto(0,0)\n",
    "   turt.pendown()\n",
    "\n",
    "def main():\n",
    "   # Create window\n",
    "   wn = turtle.Screen()\n",
    "   \n",
    "   # Create turtle\n",
    "   turt = turtle.Turtle()\n",
    "   turt.speed(0)\n",
    "   \n",
    "   # draw square\n",
    "   draw_square_rotate(turt,100,5)\n",
    "   \n",
    "main()"
   ]
  },
  {
   "cell_type": "code",
   "execution_count": 1,
   "metadata": {
    "collapsed": false
   },
   "outputs": [
    {
     "name": "stdout",
     "output_type": "stream",
     "text": [
      "2\n"
     ]
    }
   ],
   "source": [
    "print(8//3)"
   ]
  },
  {
   "cell_type": "code",
   "execution_count": 14,
   "metadata": {
    "collapsed": false
   },
   "outputs": [
    {
     "name": "stdout",
     "output_type": "stream",
     "text": [
      "-3\n"
     ]
    }
   ],
   "source": [
    "print(-7//3)"
   ]
  },
  {
   "cell_type": "code",
   "execution_count": 13,
   "metadata": {
    "collapsed": false
   },
   "outputs": [
    {
     "name": "stdout",
     "output_type": "stream",
     "text": [
      "-2.3333333333333335\n",
      "-2\n"
     ]
    }
   ],
   "source": [
    "print(-7/3)\n",
    "\n",
    "import math\n",
    "\n",
    "print(round(-7/3))"
   ]
  },
  {
   "cell_type": "markdown",
   "metadata": {},
   "source": [
    "## Thanks for another wagon wheel\n",
    "\n",
    "Garret"
   ]
  },
  {
   "cell_type": "code",
   "execution_count": null,
   "metadata": {
    "collapsed": true
   },
   "outputs": [],
   "source": [
    "import turtle\n",
    "\n",
    "def drawSquare():\n",
    "   for i in range(4):\n",
    "       alex.forward(100)\n",
    "       alex.left(90)\n",
    "       \n",
    "def drawWindow():\n",
    "   for i in range(4):\n",
    "       drawSquare()\n",
    "       alex.left(90)\n",
    "       \n",
    "wn = turtle.Screen()\n",
    "wn.bgcolor(\"lightgreen\")\n",
    "alex = turtle.Turtle()\n",
    "alex.speed(9)\n",
    "alex.color(\"blue\")\n",
    "\n",
    "for i in range(5):\n",
    "   drawWindow()\n",
    "   alex.left(18)"
   ]
  }
 ],
 "metadata": {
  "kernelspec": {
   "display_name": "Python 3",
   "language": "python",
   "name": "python3"
  },
  "language_info": {
   "codemirror_mode": {
    "name": "ipython",
    "version": 3
   },
   "file_extension": ".py",
   "mimetype": "text/x-python",
   "name": "python",
   "nbconvert_exporter": "python",
   "pygments_lexer": "ipython3",
   "version": "3.5.2"
  }
 },
 "nbformat": 4,
 "nbformat_minor": 1
}
