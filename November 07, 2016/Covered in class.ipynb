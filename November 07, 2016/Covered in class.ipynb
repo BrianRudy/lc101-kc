{
 "cells": [
  {
   "cell_type": "markdown",
   "metadata": {},
   "source": [
    "## Examples of Boolean operators\n",
    "\n",
    "Think about: \n",
    "\n",
    "1. What operators exist\n",
    "2. What these operators can be used on\n",
    "3. The precedence of these operators"
   ]
  },
  {
   "cell_type": "code",
   "execution_count": 57,
   "metadata": {
    "collapsed": false
   },
   "outputs": [
    {
     "data": {
      "text/plain": [
       "False"
      ]
     },
     "execution_count": 57,
     "metadata": {},
     "output_type": "execute_result"
    }
   ],
   "source": [
    "True and False"
   ]
  },
  {
   "cell_type": "code",
   "execution_count": 66,
   "metadata": {
    "collapsed": false
   },
   "outputs": [
    {
     "data": {
      "text/plain": [
       "True"
      ]
     },
     "execution_count": 66,
     "metadata": {},
     "output_type": "execute_result"
    }
   ],
   "source": [
    "True or False and False"
   ]
  },
  {
   "cell_type": "code",
   "execution_count": 59,
   "metadata": {
    "collapsed": false
   },
   "outputs": [
    {
     "data": {
      "text/plain": [
       "False"
      ]
     },
     "execution_count": 59,
     "metadata": {},
     "output_type": "execute_result"
    }
   ],
   "source": [
    "False and False"
   ]
  },
  {
   "cell_type": "code",
   "execution_count": 68,
   "metadata": {
    "collapsed": false
   },
   "outputs": [
    {
     "name": "stdout",
     "output_type": "stream",
     "text": [
      "False\n",
      "True\n"
     ]
    }
   ],
   "source": [
    "print((True or False) and False)\n",
    "print(True or (False and False))"
   ]
  },
  {
   "cell_type": "code",
   "execution_count": 72,
   "metadata": {
    "collapsed": false
   },
   "outputs": [
    {
     "name": "stdout",
     "output_type": "stream",
     "text": [
      "True\n",
      "False\n"
     ]
    }
   ],
   "source": [
    "print(not False)\n",
    "print(not True)"
   ]
  },
  {
   "cell_type": "markdown",
   "metadata": {},
   "source": [
    "## Thinking about how results work\n",
    "\n",
    "Look at truth tables to understand how values can be combined for these binary operators: https://en.wikipedia.org/wiki/Truth_table#Logical_conjunction_.28AND.29\n",
    "\n",
    "Also understand the `not` unary operator: \n",
    "https://en.wikipedia.org/wiki/Truth_table#Logical_negation"
   ]
  },
  {
   "cell_type": "code",
   "execution_count": 73,
   "metadata": {
    "collapsed": false
   },
   "outputs": [
    {
     "name": "stdout",
     "output_type": "stream",
     "text": [
      "120\n",
      "120\n"
     ]
    }
   ],
   "source": [
    "def factorial(number):\n",
    "    \"\"\"\n",
    "    Return the factorial of a passed number.\n",
    "    e.g. if 5 is passed return: 5 * 4 * 3 * 2 * 1\n",
    "    \"\"\"\n",
    "    if number == 0:\n",
    "        return 1\n",
    "    \n",
    "    return number * factorial(number -1)\n",
    "\n",
    "\n",
    "import math\n",
    "\n",
    "print(factorial(5))\n",
    "print(math.factorial(5))"
   ]
  },
  {
   "cell_type": "markdown",
   "metadata": {},
   "source": [
    "## Black Jack\n",
    "\n",
    "Here is a simple implementation of some black jack related functions."
   ]
  },
  {
   "cell_type": "code",
   "execution_count": 83,
   "metadata": {
    "collapsed": false
   },
   "outputs": [
    {
     "name": "stdout",
     "output_type": "stream",
     "text": [
      "Dealer ended with:  13\n",
      "I ended with:  12\n",
      "Dealer won with higher value cards\n"
     ]
    }
   ],
   "source": [
    "import random \n",
    "\n",
    "\n",
    "def dealer_will_hit(cards_value):\n",
    "    \"\"\"Returns true if the dealer must take a hit\"\"\"\n",
    "    if cards_value <= 16:\n",
    "        return True\n",
    "    \n",
    "    return False\n",
    "\n",
    "\n",
    "def should_i_hit(dealer_showing_value, my_cards_value):\n",
    "    \"\"\"Returns true if you should takea  hit\"\"\"        \n",
    "    # Hit because you've got the space\n",
    "    if my_cards_value <= 11:\n",
    "        return True\n",
    "    \n",
    "    if my_cards_value >= 17 and my_cards_value <= 19:\n",
    "        \n",
    "        # Assume the dealer will bust\n",
    "        if dealer_showing_value < 5:\n",
    "            return False\n",
    "        \n",
    "        # Assume the dealer will beat you if you don't hit\n",
    "        elif dealer_showing_value >= 7:\n",
    "            return True\n",
    "    \n",
    "    # In all other cases see how it works out.\n",
    "    return False\n",
    "\n",
    "def get_card():\n",
    "    card_values = [1,2,3,4,5,6,7,8,9,10,10,10,10]\n",
    "    return random.choice(card_values)\n",
    "\n",
    "def print_who_won(dealer_cards_value, my_cards_value):\n",
    "    if my_cards_value > 21:\n",
    "        print(\"Dealer won I busted\")\n",
    "        \n",
    "    elif dealer_cards_value > 21:\n",
    "        print(\"I won because dealer busted\")\n",
    "        \n",
    "    elif dealer_cards_value > my_cards_value:\n",
    "        print(\"Dealer won with higher value cards\")\n",
    "        \n",
    "    elif my_cards_value > dealer_cards_value:\n",
    "        print(\"I won with higher value cards\")\n",
    "    \n",
    "    else:\n",
    "        print(\"We tied! No one loses.\")\n",
    "\n",
    "\n",
    "# Setup the game\n",
    "dealer_showing_card = get_card()\n",
    "dealer_card_values = dealer_showing_card + get_card()\n",
    "\n",
    "player_cards_value = get_card() + get_card()\n",
    "\n",
    "\n",
    "# Check to see if the player should hit\n",
    "# Only going to hit once\n",
    "if should_i_hit(dealer_showing_card, player_cards_value):\n",
    "    player_cards_value += get_card()\n",
    "\n",
    "# Same the dealer will only hit once\n",
    "if dealer_will_hit(dealer_card_values):\n",
    "    dealer_card_values += get_card()\n",
    "    \n",
    "print(\"Dealer ended with: \", dealer_card_values)\n",
    "print(\"I ended with: \", player_cards_value)\n",
    "print_who_won(dealer_card_values, player_cards_value)\n"
   ]
  },
  {
   "cell_type": "code",
   "execution_count": 82,
   "metadata": {
    "collapsed": false,
    "scrolled": true
   },
   "outputs": [
    {
     "name": "stdout",
     "output_type": "stream",
     "text": [
      "hi Hello\n",
      "hi\n",
      "<class 'NoneType'>\n",
      "hi\n"
     ]
    },
    {
     "ename": "TypeError",
     "evalue": "unsupported operand type(s) for +: 'NoneType' and 'str'",
     "output_type": "error",
     "traceback": [
      "\u001b[0;31m---------------------------------------------------------------------------\u001b[0m",
      "\u001b[0;31mTypeError\u001b[0m                                 Traceback (most recent call last)",
      "\u001b[0;32m<ipython-input-82-849c2a798ca8>\u001b[0m in \u001b[0;36m<module>\u001b[0;34m()\u001b[0m\n\u001b[1;32m      8\u001b[0m \u001b[0;34m\u001b[0m\u001b[0m\n\u001b[1;32m      9\u001b[0m \u001b[0mprint\u001b[0m\u001b[0;34m(\u001b[0m\u001b[0mtype\u001b[0m\u001b[0;34m(\u001b[0m\u001b[0mno_return\u001b[0m\u001b[0;34m(\u001b[0m\u001b[0;34m)\u001b[0m\u001b[0;34m)\u001b[0m\u001b[0;34m)\u001b[0m\u001b[0;34m\u001b[0m\u001b[0m\n\u001b[0;32m---> 10\u001b[0;31m \u001b[0mprint\u001b[0m\u001b[0;34m(\u001b[0m\u001b[0mno_return\u001b[0m\u001b[0;34m(\u001b[0m\u001b[0;34m)\u001b[0m \u001b[0;34m+\u001b[0m \u001b[0;34m' Hello'\u001b[0m\u001b[0;34m)\u001b[0m\u001b[0;34m\u001b[0m\u001b[0m\n\u001b[0m\u001b[1;32m     11\u001b[0m \u001b[0;34m\u001b[0m\u001b[0m\n",
      "\u001b[0;31mTypeError\u001b[0m: unsupported operand type(s) for +: 'NoneType' and 'str'"
     ]
    }
   ],
   "source": [
    "def no_return():\n",
    "    print('hi')\n",
    "\n",
    "def has_return():\n",
    "    return 'hi'\n",
    "\n",
    "print(has_return() + ' Hello')\n",
    "\n",
    "print(type(no_return()))\n",
    "print(no_return() + ' Hello')\n",
    "\n"
   ]
  },
  {
   "cell_type": "code",
   "execution_count": 97,
   "metadata": {
    "collapsed": false
   },
   "outputs": [
    {
     "name": "stdout",
     "output_type": "stream",
     "text": [
      "less than 15\n",
      "less than 13\n",
      "less than 9\n",
      "always printed if less than 15\n",
      "super default\n"
     ]
    }
   ],
   "source": [
    "x = 8\n",
    "if x < 15:\n",
    "    print('less than 15')\n",
    "    \n",
    "    if x < 13:\n",
    "        print('less than 13')\n",
    "        \n",
    "        if x < 9:\n",
    "            print('less than 9')\n",
    "    \n",
    "    print('always printed if less than 15')\n",
    "else:\n",
    "    print('bye')\n",
    "\n",
    "print('super default')"
   ]
  },
  {
   "cell_type": "code",
   "execution_count": 101,
   "metadata": {
    "collapsed": false,
    "scrolled": true
   },
   "outputs": [
    {
     "name": "stdout",
     "output_type": "stream",
     "text": [
      "   hi\n",
      "\t\t\thi\n"
     ]
    }
   ],
   "source": [
    "print('   hi')\n",
    "print('\\t\\t\\thi')"
   ]
  },
  {
   "cell_type": "markdown",
   "metadata": {},
   "source": [
    "## Studio: contains_n"
   ]
  },
  {
   "cell_type": "code",
   "execution_count": 109,
   "metadata": {
    "collapsed": false
   },
   "outputs": [
    {
     "name": "stdout",
     "output_type": "stream",
     "text": [
      "False\n",
      "True\n",
      "2\n",
      "0\n",
      "<class 'int'>\n",
      "<class 'float'>\n"
     ]
    }
   ],
   "source": [
    "temp = [0, 1, 5, 3, 10]\n",
    "some_number = 11\n",
    "\n",
    "def contains_n(list_of_numbers, test_number):\n",
    "    \"\"\"\n",
    "    Tests if the passed `test_number` is equal\n",
    "    to a value inside `list_of_numbers`\n",
    "    \"\"\"\n",
    "    for number in list_of_numbers:\n",
    "        # executions\n",
    "        #\n",
    "        # number = 0 \n",
    "        # number = 1\n",
    "        # number = 5\n",
    "        # number = 3\n",
    "        # number = 10\n",
    "        if number == test_number:\n",
    "            return True\n",
    "        \n",
    "    return False\n",
    "\n",
    "def contains_type_and_value_n(numbers, n):\n",
    "    \"\"\"\n",
    "    Tests if the passed `test_number` is equal\n",
    "    to a value inside `list_of_numbers` as well\n",
    "    as the value's type.\n",
    "    \"\"\"\n",
    "    for num in numbers:\n",
    "        if num == n and type(num) == type(n):\n",
    "            return True\n",
    "    return False\n",
    "\n",
    "def contains_number_of_n(numbers, n):\n",
    "    count = 0\n",
    "    for num in numbers:\n",
    "        if num == n:\n",
    "            count += 1\n",
    "    return count\n",
    "\n",
    "def contains_number_of_type_n(numbers, n):\n",
    "    count = 0\n",
    "    for num in numbers:\n",
    "        if num == n and type(num) == type(n):\n",
    "            count += 1\n",
    "    return count\n",
    "        \n",
    "print(contains_n([5, 7, 9, 10], 6))\n",
    "\n",
    "print(contains_type_and_value_n([5, 6.2, 5.8, 9], 5))\n",
    "\n",
    "print(contains_number_of_n([5, 7, 9, 10, 9], 9))\n",
    "\n",
    "print(contains_number_of_type_n([5, 7, 9, 10.0, 9], 10))\n",
    "\n",
    "print(type(10))\n",
    "print(type(10.0000))"
   ]
  },
  {
   "cell_type": "code",
   "execution_count": 118,
   "metadata": {
    "collapsed": false
   },
   "outputs": [
    {
     "name": "stdout",
     "output_type": "stream",
     "text": [
      "True True \n",
      " True True\n"
     ]
    }
   ],
   "source": [
    "def contains(numbers, n):\n",
    "    return n in numbers\n",
    "\n",
    "def count(numbers, n):\n",
    "    return numbers.count(n)\n",
    "\n",
    "numbers = [2, 3.0, 3, 5.0, 6.666, 4]\n",
    "value = 4.0\n",
    "value2 = 5.0\n",
    "\n",
    "print(\n",
    "    contains(numbers, value),\n",
    "    contains(numbers, value),\n",
    "    '\\n',\n",
    "    contains(numbers, value2),\n",
    "    contains(numbers, value2)\n",
    ")\n",
    "\n",
    "# in operator: https://docs.python.org/3.4/reference/expressions.html#in"
   ]
  },
  {
   "cell_type": "markdown",
   "metadata": {},
   "source": [
    "https://docs.python.org/3.4/reference/expressions.html#in"
   ]
  },
  {
   "cell_type": "code",
   "execution_count": null,
   "metadata": {
    "collapsed": true
   },
   "outputs": [],
   "source": []
  }
 ],
 "metadata": {
  "kernelspec": {
   "display_name": "Python 3",
   "language": "python",
   "name": "python3"
  },
  "language_info": {
   "codemirror_mode": {
    "name": "ipython",
    "version": 3
   },
   "file_extension": ".py",
   "mimetype": "text/x-python",
   "name": "python",
   "nbconvert_exporter": "python",
   "pygments_lexer": "ipython3",
   "version": "3.5.2"
  }
 },
 "nbformat": 4,
 "nbformat_minor": 1
}
