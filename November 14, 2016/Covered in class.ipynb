{
 "cells": [
  {
   "cell_type": "markdown",
   "metadata": {},
   "source": [
    "# Strings"
   ]
  },
  {
   "cell_type": "code",
   "execution_count": 27,
   "metadata": {
    "collapsed": false
   },
   "outputs": [
    {
     "name": "stdout",
     "output_type": "stream",
     "text": [
      "Number of characters:  9\n",
      "y\n",
      "New fruit: cr\n",
      "Second fruit: cranb\n",
      "Last char of fruit: y\n",
      "r\n",
      "e\n"
     ]
    },
    {
     "ename": "IndexError",
     "evalue": "string index out of range",
     "output_type": "error",
     "traceback": [
      "\u001b[0;31m---------------------------------------------------------------------------\u001b[0m",
      "\u001b[0;31mIndexError\u001b[0m                                Traceback (most recent call last)",
      "\u001b[0;32m<ipython-input-27-cb04b8838d31>\u001b[0m in \u001b[0;36m<module>\u001b[0;34m()\u001b[0m\n\u001b[1;32m     22\u001b[0m \u001b[0mprint\u001b[0m\u001b[0;34m(\u001b[0m\u001b[0mfruit\u001b[0m\u001b[0;34m[\u001b[0m\u001b[0;36m1\u001b[0m\u001b[0;34m]\u001b[0m\u001b[0;34m)\u001b[0m\u001b[0;34m\u001b[0m\u001b[0m\n\u001b[1;32m     23\u001b[0m \u001b[0mprint\u001b[0m\u001b[0;34m(\u001b[0m\u001b[0mfruit\u001b[0m\u001b[0;34m[\u001b[0m\u001b[0;36m5\u001b[0m\u001b[0;34m]\u001b[0m\u001b[0;34m)\u001b[0m\u001b[0;34m\u001b[0m\u001b[0m\n\u001b[0;32m---> 24\u001b[0;31m \u001b[0mprint\u001b[0m\u001b[0;34m(\u001b[0m\u001b[0mfruit\u001b[0m\u001b[0;34m[\u001b[0m\u001b[0mnumber_of_characters_in_fruit\u001b[0m\u001b[0;34m]\u001b[0m\u001b[0;34m)\u001b[0m\u001b[0;34m\u001b[0m\u001b[0m\n\u001b[0m",
      "\u001b[0;31mIndexError\u001b[0m: string index out of range"
     ]
    }
   ],
   "source": [
    "# Below are two ways to get the last character in a string\n",
    "# Also known as getting the last letter in a word\n",
    "#        012345678\n",
    "fruit = 'cranberry'\n",
    "\n",
    "# Long way\n",
    "number_of_characters_in_fruit = len(fruit)\n",
    "last_item_location = number_of_characters_in_fruit - 1\n",
    "lastch = fruit[last_item_location]\n",
    "\n",
    "print('Number of characters: ', number_of_characters_in_fruit)\n",
    "print(lastch)\n",
    "\n",
    "# Short way\n",
    "lastch = fruit[-1]\n",
    "\n",
    "new_fruit = fruit[:2]\n",
    "second_new_fruit = fruit[:-4]\n",
    "print('New fruit:', new_fruit)\n",
    "print('Second fruit:', second_new_fruit)\n",
    "print('Last char of fruit:', lastch)\n",
    "print(fruit[1])\n",
    "print(fruit[5])\n",
    "print(fruit[number_of_characters_in_fruit])"
   ]
  },
  {
   "cell_type": "markdown",
   "metadata": {},
   "source": [
    "### String Comparison\n",
    "\n",
    "Don't compare strings without normalizing them first.  \n",
    "\n",
    "For example don't compare \"How\"  to \"MeoW\"  compare \"how\" to \"meow\"\n"
   ]
  },
  {
   "cell_type": "code",
   "execution_count": 50,
   "metadata": {
    "collapsed": false
   },
   "outputs": [
    {
     "name": "stdout",
     "output_type": "stream",
     "text": [
      "G : 71\n",
      "a : 97\n",
      "R : 82\n",
      "r : 114\n",
      "Y : 89\n",
      "  : 32\n",
      "P : 80\n",
      "o : 111\n",
      "l : 108\n",
      "L : 76\n",
      "E : 69\n",
      "y : 121\n",
      "65\n",
      "97\n",
      "aY P\n"
     ]
    }
   ],
   "source": [
    "import random\n",
    "\n",
    "def determine_character(character):\n",
    "    if 1 == random.randint(0,1):\n",
    "        return character\n",
    "    return ''\n",
    "\n",
    "\n",
    "name = 'GaRrY PolLEy'\n",
    "new_name = ''\n",
    "for character in name:\n",
    "    new_name = new_name + determine_character(character)\n",
    "    print(character, ':', ord(character))\n",
    "\n",
    "print(ord('A'))\n",
    "print(ord('a'))\n",
    "print(new_name)"
   ]
  },
  {
   "cell_type": "code",
   "execution_count": 36,
   "metadata": {
    "collapsed": false
   },
   "outputs": [
    {
     "name": "stdout",
     "output_type": "stream",
     "text": [
      "What is the first word: Apple\n",
      "What is the second word: APPLE\n",
      "apple : apple\n",
      "The strings are the same once normalized? True\n"
     ]
    }
   ],
   "source": [
    "first_word = input(\"What is the first word: \")\n",
    "second_word = input(\"What is the second word: \")\n",
    "\n",
    "# Exmaple text that needs normalized\n",
    "what_street = 'Maple Street'\n",
    "another_street = 'maple street'\n",
    "\n",
    "normalized_first_word = first_word.lower()\n",
    "normalized_second_word = second_word.lower()\n",
    "\n",
    "print(normalized_first_word, ':', normalized_second_word)\n",
    "\n",
    "# Boolean assignment\n",
    "are_words_the_same = normalized_first_word == normalized_second_word\n",
    "print(\"The strings are the same once normalized?\", are_words_the_same)"
   ]
  },
  {
   "cell_type": "markdown",
   "metadata": {},
   "source": [
    "### Immutable"
   ]
  },
  {
   "cell_type": "code",
   "execution_count": 45,
   "metadata": {
    "collapsed": false
   },
   "outputs": [
    {
     "name": "stdout",
     "output_type": "stream",
     "text": [
      "[1, 2, 3, 4]\n",
      "['meow cats', 2, 3, 4]\n",
      "I am not changable\n",
      "10\n",
      "é\n",
      "A different string is okay, but why?\n"
     ]
    },
    {
     "ename": "TypeError",
     "evalue": "'str' object does not support item assignment",
     "output_type": "error",
     "traceback": [
      "\u001b[0;31m---------------------------------------------------------------------------\u001b[0m",
      "\u001b[0;31mTypeError\u001b[0m                                 Traceback (most recent call last)",
      "\u001b[0;32m<ipython-input-45-ce4224ab807d>\u001b[0m in \u001b[0;36m<module>\u001b[0;34m()\u001b[0m\n\u001b[1;32m     16\u001b[0m \u001b[0mprint\u001b[0m\u001b[0;34m(\u001b[0m\u001b[0mstring_cannot_change\u001b[0m\u001b[0;34m)\u001b[0m\u001b[0;34m\u001b[0m\u001b[0m\n\u001b[1;32m     17\u001b[0m \u001b[0;34m\u001b[0m\u001b[0m\n\u001b[0;32m---> 18\u001b[0;31m \u001b[0mstring_cannot_change\u001b[0m\u001b[0;34m[\u001b[0m\u001b[0;36m7\u001b[0m\u001b[0;34m]\u001b[0m \u001b[0;34m=\u001b[0m \u001b[0;34m'T'\u001b[0m\u001b[0;34m\u001b[0m\u001b[0m\n\u001b[0m\u001b[1;32m     19\u001b[0m \u001b[0mstring_cannot_change\u001b[0m\u001b[0;34m[\u001b[0m\u001b[0;36m7\u001b[0m\u001b[0;34m]\u001b[0m \u001b[0;34m=\u001b[0m \u001b[0;34m'This will error'\u001b[0m\u001b[0;34m\u001b[0m\u001b[0m\n",
      "\u001b[0;31mTypeError\u001b[0m: 'str' object does not support item assignment"
     ]
    }
   ],
   "source": [
    "set_of_values = [1,2,3,4]\n",
    "print(set_of_values)\n",
    "set_of_values[0] = 'meow cats'\n",
    "print(set_of_values)\n",
    "\n",
    "string_cannot_change = 'I am not changable'\n",
    "print(string_cannot_change)\n",
    "\n",
    "string_cannot_change = 10\n",
    "print(string_cannot_change)\n",
    "\n",
    "string_cannot_change = 'é'\n",
    "print(string_cannot_change)\n",
    "\n",
    "string_cannot_change = 'A different string is okay, but why?'\n",
    "print(string_cannot_change)\n",
    "\n",
    "string_cannot_change[7] = 'T'\n",
    "string_cannot_change[7] = 'This will error'"
   ]
  },
  {
   "cell_type": "markdown",
   "metadata": {
    "collapsed": true
   },
   "source": [
    "## Studios: Sorted\n",
    "\n",
    "https://runestone.launchcode.org/runestone/static/thinkcspy/Studios/sorted.html\n",
    "    \n"
   ]
  },
  {
   "cell_type": "code",
   "execution_count": 51,
   "metadata": {
    "collapsed": false
   },
   "outputs": [
    {
     "name": "stdout",
     "output_type": "stream",
     "text": [
      "value False\n",
      "abc True\n",
      "aBc False\n"
     ]
    }
   ],
   "source": [
    "# Cheating answer\n",
    "def is_sorted(string):\n",
    "    \"\"\"Returns True if string is sorted from least to greatest\n",
    "       False otherwise.\n",
    "    \"\"\"\n",
    "    return ''.join(sorted(string)) == string\n",
    "\n",
    "\n",
    "print('value', is_sorted('value'))\n",
    "print('abc', is_sorted('abc'))\n",
    "print('aBc', is_sorted('aBc'))"
   ]
  },
  {
   "cell_type": "code",
   "execution_count": 54,
   "metadata": {
    "collapsed": false
   },
   "outputs": [
    {
     "name": "stdout",
     "output_type": "stream",
     "text": [
      "True\n",
      "True\n",
      "False\n",
      "False\n",
      "False\n",
      "False\n",
      "a 97 B 66\n"
     ]
    }
   ],
   "source": [
    "def is_sorted(string):\n",
    "    for i in range(1, len(string)):\n",
    "\n",
    "        previous_location = i - 1\n",
    "        if string[previous_location] > string[i]:\n",
    "            return False\n",
    "\n",
    "    return True\n",
    "\n",
    "print(is_sorted('ABC'))\n",
    "print(is_sorted('BBC'))\n",
    "print(is_sorted('CBC'))\n",
    "print(is_sorted('CBS'))\n",
    "print(is_sorted('NBC'))\n",
    "print(is_sorted('aBc'))\n",
    "print('a', ord('a'), 'B', ord('B'))"
   ]
  },
  {
   "cell_type": "code",
   "execution_count": 73,
   "metadata": {
    "collapsed": false
   },
   "outputs": [
    {
     "name": "stdout",
     "output_type": "stream",
     "text": [
      "True\n",
      "True\n",
      "False\n",
      "False\n",
      "False\n",
      "False\n"
     ]
    }
   ],
   "source": [
    "def is_sorted(string):\n",
    "    n = 1\n",
    "\n",
    "    for char in string:\n",
    "\n",
    "        if char <= string[n]:\n",
    "            n = n + 1\n",
    "            \n",
    "            if n == len(string):\n",
    "                return True\n",
    "        else:\n",
    "            return False\n",
    "    \n",
    "    return False\n",
    "\n",
    "print(is_sorted('ABC'))\n",
    "print(is_sorted('BBC'))\n",
    "print(is_sorted('CBC'))\n",
    "print(is_sorted('CBS'))\n",
    "print(is_sorted('NBC'))\n",
    "print(is_sorted('aBc'))"
   ]
  },
  {
   "cell_type": "code",
   "execution_count": 78,
   "metadata": {
    "collapsed": false
   },
   "outputs": [
    {
     "name": "stdout",
     "output_type": "stream",
     "text": [
      "A Z a z\n"
     ]
    },
    {
     "data": {
      "text/plain": [
       "True"
      ]
     },
     "execution_count": 78,
     "metadata": {},
     "output_type": "execute_result"
    }
   ],
   "source": [
    "def is_valid_password(string):\n",
    "   upper_check = False\n",
    "   lower_check = False\n",
    "   char_check = False\n",
    "   char_list = \"!@#$%^&*()-_+\"\n",
    "\n",
    "   for char in string:\n",
    "\n",
    "       if (ord(char) >= 65) and (ord(char) <= 90):\n",
    "           upper_check = True\n",
    "\n",
    "       if (ord(char) >= 97) and (ord(char) <= 122):\n",
    "           lower_check = True\n",
    "\n",
    "       if char in char_list:\n",
    "           char_check = True\n",
    "\n",
    "   return upper_check and lower_check and char_check and len(string) > 12\n",
    "\n",
    "print(chr(65), chr(90), chr(97), chr(122))\n",
    "is_valid_password('$aAjfasdfasdfasdfasdf')"
   ]
  },
  {
   "cell_type": "code",
   "execution_count": null,
   "metadata": {
    "collapsed": true
   },
   "outputs": [],
   "source": []
  }
 ],
 "metadata": {
  "kernelspec": {
   "display_name": "Python 3",
   "language": "python",
   "name": "python3"
  },
  "language_info": {
   "codemirror_mode": {
    "name": "ipython",
    "version": 3
   },
   "file_extension": ".py",
   "mimetype": "text/x-python",
   "name": "python",
   "nbconvert_exporter": "python",
   "pygments_lexer": "ipython3",
   "version": "3.5.2"
  }
 },
 "nbformat": 4,
 "nbformat_minor": 1
}
