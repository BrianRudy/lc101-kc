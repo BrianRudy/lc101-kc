{
 "cells": [
  {
   "cell_type": "markdown",
   "metadata": {},
   "source": [
    "## Calling Functions from Functions"
   ]
  },
  {
   "cell_type": "code",
   "execution_count": 115,
   "metadata": {
    "collapsed": false
   },
   "outputs": [
    {
     "name": "stdout",
     "output_type": "stream",
     "text": [
      "25\n",
      "25\n"
     ]
    }
   ],
   "source": [
    "def add_together(one, two):\n",
    "    one = one + two\n",
    "    return one\n",
    "\n",
    "def mutiply_and_add(one, two):\n",
    "    one = add_together(one, two)\n",
    "    return one * one\n",
    "\n",
    "temparary_value = mutiply_and_add(2, 3)\n",
    "\n",
    "print(temparary_value)\n",
    "print(mutiply_and_add(2, 3))"
   ]
  },
  {
   "cell_type": "markdown",
   "metadata": {},
   "source": [
    "## Interating over a collection\n",
    "\n",
    "Make the 12 x 12 times table"
   ]
  },
  {
   "cell_type": "code",
   "execution_count": 119,
   "metadata": {
    "collapsed": false
   },
   "outputs": [
    {
     "name": "stdout",
     "output_type": "stream",
     "text": [
      "3\n"
     ]
    },
    {
     "ename": "TypeError",
     "evalue": "object of type 'int' has no len()",
     "output_type": "error",
     "traceback": [
      "\u001b[0;31m---------------------------------------------------------------------------\u001b[0m",
      "\u001b[0;31mTypeError\u001b[0m                                 Traceback (most recent call last)",
      "\u001b[0;32m<ipython-input-119-b246ade6188d>\u001b[0m in \u001b[0;36m<module>\u001b[0;34m()\u001b[0m\n\u001b[1;32m      2\u001b[0m \u001b[0mnumber_2\u001b[0m \u001b[0;34m=\u001b[0m \u001b[0;36m30\u001b[0m\u001b[0;34m\u001b[0m\u001b[0m\n\u001b[1;32m      3\u001b[0m \u001b[0mprint\u001b[0m\u001b[0;34m(\u001b[0m\u001b[0mlen\u001b[0m\u001b[0;34m(\u001b[0m\u001b[0mstr\u001b[0m\u001b[0;34m(\u001b[0m\u001b[0mnumber_1\u001b[0m \u001b[0;34m*\u001b[0m \u001b[0mnumber_2\u001b[0m\u001b[0;34m)\u001b[0m\u001b[0;34m)\u001b[0m\u001b[0;34m)\u001b[0m\u001b[0;34m\u001b[0m\u001b[0m\n\u001b[0;32m----> 4\u001b[0;31m \u001b[0mprint\u001b[0m\u001b[0;34m(\u001b[0m\u001b[0mlen\u001b[0m\u001b[0;34m(\u001b[0m\u001b[0mnumber_1\u001b[0m \u001b[0;34m*\u001b[0m \u001b[0mnumber_2\u001b[0m\u001b[0;34m)\u001b[0m\u001b[0;34m)\u001b[0m\u001b[0;34m\u001b[0m\u001b[0m\n\u001b[0m",
      "\u001b[0;31mTypeError\u001b[0m: object of type 'int' has no len()"
     ]
    }
   ],
   "source": [
    "number_1 = 10\n",
    "number_2 = 30\n",
    "print(len(str(number_1 * number_2)))\n",
    "print(len(number_1 * number_2))"
   ]
  },
  {
   "cell_type": "code",
   "execution_count": 140,
   "metadata": {
    "collapsed": false
   },
   "outputs": [
    {
     "name": "stdout",
     "output_type": "stream",
     "text": [
      "cow\n",
      "cow town\n",
      "\n",
      "\n",
      "\n",
      "\n",
      "\n",
      "meow cats \n",
      "['dinasour', 'two']\n",
      "['dinasour', 'two']\n",
      "122\n",
      "97\n",
      "25\n"
     ]
    }
   ],
   "source": [
    "some_string = 'cow'\n",
    "\n",
    "print(some_string)\n",
    "\n",
    "some_string = some_string + ' town'\n",
    "\n",
    "print(some_string)\n",
    "\n",
    "print('\\n\\n\\n\\n')\n",
    "\n",
    "print('meow cats'.ljust(10))\n",
    "\n",
    "words = ['one', 'two']\n",
    "words_two = words\n",
    "\n",
    "words[0] = 'dinasour'\n",
    "\n",
    "print(words)\n",
    "print(words_two)\n",
    "\n",
    "print(ord('z'))\n",
    "print(ord('a'))\n",
    "print(ord('z') - ord('a'))"
   ]
  },
  {
   "cell_type": "code",
   "execution_count": 143,
   "metadata": {
    "collapsed": false
   },
   "outputs": [
    {
     "ename": "TypeError",
     "evalue": "'float' object cannot be interpreted as an integer",
     "output_type": "error",
     "traceback": [
      "\u001b[0;31m---------------------------------------------------------------------------\u001b[0m",
      "\u001b[0;31mTypeError\u001b[0m                                 Traceback (most recent call last)",
      "\u001b[0;32m<ipython-input-143-6195d980e1cc>\u001b[0m in \u001b[0;36m<module>\u001b[0;34m()\u001b[0m\n\u001b[1;32m      1\u001b[0m \u001b[0;32mimport\u001b[0m \u001b[0mmath\u001b[0m\u001b[0;34m\u001b[0m\u001b[0m\n\u001b[1;32m      2\u001b[0m \u001b[0;34m\u001b[0m\u001b[0m\n\u001b[0;32m----> 3\u001b[0;31m \u001b[0;32mfor\u001b[0m \u001b[0mi\u001b[0m \u001b[0;32min\u001b[0m \u001b[0mrange\u001b[0m\u001b[0;34m(\u001b[0m\u001b[0mmath\u001b[0m\u001b[0;34m.\u001b[0m\u001b[0minf\u001b[0m\u001b[0;34m)\u001b[0m\u001b[0;34m:\u001b[0m\u001b[0;34m\u001b[0m\u001b[0m\n\u001b[0m\u001b[1;32m      4\u001b[0m     \u001b[0mprint\u001b[0m\u001b[0;34m(\u001b[0m\u001b[0mi\u001b[0m\u001b[0;34m)\u001b[0m\u001b[0;34m\u001b[0m\u001b[0m\n",
      "\u001b[0;31mTypeError\u001b[0m: 'float' object cannot be interpreted as an integer"
     ]
    }
   ],
   "source": [
    "import math\n",
    "\n",
    "# Cannot range over infinity\n",
    "for i in range(math.inf):\n",
    "    print(i)"
   ]
  },
  {
   "cell_type": "code",
   "execution_count": 130,
   "metadata": {
    "collapsed": false
   },
   "outputs": [
    {
     "name": "stdout",
     "output_type": "stream",
     "text": [
      "    1    2    3    4    5    6    7    8    9   10   11   12\n",
      "    2    4    6    8   10   12   14   16   18   20   22   24\n",
      "    3    6    9   12   15   18   21   24   27   30   33   36\n",
      "    4    8   12   16   20   24   28   32   36   40   44   48\n",
      "    5   10   15   20   25   30   35   40   45   50   55   60\n",
      "    6   12   18   24   30   36   42   48   54   60   66   72\n",
      "    7   14   21   28   35   42   49   56   63   70   77   84\n",
      "    8   16   24   32   40   48   56   64   72   80   88   96\n",
      "    9   18   27   36   45   54   63   72   81   90   99  108\n",
      "   10   20   30   40   50   60   70   80   90  100  110  120\n",
      "   11   22   33   44   55   66   77   88   99  110  121  132\n",
      "   12   24   36   48   60   72   84   96  108  120  132  144\n",
      "\n"
     ]
    }
   ],
   "source": [
    "def get_rows():\n",
    "    return [1,2,3,4,5,6,7,8,9,10,11,12]\n",
    "\n",
    "def get_columns():\n",
    "    return [1,2,3,4,5,6,7,8,9,10,11,12]\n",
    "\n",
    "def get_max_width(first_number, second_number):\n",
    "    \"\"\"\n",
    "    Return the widest a given mutiplication times table cell should be\n",
    "    \"\"\"\n",
    "    highest_value_str = str(first_number * second_number)\n",
    "    \n",
    "    return len(highest_value_str) + 2 # Add two to make it appear to be one bigger on each side\n",
    "\n",
    "\n",
    "rows = get_rows()\n",
    "columns = get_columns()\n",
    "max_width = get_max_width(max(rows), max(columns))\n",
    "output = ''\n",
    "\n",
    "# Go over the numbers to produce each row in the times table\n",
    "for row_value in rows:\n",
    "    \n",
    "    # Create each column in the times table with this for loop\n",
    "    for col_value in columns:\n",
    "        product_str = str(row_value * col_value)\n",
    "        output = output + product_str.rjust(max_width)\n",
    "    \n",
    "    # Add a new line after each set of numbers to ensure the next\n",
    "    # number in the times table gets its own row.\n",
    "    output += '\\n'\n",
    "\n",
    "print(output)"
   ]
  },
  {
   "cell_type": "markdown",
   "metadata": {
    "collapsed": true
   },
   "source": [
    "## Iterating over a list of strings\n",
    "\n",
    "Shows how to iterate over strings and that you can iterate over sub collections as well"
   ]
  },
  {
   "cell_type": "code",
   "execution_count": 142,
   "metadata": {
    "collapsed": false
   },
   "outputs": [
    {
     "name": "stdout",
     "output_type": "stream",
     "text": [
      "Existing words:  ['the', 'quick', 'brown', 'fox', 'jumps', 'over', 'the', 'lazy', 'dog']\n",
      "New words:  ['jef', 'ksvgr', 'iumch', 'xmz', 'ysdpw', 'mqfu', 'jef', 'blnt', 'amo']\n"
     ]
    }
   ],
   "source": [
    "# For each word in our list of words I want to \"translate\" it\n",
    "from random import shuffle\n",
    "\n",
    "new_alphabet = ['l', 'i', 'g', 'a', 'f', 'x', 'o', 'e', 'v',\n",
    "                'y', 'r', 'b', 'd', 'h', 'm', 'p', 'k', 'u',\n",
    "                'w', 'j', 's', 'q', 'c', 'z', 't', 'n']\n",
    "\n",
    "words = ['The', 'quick', 'brown', 'fox',\n",
    "         'jumps', 'over', 'the', 'lazy', 'dog']\n",
    "\n",
    "# Normalize the words\n",
    "position = 0\n",
    "for word in words:\n",
    "    words[position] = word.lower()\n",
    "    position += 1\n",
    "\n",
    "# Go over each word and replace it with the 'modified' word\n",
    "# Create a new list so that we do not modify the original\n",
    "word_index = 0\n",
    "new_words = list(words)\n",
    "for word in words:\n",
    "    # Initialize the new word\n",
    "    new_words[word_index] = ''\n",
    "    \n",
    "    # Go over and setup each new word replacing the old letters\n",
    "    for letter in word:\n",
    "        new_alphabet_position = ord(letter) - ord('a')\n",
    "        new_words[word_index] += new_alphabet[new_alphabet_position]\n",
    "    \n",
    "    # Increase the word index so we populate the word in the list correctly\n",
    "    word_index += 1\n",
    "        \n",
    "\n",
    "print('Existing words: ', words)\n",
    "print('New words: ', new_words)\n"
   ]
  },
  {
   "cell_type": "markdown",
   "metadata": {},
   "source": [
    "## Default Parameters"
   ]
  },
  {
   "cell_type": "code",
   "execution_count": 159,
   "metadata": {
    "collapsed": false
   },
   "outputs": [
    {
     "name": "stdout",
     "output_type": "stream",
     "text": [
      "one 100\n",
      "two 50\n",
      "two 2.0\n",
      "two inf\n",
      "one 0\n",
      "8\n",
      "I have no product\n"
     ]
    }
   ],
   "source": [
    "import math\n",
    "\n",
    "def times_x(value, x=10):\n",
    "    return value * x\n",
    "\n",
    "def divide_x(value, x=None):\n",
    "    if x == None:\n",
    "        return 0\n",
    "    \n",
    "    elif x == 0:\n",
    "        return math.inf # This is infinity\n",
    "    \n",
    "    return value / x\n",
    "\n",
    "\n",
    "print('one', times_x(10))\n",
    "print('two', times_x(10,5))\n",
    "print('two', divide_x(20, 10))\n",
    "print('two', divide_x(20, 0))\n",
    "print('one', divide_x(20))\n",
    "\n",
    "def broken_times(x, y):\n",
    "    if y == None:\n",
    "        y = 10\n",
    "    return x * y\n",
    "\n",
    "# print(broken_times(10))\n",
    "\n",
    "def x_times_y(x, y):\n",
    "    if type(x) == int and type(y) == int:\n",
    "        return x * y\n",
    "    return None\n",
    "\n",
    "\n",
    "product = x_times_y(2, 4)\n",
    "print(product)\n",
    "\n",
    "product = x_times_y(None, 2)\n",
    "if type(product) == type(None):\n",
    "    print('I have no product')\n",
    "else:\n",
    "    print(product)\n"
   ]
  },
  {
   "cell_type": "markdown",
   "metadata": {},
   "source": [
    "## Bonus: Testing your code\n",
    "\n",
    "Here is an easy way to test that your code does what you want"
   ]
  },
  {
   "cell_type": "code",
   "execution_count": 160,
   "metadata": {
    "collapsed": false
   },
   "outputs": [
    {
     "name": "stdout",
     "output_type": "stream",
     "text": [
      "1\n",
      "2\n",
      "3\n",
      "5\n",
      "7\n",
      "11\n",
      "13\n",
      "15\n",
      "17\n",
      "19\n"
     ]
    },
    {
     "ename": "AssertionError",
     "evalue": "False is not equal to True",
     "output_type": "error",
     "traceback": [
      "\u001b[0;31m---------------------------------------------------------------------------\u001b[0m",
      "\u001b[0;31mAssertionError\u001b[0m                            Traceback (most recent call last)",
      "\u001b[0;32m<ipython-input-160-71b0c9943989>\u001b[0m in \u001b[0;36m<module>\u001b[0;34m()\u001b[0m\n\u001b[1;32m     18\u001b[0m \u001b[0;32mfor\u001b[0m \u001b[0mprime\u001b[0m \u001b[0;32min\u001b[0m \u001b[0mprimes\u001b[0m\u001b[0;34m:\u001b[0m\u001b[0;34m\u001b[0m\u001b[0m\n\u001b[1;32m     19\u001b[0m     \u001b[0mprint\u001b[0m\u001b[0;34m(\u001b[0m\u001b[0mprime\u001b[0m\u001b[0;34m)\u001b[0m\u001b[0;34m\u001b[0m\u001b[0m\n\u001b[0;32m---> 20\u001b[0;31m     \u001b[0mtest_values\u001b[0m\u001b[0;34m(\u001b[0m\u001b[0mis_prime\u001b[0m\u001b[0;34m(\u001b[0m\u001b[0mprime\u001b[0m\u001b[0;34m)\u001b[0m\u001b[0;34m,\u001b[0m \u001b[0;32mTrue\u001b[0m\u001b[0;34m)\u001b[0m\u001b[0;34m\u001b[0m\u001b[0m\n\u001b[0m",
      "\u001b[0;32m<ipython-input-160-71b0c9943989>\u001b[0m in \u001b[0;36mtest_values\u001b[0;34m(first_value, second_value)\u001b[0m\n\u001b[1;32m      6\u001b[0m     \"\"\"\n\u001b[1;32m      7\u001b[0m     \u001b[0mfailed_message\u001b[0m \u001b[0;34m=\u001b[0m \u001b[0;34m\"{0} is not equal to {1}\"\u001b[0m\u001b[0;34m.\u001b[0m\u001b[0mformat\u001b[0m\u001b[0;34m(\u001b[0m\u001b[0mfirst_value\u001b[0m\u001b[0;34m,\u001b[0m \u001b[0msecond_value\u001b[0m\u001b[0;34m)\u001b[0m\u001b[0;34m\u001b[0m\u001b[0m\n\u001b[0;32m----> 8\u001b[0;31m     \u001b[0;32massert\u001b[0m \u001b[0mfirst_value\u001b[0m \u001b[0;34m==\u001b[0m \u001b[0msecond_value\u001b[0m\u001b[0;34m,\u001b[0m \u001b[0mfailed_message\u001b[0m\u001b[0;34m\u001b[0m\u001b[0m\n\u001b[0m\u001b[1;32m      9\u001b[0m \u001b[0;34m\u001b[0m\u001b[0m\n\u001b[1;32m     10\u001b[0m \u001b[0;34m\u001b[0m\u001b[0m\n",
      "\u001b[0;31mAssertionError\u001b[0m: False is not equal to True"
     ]
    }
   ],
   "source": [
    "def test_values(first_value, second_value):\n",
    "    \"\"\"\n",
    "    Asserts that the first and second parameters have the same value\n",
    "    \n",
    "    Raises an AssertionError if they are different with a message\n",
    "    \"\"\"\n",
    "    failed_message = \"{0} is not equal to {1}\".format(first_value, second_value)\n",
    "    assert first_value == second_value, failed_message\n",
    "\n",
    "    \n",
    "def is_prime(x):\n",
    "    if x in [1,2,3,5,7,11,13,15,17]:\n",
    "        return True\n",
    "    return False\n",
    "\n",
    "\n",
    "primes = [1,2,3,5,7,11,13,15,17,19,23]\n",
    "for prime in primes:\n",
    "    print(prime)\n",
    "    test_values(is_prime(prime), True)"
   ]
  },
  {
   "cell_type": "markdown",
   "metadata": {},
   "source": [
    "## Studio: Bugz"
   ]
  },
  {
   "cell_type": "code",
   "execution_count": null,
   "metadata": {
    "collapsed": true
   },
   "outputs": [],
   "source": []
  }
 ],
 "metadata": {
  "kernelspec": {
   "display_name": "Python 3",
   "language": "python",
   "name": "python3"
  },
  "language_info": {
   "codemirror_mode": {
    "name": "ipython",
    "version": 3
   },
   "file_extension": ".py",
   "mimetype": "text/x-python",
   "name": "python",
   "nbconvert_exporter": "python",
   "pygments_lexer": "ipython3",
   "version": "3.5.2"
  }
 },
 "nbformat": 4,
 "nbformat_minor": 1
}
