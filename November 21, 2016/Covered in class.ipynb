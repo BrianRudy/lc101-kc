{
 "cells": [
  {
   "cell_type": "markdown",
   "metadata": {},
   "source": [
    "## List Operations"
   ]
  },
  {
   "cell_type": "code",
   "execution_count": 140,
   "metadata": {
    "collapsed": false
   },
   "outputs": [
    {
     "name": "stdout",
     "output_type": "stream",
     "text": [
      "['apple', 'pear', 'orange', 'carrot', 'broccoli', 'celery']\n",
      "['carrot', 'broccoli', 'celery', 'apple', 'pear', 'orange']\n"
     ]
    }
   ],
   "source": [
    "# Adding together\n",
    "fruit = ['apple', 'pear', 'orange']\n",
    "vegetable = ['carrot', 'broccoli', 'celery']\n",
    "\n",
    "food_fruit_first = fruit + vegetable\n",
    "\n",
    "print(food_fruit_first)\n",
    "\n",
    "food_vegetable_first = vegetable + fruit\n",
    "\n",
    "print(food_vegetable_first)"
   ]
  },
  {
   "cell_type": "code",
   "execution_count": 141,
   "metadata": {
    "collapsed": false
   },
   "outputs": [
    {
     "name": "stdout",
     "output_type": "stream",
     "text": [
      "nana\n",
      "nana nana nana nana nana nana nana nana batman\n",
      "nana nana nana nana  batman\n"
     ]
    }
   ],
   "source": [
    "# Repeating List as characters\n",
    "na = 'na'\n",
    "batman = 'batman'\n",
    "meow = na * 2\n",
    "nana = meow\n",
    "\n",
    "print(meow)\n",
    "\n",
    "print((nana + ' ') * 8 + batman)\n",
    "\n",
    "nana_with_space = nana + ' '\n",
    "print('{0}{0}{0}{0} {1}'.format(nana_with_space, batman))"
   ]
  },
  {
   "cell_type": "code",
   "execution_count": 142,
   "metadata": {
    "collapsed": false
   },
   "outputs": [
    {
     "name": "stdout",
     "output_type": "stream",
     "text": [
      "[1, 2, 3, 4, 5, 1, 2, 3, 4, 5]\n",
      "[2, 4, 6, 8, 10]\n"
     ]
    }
   ],
   "source": [
    "# Repeating lists\n",
    "values = [1,2,3,4,5]\n",
    "\n",
    "def multiply_by_2(value):\n",
    "    return value * 2\n",
    "\n",
    "print(values * 2)\n",
    "print(list(map(multiply_by_2, values)))\n"
   ]
  },
  {
   "cell_type": "code",
   "execution_count": 143,
   "metadata": {
    "collapsed": false
   },
   "outputs": [
    {
     "name": "stdout",
     "output_type": "stream",
     "text": [
      "['knife', 'chapstick', 'cards', 'plum', 'jacket']\n",
      "['chapstick', 'cards', 'plum', 'jacket']\n"
     ]
    }
   ],
   "source": [
    "# Removing elements from lists\n",
    "\n",
    "bag = ['knife', 'chapstick', 'cards', 'plum', 'jacket']\n",
    "\n",
    "print(bag)\n",
    "\n",
    "del bag[0]\n",
    "\n",
    "print(bag)\n"
   ]
  },
  {
   "cell_type": "code",
   "execution_count": 144,
   "metadata": {
    "collapsed": false
   },
   "outputs": [
    {
     "name": "stdout",
     "output_type": "stream",
     "text": [
      "Food starts wtih ['apple', 'pear', 'orange', 'carrot', 'broccoli', 'celery']\n",
      "I'm at list location 0\n",
      "Length of list 6\n",
      "Deleted apple index 0\n",
      "I'm at list location 1\n",
      "Length of list 5\n",
      "Deleted orange index 1\n",
      "I'm at list location 2\n",
      "Length of list 4\n",
      "I'm at list location 3\n",
      "Length of list 4\n",
      "I'm at list location 4\n",
      "Length of list 4\n"
     ]
    },
    {
     "ename": "IndexError",
     "evalue": "list index out of range",
     "output_type": "error",
     "traceback": [
      "\u001b[0;31m---------------------------------------------------------------------------\u001b[0m",
      "\u001b[0;31mIndexError\u001b[0m                                Traceback (most recent call last)",
      "\u001b[0;32m<ipython-input-144-7b5052d9c021>\u001b[0m in \u001b[0;36m<module>\u001b[0;34m()\u001b[0m\n\u001b[1;32m     14\u001b[0m     \u001b[0mprint\u001b[0m\u001b[0;34m(\u001b[0m\u001b[0;34m'I\\'m at list location'\u001b[0m\u001b[0;34m,\u001b[0m \u001b[0mindex\u001b[0m\u001b[0;34m)\u001b[0m\u001b[0;34m\u001b[0m\u001b[0m\n\u001b[1;32m     15\u001b[0m     \u001b[0mprint\u001b[0m\u001b[0;34m(\u001b[0m\u001b[0;34m'Length of list'\u001b[0m\u001b[0;34m,\u001b[0m \u001b[0mlen\u001b[0m\u001b[0;34m(\u001b[0m\u001b[0mfood\u001b[0m\u001b[0;34m)\u001b[0m\u001b[0;34m)\u001b[0m\u001b[0;34m\u001b[0m\u001b[0m\n\u001b[0;32m---> 16\u001b[0;31m     \u001b[0;32mif\u001b[0m \u001b[0mis_fruit\u001b[0m\u001b[0;34m(\u001b[0m\u001b[0mfood\u001b[0m\u001b[0;34m[\u001b[0m\u001b[0mindex\u001b[0m\u001b[0;34m]\u001b[0m\u001b[0;34m)\u001b[0m\u001b[0;34m:\u001b[0m\u001b[0;34m\u001b[0m\u001b[0m\n\u001b[0m\u001b[1;32m     17\u001b[0m         \u001b[0mprint\u001b[0m\u001b[0;34m(\u001b[0m\u001b[0;34m'Deleted'\u001b[0m\u001b[0;34m,\u001b[0m \u001b[0mfood\u001b[0m\u001b[0;34m[\u001b[0m\u001b[0mindex\u001b[0m\u001b[0;34m]\u001b[0m\u001b[0;34m,\u001b[0m \u001b[0;34m'index'\u001b[0m\u001b[0;34m,\u001b[0m \u001b[0mindex\u001b[0m\u001b[0;34m)\u001b[0m\u001b[0;34m\u001b[0m\u001b[0m\n\u001b[1;32m     18\u001b[0m         \u001b[0;32mdel\u001b[0m \u001b[0mfood\u001b[0m\u001b[0;34m[\u001b[0m\u001b[0mindex\u001b[0m\u001b[0;34m]\u001b[0m\u001b[0;34m\u001b[0m\u001b[0m\n",
      "\u001b[0;31mIndexError\u001b[0m: list index out of range"
     ]
    }
   ],
   "source": [
    "# Removing elements from lists -- this has an error, be ready\n",
    "fruit = ['apple', 'pear', 'orange']\n",
    "vegetable = ['carrot', 'broccoli', 'celery']\n",
    "\n",
    "food = fruit + vegetable\n",
    "\n",
    "def is_fruit(item):\n",
    "    return item in fruit\n",
    "\n",
    "\n",
    "print('Food starts wtih', food)\n",
    "# Remove all the fruit we've added -- or so we thought\n",
    "for index in range(len(food)):\n",
    "    print('I\\'m at list location', index)\n",
    "    print('Length of list', len(food))\n",
    "    if is_fruit(food[index]):\n",
    "        print('Deleted', food[index], 'index', index)\n",
    "        del food[index]\n",
    "        \n",
    "\n",
    "print('Food ends with', food)"
   ]
  },
  {
   "cell_type": "code",
   "execution_count": 145,
   "metadata": {
    "collapsed": false
   },
   "outputs": [
    {
     "name": "stdout",
     "output_type": "stream",
     "text": [
      "Food starts wtih ['apple', 'pear', 'orange', 'carrot', 'broccoli', 'celery']\n",
      "Food ends with ['carrot', 'broccoli', 'celery']\n",
      "[1, 2, 3, 4, 1, 2, 3, 4]\n",
      "[2, 3, 4, 1, 2, 3, 4]\n",
      "[2, 3, 4, 2, 3, 4]\n"
     ]
    },
    {
     "ename": "ValueError",
     "evalue": "list.remove(x): x not in list",
     "output_type": "error",
     "traceback": [
      "\u001b[0;31m---------------------------------------------------------------------------\u001b[0m",
      "\u001b[0;31mValueError\u001b[0m                                Traceback (most recent call last)",
      "\u001b[0;32m<ipython-input-145-8f16409a7e80>\u001b[0m in \u001b[0;36m<module>\u001b[0;34m()\u001b[0m\n\u001b[1;32m     21\u001b[0m \u001b[0mnumbers\u001b[0m\u001b[0;34m.\u001b[0m\u001b[0mremove\u001b[0m\u001b[0;34m(\u001b[0m\u001b[0;36m1\u001b[0m\u001b[0;34m)\u001b[0m\u001b[0;34m\u001b[0m\u001b[0m\n\u001b[1;32m     22\u001b[0m \u001b[0mprint\u001b[0m\u001b[0;34m(\u001b[0m\u001b[0mnumbers\u001b[0m\u001b[0;34m)\u001b[0m\u001b[0;34m\u001b[0m\u001b[0m\n\u001b[0;32m---> 23\u001b[0;31m \u001b[0mnumbers\u001b[0m\u001b[0;34m.\u001b[0m\u001b[0mremove\u001b[0m\u001b[0;34m(\u001b[0m\u001b[0;36m1\u001b[0m\u001b[0;34m)\u001b[0m\u001b[0;34m\u001b[0m\u001b[0m\n\u001b[0m",
      "\u001b[0;31mValueError\u001b[0m: list.remove(x): x not in list"
     ]
    }
   ],
   "source": [
    "# Better way of removing from the list\n",
    "\n",
    "# Removing elements from lists\n",
    "fruit = ['apple', 'pear', 'orange']\n",
    "vegetable = ['carrot', 'broccoli', 'celery']\n",
    "\n",
    "food = fruit + vegetable\n",
    "\n",
    "print('Food starts wtih', food)\n",
    "# Remove all the fruit we've added\n",
    "for item in fruit:\n",
    "    if item in food:\n",
    "        food.remove(item)        \n",
    "\n",
    "print('Food ends with', food)\n",
    "\n",
    "numbers = [1,2,3,4,1,2,3,4]\n",
    "print(numbers)\n",
    "numbers.remove(1)\n",
    "print(numbers)\n",
    "numbers.remove(1)\n",
    "print(numbers)\n",
    "numbers.remove(1)"
   ]
  },
  {
   "cell_type": "markdown",
   "metadata": {},
   "source": [
    "## Objects and memory\n",
    "\n",
    "Think about the `is` operator as well as the `==` operator. Also look at how memory is allocated for a computer."
   ]
  },
  {
   "cell_type": "code",
   "execution_count": 146,
   "metadata": {
    "collapsed": false
   },
   "outputs": [
    {
     "name": "stdout",
     "output_type": "stream",
     "text": [
      "True\n"
     ]
    }
   ],
   "source": [
    "# Looking at the is operator\n",
    "def default_return():\n",
    "    pass\n",
    "\n",
    "\n",
    "print(default_return() is None)"
   ]
  },
  {
   "cell_type": "code",
   "execution_count": null,
   "metadata": {
    "collapsed": true
   },
   "outputs": [],
   "source": []
  },
  {
   "cell_type": "code",
   "execution_count": 147,
   "metadata": {
    "collapsed": false
   },
   "outputs": [
    {
     "name": "stdout",
     "output_type": "stream",
     "text": [
      "[]\n",
      "[]\n",
      "Equal True\n",
      "The same False\n",
      "4500354312 4500354824\n"
     ]
    }
   ],
   "source": [
    "first_list = []\n",
    "second_list = []\n",
    "\n",
    "print(first_list)\n",
    "print(second_list)\n",
    "print('Equal', first_list == second_list)\n",
    "print('The same', first_list is second_list)\n",
    "print(id(first_list), id(second_list))"
   ]
  },
  {
   "cell_type": "code",
   "execution_count": 148,
   "metadata": {
    "collapsed": false
   },
   "outputs": [
    {
     "name": "stdout",
     "output_type": "stream",
     "text": [
      "Equal True\n",
      "The same True\n",
      "4472724032 4472724032\n"
     ]
    }
   ],
   "source": [
    "first_a  = 'a'\n",
    "second_a = 'a'\n",
    "\n",
    "print('Equal', first_a == second_a)\n",
    "print('The same', first_a is second_a)\n",
    "print(id(first_a), id(second_a))"
   ]
  },
  {
   "cell_type": "code",
   "execution_count": 149,
   "metadata": {
    "collapsed": false
   },
   "outputs": [
    {
     "name": "stdout",
     "output_type": "stream",
     "text": [
      "Equal True\n",
      "The same True\n",
      "4468480560 4468480560\n"
     ]
    }
   ],
   "source": [
    "first_int = 1\n",
    "second_int = 1\n",
    "\n",
    "print('Equal', first_int == second_int)\n",
    "print('The same', first_int is second_int)\n",
    "print(id(first_int), id(second_int))"
   ]
  },
  {
   "cell_type": "markdown",
   "metadata": {},
   "source": [
    "## Adding to lists"
   ]
  },
  {
   "cell_type": "code",
   "execution_count": 150,
   "metadata": {
    "collapsed": false
   },
   "outputs": [
    {
     "name": "stdout",
     "output_type": "stream",
     "text": [
      "['apple', 'anise', 'apricote']\n"
     ]
    }
   ],
   "source": [
    "def starts_with_a(word):\n",
    "    if type(word) is str:\n",
    "        return word.startswith('a')\n",
    "\n",
    "    \n",
    "foods_bar = ['apple', 'anise', 'blueberry', 'pizza', 'chips']\n",
    "foods_foo = ['chicken', 'apricote', 'charmander']\n",
    "foods_starting_with_a = []\n",
    "    \n",
    "for food in foods_bar:\n",
    "    if starts_with_a(food):\n",
    "        foods_starting_with_a.append(food)\n",
    "\n",
    "for food in foods_foo:\n",
    "    if starts_with_a(food):\n",
    "        foods_starting_with_a.append(food)\n",
    "\n",
    "print(foods_starting_with_a)"
   ]
  },
  {
   "cell_type": "code",
   "execution_count": 151,
   "metadata": {
    "collapsed": false
   },
   "outputs": [
    {
     "name": "stdout",
     "output_type": "stream",
     "text": [
      "[1, 2, 3, 4]\n",
      "[5, 6, 7, 8]\n",
      "[[1, 2, 3, 4], [5, 6, 7, 8]]\n",
      "4500724296\n",
      "4500725256\n",
      "4500743944\n",
      "[1, 2, 3, 4, 200]\n",
      "[[1, 2, 3, 4], [5, 6, 7, 8]]\n"
     ]
    }
   ],
   "source": [
    "numbers = [1,2,3,4]\n",
    "numbers_two = [5,6,7,8]\n",
    "\n",
    "print(numbers)\n",
    "print(numbers_two)\n",
    "\n",
    "starting_numbers = [list(numbers), numbers_two]\n",
    "print(starting_numbers)\n",
    "\n",
    "\n",
    "print(id(starting_numbers))\n",
    "print(id(numbers))\n",
    "print(id(starting_numbers[0]))\n",
    "\n",
    "numbers.append(200)\n",
    "\n",
    "print(numbers)\n",
    "print(starting_numbers)"
   ]
  },
  {
   "cell_type": "markdown",
   "metadata": {},
   "source": [
    "### Assignment and how it works\n",
    "\n",
    "Using adding to lists to show you can modify one another."
   ]
  },
  {
   "cell_type": "code",
   "execution_count": 152,
   "metadata": {
    "collapsed": false
   },
   "outputs": [
    {
     "name": "stdout",
     "output_type": "stream",
     "text": [
      "Warehouse of foods and goods\n",
      "[['apple', 'pear', 'grape'],\n",
      " ['chips', 'soup', 'cans'],\n",
      " ['cotton', 'hide', 'denim'],\n",
      " ['gloves', 'boots', 'jeans']]\n",
      "\n",
      "Warehouse of foods\n",
      "[['apple', 'pear', 'grape'],\n",
      " ['chips', 'soup', 'cans'],\n",
      " ['bologna', 'beef', 'turkey']]\n",
      "\n",
      "Warehouse of foods and goods\n",
      "[['apple', 'pear', 'grape'],\n",
      " ['chips', 'soup', 'cans'],\n",
      " ['cotton', 'hide', 'denim'],\n",
      " ['gloves', 'boots', 'jeans']]\n",
      "\n",
      "Fruits\n",
      "['apple', 'pear', 'grape', 'peach']\n",
      "\n",
      "Food warehouse\n",
      "[['apple', 'pear', 'grape', 'peach'],\n",
      " ['chips', 'soup', 'cans'],\n",
      " ['bologna', 'beef', 'turkey']]\n",
      "\n",
      "Food and goods\n",
      "[['apple', 'pear', 'grape', 'peach'],\n",
      " ['chips', 'soup', 'cans'],\n",
      " ['cotton', 'hide', 'denim'],\n",
      " ['gloves', 'boots', 'jeans']]\n",
      "\n",
      "Warehouse of goods\n",
      "[['cotton', 'hide', 'denim']]\n",
      "\n",
      "Warehouse of Foods and Goods\n",
      "[['apple', 'pear', 'grape', 'peach'],\n",
      " ['chips', 'soup', 'cans'],\n",
      " ['cotton', 'hide', 'denim'],\n",
      " ['gloves', 'boots', 'jeans']]\n",
      "\n"
     ]
    }
   ],
   "source": [
    "from pprint import pprint\n",
    "\n",
    "fruit = ['apple', 'pear', 'grape']\n",
    "non_perishable = ['chips', 'soup', 'cans']\n",
    "meat = ['bologna', 'beef', 'turkey']\n",
    "\n",
    "warehouse_foods = [\n",
    "    fruit,\n",
    "    non_perishable\n",
    "]\n",
    "\n",
    "\n",
    "material = ['cotton', 'hide', 'denim']\n",
    "made_goods = ['gloves', 'boots', 'jeans']\n",
    "\n",
    "warehouse_goods = [\n",
    "    material,\n",
    "    made_goods\n",
    "]\n",
    "\n",
    "warehouse_foods_and_goods = warehouse_foods + warehouse_goods\n",
    "\n",
    "# Print out the lists of all foods and goods\n",
    "print('Warehouse of foods and goods')\n",
    "pprint(warehouse_foods_and_goods)\n",
    "print()\n",
    "\n",
    "# Change the food wharehouse to have another set of food\n",
    "warehouse_foods.append(meat)\n",
    "print('Warehouse of foods')\n",
    "pprint(warehouse_foods)\n",
    "print()\n",
    "\n",
    "# See what's in the food and goods wharehouse again\n",
    "print('Warehouse of foods and goods')\n",
    "pprint(warehouse_foods_and_goods)\n",
    "print()\n",
    "\n",
    "# Add more fruit\n",
    "fruit.append('peach')\n",
    "print('Fruits')\n",
    "print(fruit)\n",
    "print()\n",
    "\n",
    "# See what's in the food warehouse\n",
    "print('Food warehouse')\n",
    "pprint(warehouse_foods)\n",
    "print()\n",
    "\n",
    "# See what's in the food and goods ware house\n",
    "print('Food and goods')\n",
    "pprint(warehouse_foods_and_goods)\n",
    "print()\n",
    "\n",
    "# Remove the materials from the warehouse_goods\n",
    "del warehouse_goods[1]\n",
    "print('Warehouse of goods')\n",
    "pprint(warehouse_goods)\n",
    "print()\n",
    "\n",
    "# See what's left in the food and goods warehouse\n",
    "print('Warehouse of Foods and Goods')\n",
    "pprint(warehouse_foods_and_goods)\n",
    "print()"
   ]
  },
  {
   "cell_type": "code",
   "execution_count": 153,
   "metadata": {
    "collapsed": true
   },
   "outputs": [],
   "source": [
    "my_list = [2, 5, 3, 1]\n",
    "# run first iteration bubble\n",
    "my_list = [2, 3, 5, 1]\n",
    "# run second iteraiton bubble\n",
    "my_list = [2, 3, 1, 5]\n",
    "# run third iteration bubble\n",
    "my_list = [2, 1, 3, 5]\n",
    "# run fourth iteration bubble\n",
    "my_list = [1, 2, 3, 5]\n",
    "# run fifth iteration bubble\n",
    "# DONE my_list is sorted"
   ]
  },
  {
   "cell_type": "code",
   "execution_count": 154,
   "metadata": {
    "collapsed": false
   },
   "outputs": [
    {
     "name": "stdout",
     "output_type": "stream",
     "text": [
      "[1, 2, 3, 4, 5]\n",
      "[1, 2, 3, 4, 5]\n",
      "[1, 2, 3, 4, 5]\n",
      "[1, 2, 3, 4, 5]\n",
      "[1, 2, 3, 4, 5]\n",
      "[1, 2, 3, 4, 5]\n",
      "[1, 2, 3, 4, 5]\n",
      "[1, 2, 3, 4, 5]\n",
      "[1, 2, 3, 4, 5]\n",
      "[5, 4, 3, 2, 1]\n",
      "[4, 5, 3, 2, 1]\n",
      "[4, 5, 3, 2, 1]\n",
      "[4, 3, 5, 2, 1]\n",
      "[4, 3, 5, 2, 1]\n",
      "[4, 3, 2, 5, 1]\n",
      "[4, 3, 2, 5, 1]\n",
      "[4, 3, 2, 1, 5]\n",
      "[4, 3, 2, 1, 5]\n",
      "[3, 4, 2, 1, 5]\n",
      "[3, 4, 2, 1, 5]\n",
      "[3, 2, 4, 1, 5]\n",
      "[3, 2, 4, 1, 5]\n",
      "[3, 2, 1, 4, 5]\n",
      "[3, 2, 1, 4, 5]\n",
      "[3, 2, 1, 4, 5]\n",
      "[3, 2, 1, 4, 5]\n",
      "[2, 3, 1, 4, 5]\n",
      "[2, 3, 1, 4, 5]\n",
      "[2, 1, 3, 4, 5]\n",
      "[2, 1, 3, 4, 5]\n",
      "[2, 1, 3, 4, 5]\n",
      "[2, 1, 3, 4, 5]\n",
      "[2, 1, 3, 4, 5]\n",
      "[2, 1, 3, 4, 5]\n",
      "[1, 2, 3, 4, 5]\n",
      "[1, 2, 3, 4, 5]\n",
      "[1, 2, 3, 4, 5]\n",
      "[1, 2, 3, 4, 5]\n",
      "[1, 2, 3, 4, 5]\n",
      "[1, 2, 3, 4, 5]\n",
      "[1, 2, 3, 4, 5]\n",
      "[1, 2, 3, 4, 5]\n",
      "[1, 2, 3, 4, 5]\n",
      "[1, 2, 3, 4, 5]\n",
      "[1, 2, 3, 4, 5]\n",
      "[1, 2, 3, 4, 5]\n",
      "[1, 2, 3, 4, 5]\n",
      "[1, 2, 3, 4, 5]\n",
      "[1, 2, 3, 4, 5]\n",
      "[1, 2, 3, 4, 5]\n",
      "[4, 5, 3, 1, 2]\n",
      "[4, 5, 3, 1, 2]\n",
      "[4, 5, 3, 1, 2]\n",
      "[4, 3, 5, 1, 2]\n",
      "[4, 3, 5, 1, 2]\n",
      "[4, 3, 1, 5, 2]\n",
      "[4, 3, 1, 5, 2]\n",
      "[4, 3, 1, 2, 5]\n",
      "[4, 3, 1, 2, 5]\n",
      "[3, 4, 1, 2, 5]\n",
      "[3, 4, 1, 2, 5]\n",
      "[3, 1, 4, 2, 5]\n",
      "[3, 1, 4, 2, 5]\n",
      "[3, 1, 2, 4, 5]\n",
      "[3, 1, 2, 4, 5]\n",
      "[3, 1, 2, 4, 5]\n",
      "[3, 1, 2, 4, 5]\n",
      "[1, 3, 2, 4, 5]\n",
      "[1, 3, 2, 4, 5]\n",
      "[1, 2, 3, 4, 5]\n",
      "[1, 2, 3, 4, 5]\n",
      "[1, 2, 3, 4, 5]\n",
      "[1, 2, 3, 4, 5]\n",
      "[1, 2, 3, 4, 5]\n",
      "[1, 2, 3, 4, 5]\n",
      "[1, 2, 3, 4, 5]\n",
      "[1, 2, 3, 4, 5]\n",
      "[1, 2, 3, 4, 5]\n",
      "[1, 2, 3, 4, 5]\n",
      "[1, 2, 3, 4, 5]\n",
      "[1, 2, 3, 4, 5]\n",
      "[1, 2, 3, 4, 5]\n",
      "[1, 2, 3, 4, 5]\n",
      "[1, 2, 3, 4, 5]\n",
      "[1, 2, 3, 4, 5]\n",
      "[1, 2, 3, 4, 5]\n",
      "[1, 2, 3, 4, 5]\n",
      "[1, 2, 3, 4, 5]\n",
      "[1, 2, 3, 4, 5]\n",
      "[1, 2, 3, 4, 5]\n",
      "[1, 2, 3, 4, 5]\n",
      "[5, 4, 3, 2, 1]\n",
      "[4, 5, 3, 2, 1]\n",
      "[4, 5, 3, 2, 1]\n",
      "[4, 3, 5, 2, 1]\n",
      "[4, 3, 5, 2, 1]\n",
      "[4, 3, 2, 5, 1]\n",
      "[4, 3, 2, 5, 1]\n",
      "[4, 3, 2, 1, 5]\n",
      "[4, 3, 2, 1, 5]\n",
      "[3, 4, 2, 1, 5]\n",
      "[3, 4, 2, 1, 5]\n",
      "[3, 2, 4, 1, 5]\n",
      "[3, 2, 4, 1, 5]\n",
      "[3, 2, 1, 4, 5]\n",
      "[3, 2, 1, 4, 5]\n",
      "[3, 2, 1, 4, 5]\n",
      "[3, 2, 1, 4, 5]\n",
      "[2, 3, 1, 4, 5]\n",
      "[2, 3, 1, 4, 5]\n",
      "[2, 1, 3, 4, 5]\n",
      "[2, 1, 3, 4, 5]\n",
      "[2, 1, 3, 4, 5]\n",
      "[2, 1, 3, 4, 5]\n",
      "[2, 1, 3, 4, 5]\n",
      "[2, 1, 3, 4, 5]\n",
      "[1, 2, 3, 4, 5]\n",
      "[1, 2, 3, 4, 5]\n",
      "[1, 2, 3, 4, 5]\n",
      "[1, 2, 3, 4, 5]\n",
      "[1, 2, 3, 4, 5]\n",
      "[1, 2, 3, 4, 5]\n",
      "[1, 2, 3, 4, 5]\n",
      "[1, 2, 3, 4, 5]\n",
      "[1, 2, 3, 4, 5]\n",
      "[1, 2, 3, 4, 5]\n",
      "[1, 2, 3, 4, 5]\n",
      "[1, 2, 3, 4, 5]\n",
      "[1, 2, 3, 4, 5]\n",
      "[1, 2, 3, 4, 5]\n",
      "[1, 2, 3, 4, 5]\n",
      "[4, 5, 3, 1, 2]\n",
      "[4, 5, 3, 1, 2]\n",
      "[4, 5, 3, 1, 2]\n",
      "[4, 3, 5, 1, 2]\n",
      "[4, 3, 5, 1, 2]\n",
      "[4, 3, 1, 5, 2]\n",
      "[4, 3, 1, 5, 2]\n",
      "[4, 3, 1, 2, 5]\n",
      "[4, 3, 1, 2, 5]\n",
      "[3, 4, 1, 2, 5]\n",
      "[3, 4, 1, 2, 5]\n",
      "[3, 1, 4, 2, 5]\n",
      "[3, 1, 4, 2, 5]\n",
      "[3, 1, 2, 4, 5]\n",
      "[3, 1, 2, 4, 5]\n",
      "[3, 1, 2, 4, 5]\n",
      "[3, 1, 2, 4, 5]\n",
      "[1, 3, 2, 4, 5]\n",
      "[1, 3, 2, 4, 5]\n",
      "[1, 2, 3, 4, 5]\n",
      "[1, 2, 3, 4, 5]\n",
      "[1, 2, 3, 4, 5]\n",
      "[1, 2, 3, 4, 5]\n",
      "[1, 2, 3, 4, 5]\n",
      "[1, 2, 3, 4, 5]\n",
      "[1, 2, 3, 4, 5]\n",
      "[1, 2, 3, 4, 5]\n",
      "[1, 2, 3, 4, 5]\n",
      "[1, 2, 3, 4, 5]\n",
      "[1, 2, 3, 4, 5]\n",
      "[1, 2, 3, 4, 5]\n",
      "[1, 2, 3, 4, 5]\n"
     ]
    }
   ],
   "source": [
    "# Bubble Sort implementation:\n",
    "\n",
    "def bubble_sort (items):\n",
    "    is_sorted = False\n",
    "    while is_sorted is False:\n",
    "        nswaps = 0\n",
    "        for index in range(1, len(items)):\n",
    "            previous_index = index - 1\n",
    "            \n",
    "            print(items)\n",
    "            if items[previous_index] > items[index]:\n",
    "                current_item = items[index]\n",
    "                previous_item = items[previous_index]\n",
    "                \n",
    "                items[previous_index] = current_item\n",
    "                items[index] = previous_item\n",
    "                \n",
    "                nswaps =+ 1\n",
    "            print(items)\n",
    "        if nswaps is 0:\n",
    "            is_sorted = True\n",
    "    return items\n",
    "\n",
    "list_1 = [1, 2, 3, 4, 5]\n",
    "list_2 = [5, 4, 3, 2, 1]\n",
    "list_3 = [4, 5, 3, 1, 2]\n",
    "print(bubble_sort(list(list_1)))\n",
    "print(bubble_sort(list(list_2)))\n",
    "print(bubble_sort(list(list_3)))\n",
    "\n",
    "\n",
    "assert bubble_sort(list(list_1)) == sorted(list(list_1))\n",
    "assert bubble_sort(list(list_2)) == sorted(list(list_2))\n",
    "assert bubble_sort(list(list_3)) == sorted(list(list_3))\n"
   ]
  },
  {
   "cell_type": "code",
   "execution_count": null,
   "metadata": {
    "collapsed": true
   },
   "outputs": [],
   "source": []
  },
  {
   "cell_type": "code",
   "execution_count": null,
   "metadata": {
    "collapsed": true
   },
   "outputs": [],
   "source": []
  }
 ],
 "metadata": {
  "kernelspec": {
   "display_name": "Python 3",
   "language": "python",
   "name": "python3"
  },
  "language_info": {
   "codemirror_mode": {
    "name": "ipython",
    "version": 3
   },
   "file_extension": ".py",
   "mimetype": "text/x-python",
   "name": "python",
   "nbconvert_exporter": "python",
   "pygments_lexer": "ipython3",
   "version": "3.5.2"
  }
 },
 "nbformat": 4,
 "nbformat_minor": 1
}
