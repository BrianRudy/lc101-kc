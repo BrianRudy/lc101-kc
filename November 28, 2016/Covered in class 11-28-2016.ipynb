{
 "cells": [
  {
   "cell_type": "markdown",
   "metadata": {},
   "source": [
    "Glossary\n",
    "========\n",
    "Taken from https://runestone.launchcode.org/runestone/static/thinkcspy/ListsContinued/Glossary.html"
   ]
  },
  {
   "cell_type": "markdown",
   "metadata": {},
   "source": [
    "**aliases**\n",
    "\n",
    "Multiple variables that contain references to the same object."
   ]
  },
  {
   "cell_type": "code",
   "execution_count": 1,
   "metadata": {
    "collapsed": false
   },
   "outputs": [
    {
     "name": "stdout",
     "output_type": "stream",
     "text": [
      "Is creature an alias of animal? True\n"
     ]
    }
   ],
   "source": [
    "\"\"\"Assignment between variables creates aliases.\"\"\"\n",
    "animal = \"giraffe\"\n",
    "creature = animal\n",
    "\n",
    "print(\"Is creature an alias of animal?\", creature is animal)"
   ]
  },
  {
   "cell_type": "code",
   "execution_count": 2,
   "metadata": {
    "collapsed": false
   },
   "outputs": [
    {
     "name": "stdout",
     "output_type": "stream",
     "text": [
      "Is weather_subsequent_5_days an alias of weather_next_5_days? No. \n",
      "\n",
      "Is the forecast for the next 5 days the same as the forecast for the subsequent 5 days? Yes. \n",
      "\n",
      "id(weather_next_5_days):       4399029640\n",
      "id(weather_subsequent_5_days): 4399029704\n"
     ]
    }
   ],
   "source": [
    "\"\"\"Assignment of the same value to different variables does not necessarily create aliases.\"\"\"\n",
    "weather_next_5_days       = [\"Sunny\", \"Partly sunny\", \"Cloudy\", \"Sunny\", \"Sunny\"]\n",
    "weather_subsequent_5_days = [\"Sunny\", \"Partly sunny\", \"Cloudy\", \"Sunny\", \"Sunny\"]\n",
    "\n",
    "if weather_subsequent_5_days is weather_next_5_days:\n",
    "    is_weather_subsequent_alias_of_weather_next = \"Yes.\"\n",
    "else:\n",
    "    is_weather_subsequent_alias_of_weather_next = \"No.\"\n",
    "\n",
    "if weather_subsequent_5_days == weather_next_5_days:\n",
    "    same_forecast = \"Yes.\"\n",
    "else:\n",
    "    same_forecast = \"No.\"\n",
    "\n",
    "print(\"Is weather_subsequent_5_days an alias of weather_next_5_days?\",\n",
    "    is_weather_subsequent_alias_of_weather_next, \"\\n\")\n",
    "\n",
    "print(\"Is the forecast for the next 5 days the same as the forecast for the subsequent 5 days?\",\n",
    "      same_forecast, \"\\n\")\n",
    "\n",
    "print(\"id(weather_next_5_days):      \", id(weather_next_5_days))\n",
    "print(\"id(weather_subsequent_5_days):\", id(weather_subsequent_5_days))"
   ]
  },
  {
   "cell_type": "markdown",
   "metadata": {},
   "source": [
    "**clone**\n",
    "\n",
    "To create a new object that has the same value as an existing object. Copying a reference to an object creates an alias but doesn’t clone the object."
   ]
  },
  {
   "cell_type": "code",
   "execution_count": 3,
   "metadata": {
    "collapsed": false
   },
   "outputs": [
    {
     "name": "stdout",
     "output_type": "stream",
     "text": [
      "Is alias an alias of lst? True\n",
      "Is clone an alias of lst? False\n",
      "Do lst, alias, and clone all have the same values? True\n"
     ]
    }
   ],
   "source": [
    "\"\"\"Clone a list to get a new object with the same values.\"\"\"\n",
    "lst = [1, 2, 3]\n",
    "alias = lst     # create an alias to lst\n",
    "clone = lst[:]  # clone lst\n",
    "print(\"Is alias an alias of lst?\", alias is lst)\n",
    "print(\"Is clone an alias of lst?\", clone is lst)\n",
    "print(\"Do lst, alias, and clone all have the same values?\", lst == alias == clone)"
   ]
  },
  {
   "cell_type": "markdown",
   "metadata": {},
   "source": [
    "<h4 style=\"color: #ff0000\">Warning: list slicing will create a shallow copy (\"clone\") of nested lists.</h4>"
   ]
  },
  {
   "cell_type": "code",
   "execution_count": 4,
   "metadata": {
    "collapsed": false
   },
   "outputs": [
    {
     "name": "stdout",
     "output_type": "stream",
     "text": [
      "hundreds: [100, 200, 300]\n",
      "numbers: [1, [100, 200, 300]]\n",
      "shallow_clone: [1, [100, 200, 300]] \n",
      "\n",
      "shallow_clone[0] == numbers[0]: True \n",
      "\n",
      "numbers[0] = 10\n",
      "\n",
      "Was shallow_clone[0] also modified? False \n",
      "\n",
      "numbers[1][0] = 500\n",
      "\n",
      "Was shallow_clone[1][0] also modified? True \n",
      "\n",
      "hundreds: [500, 200, 300]\n",
      "numbers: [10, [500, 200, 300]]\n",
      "shallow_clone: [1, [500, 200, 300]]\n"
     ]
    }
   ],
   "source": [
    "\"\"\"List slicing DOES NOT deeply copy nested objects.\"\"\"\n",
    "import time\n",
    "delay = 2\n",
    "\n",
    "hundreds = [100, 200, 300]\n",
    "numbers = [1, hundreds]   # hundreds is nested\n",
    "shallow_clone = numbers[:]\n",
    "print(\"hundreds:\", hundreds)\n",
    "print(\"numbers:\", numbers)\n",
    "print(\"shallow_clone:\", shallow_clone, \"\\n\")\n",
    "time.sleep(delay)\n",
    "\n",
    "# verify that shallow_clone[0] == numbers[0]\n",
    "print(\"shallow_clone[0] == numbers[0]:\", shallow_clone[0] == numbers[0], \"\\n\")\n",
    "time.sleep(delay)\n",
    "\n",
    "# modify the first element in numbers from 1 -> 10\n",
    "numbers[0] = 10\n",
    "print(\"numbers[0] = 10\\n\")\n",
    "time.sleep(delay)\n",
    "\n",
    "# test whether shallow_clone[0] also was modified\n",
    "print(\"Was shallow_clone[0] also modified?\",\n",
    "      shallow_clone[0] == numbers[0], \"\\n\")\n",
    "time.sleep(delay)\n",
    "\n",
    "# change the first element in the list of hundreds from 100 -> 500\n",
    "numbers[1][0] = 500\n",
    "print(\"numbers[1][0] = 500\\n\")\n",
    "time.sleep(delay)\n",
    "\n",
    "# test whether the list of hundreds in shallow_clone also has been modified\n",
    "print(\"Was shallow_clone[1][0] also modified?\",\n",
    "      numbers[1][0] == shallow_clone[1][0], \"\\n\")\n",
    "time.sleep(delay)\n",
    "\n",
    "# look at all of the variables\n",
    "print(\"hundreds:\", hundreds)\n",
    "print(\"numbers:\", numbers)\n",
    "print(\"shallow_clone:\", shallow_clone)"
   ]
  },
  {
   "cell_type": "markdown",
   "metadata": {},
   "source": [
    "**delimiter**\n",
    "\n",
    "A character or string used to indicate where a string should be split."
   ]
  },
  {
   "cell_type": "code",
   "execution_count": 5,
   "metadata": {
    "collapsed": false
   },
   "outputs": [
    {
     "name": "stdout",
     "output_type": "stream",
     "text": [
      "['Beware', 'of', 'bugs', 'in', 'the', 'above', 'code;', 'I', 'have', 'only', 'proved', 'it', 'correct,', 'not', 'tried', 'it.', '-Donald', 'Knuth']\n"
     ]
    }
   ],
   "source": [
    "\"\"\"By default, strings are split on whitespace.\"\"\"\n",
    "quote = \"Beware of bugs in the above         code; I have only proved it correct, not tried it. -Donald Knuth\"\n",
    "words = quote.split()\n",
    "print(words)"
   ]
  },
  {
   "cell_type": "code",
   "execution_count": 6,
   "metadata": {
    "collapsed": false
   },
   "outputs": [
    {
     "name": "stdout",
     "output_type": "stream",
     "text": [
      "['Beware of bugs in the above code', ' I have only proved it correct, not tried it. -Donald Knuth']\n"
     ]
    }
   ],
   "source": [
    "\"\"\"Specify the delimiter to change how strings are split.\"\"\"\n",
    "quote = \"Beware of bugs in the above code; I have only proved it correct, not tried it. -Donald Knuth\"\n",
    "delimiter = ';'\n",
    "phrases = quote.split(delimiter)\n",
    "print(phrases)"
   ]
  },
  {
   "cell_type": "code",
   "execution_count": 7,
   "metadata": {
    "collapsed": false
   },
   "outputs": [
    {
     "name": "stdout",
     "output_type": "stream",
     "text": [
      "['Beware of bugs in the above code; I have only proved it correct, not tried it. ', 'Donald Knuth'] \n",
      "\n",
      "Beware of bugs in the above code; I have only proved it correct, not tried it. \n",
      "by Donald Knuth\n"
     ]
    }
   ],
   "source": [
    "\"\"\"A delimiter can also be specified to join.\"\"\"\n",
    "quote = \"Beware of bugs in the above code; I have only proved it correct, not tried it. -Donald Knuth\"\n",
    "delimiter = '-'\n",
    "parts = quote.split(delimiter)\n",
    "print(parts, \"\\n\")\n",
    "improved_quote = '\\nby '.join(parts)\n",
    "print(improved_quote)"
   ]
  },
  {
   "cell_type": "markdown",
   "metadata": {},
   "source": [
    "**element**\n",
    "\n",
    "One of the values in a list (or other sequence). The bracket operator selects elements of a list."
   ]
  },
  {
   "cell_type": "code",
   "execution_count": 8,
   "metadata": {
    "collapsed": false
   },
   "outputs": [
    {
     "name": "stdout",
     "output_type": "stream",
     "text": [
      "The third element of lst: 3\n"
     ]
    }
   ],
   "source": [
    "\"\"\"Access an element of a list by using square brackets with an index.\"\"\"\n",
    "lst = [1, 2, 3]\n",
    "print(\"The third element of lst:\", lst[2])"
   ]
  },
  {
   "cell_type": "markdown",
   "metadata": {},
   "source": [
    "**index**\n",
    "\n",
    "An integer variable or value that indicates an element of a list."
   ]
  },
  {
   "cell_type": "code",
   "execution_count": 9,
   "metadata": {
    "collapsed": false
   },
   "outputs": [
    {
     "name": "stdout",
     "output_type": "stream",
     "text": [
      "The element of lst at index 0 is 1\n",
      "The element of lst at index 1 is 2\n"
     ]
    }
   ],
   "source": [
    "\"\"\"By varying the index, you can access different elements of a list.\"\"\"\n",
    "lst = [1, 2, 3]\n",
    "i = 0    # i holds the index value\n",
    "print(\"The element of lst at index 0 is\", lst[i])\n",
    "i = 1\n",
    "print(\"The element of lst at index 1 is\", lst[i])"
   ]
  },
  {
   "cell_type": "markdown",
   "metadata": {},
   "source": [
    "**list**\n",
    "\n",
    "A collection of objects, where each object is identified by an index. Like other types str, int, float, etc. there is also a list type-converter function that tries to turn its argument into a list."
   ]
  },
  {
   "cell_type": "code",
   "execution_count": 10,
   "metadata": {
    "collapsed": false
   },
   "outputs": [
    {
     "name": "stdout",
     "output_type": "stream",
     "text": [
      "[1, 2, 3]\n"
     ]
    }
   ],
   "source": [
    "\"\"\"Create a list from a list literal.\"\"\"\n",
    "lst = [1, 2, 3]\n",
    "print(lst)"
   ]
  },
  {
   "cell_type": "code",
   "execution_count": 11,
   "metadata": {
    "collapsed": false
   },
   "outputs": [
    {
     "name": "stdout",
     "output_type": "stream",
     "text": [
      "[1, 2, 3] <class 'list'>\n"
     ]
    }
   ],
   "source": [
    "\"\"\"Create a list using list().\"\"\"\n",
    "lst = list(range(1, 4))\n",
    "print(lst, type(lst))"
   ]
  },
  {
   "cell_type": "markdown",
   "metadata": {},
   "source": [
    "### List comprehensions\n",
    "List comphrensions take the form:\n",
    "\n",
    "[_expression_ for _variable_ in _sequence_ if _condition_]"
   ]
  },
  {
   "cell_type": "code",
   "execution_count": 12,
   "metadata": {
    "collapsed": false
   },
   "outputs": [
    {
     "name": "stdout",
     "output_type": "stream",
     "text": [
      "[1, 2, 3]\n"
     ]
    }
   ],
   "source": [
    "\"\"\"Create a list from a list comprehension.\"\"\"\n",
    "lst = [i for i in range(1, 11) if i <= 3]\n",
    "print(lst)"
   ]
  },
  {
   "cell_type": "markdown",
   "metadata": {},
   "source": [
    "In the above example the general pattern:\n",
    "\n",
    "`[expression for variable in sequence if condition]`\n",
    "\n",
    "Becomes:\n",
    "\n",
    "`[i for i in range(1, 100) if i <= 3]`"
   ]
  },
  {
   "cell_type": "markdown",
   "metadata": {},
   "source": [
    "You can omit the condition when you want to take all of the values from the sequence.\n",
    "\n",
    "A list comprehension without the optional if clause takes the form:\n",
    "\n",
    "`[expression for variable in sequence]`"
   ]
  },
  {
   "cell_type": "code",
   "execution_count": 13,
   "metadata": {
    "collapsed": false
   },
   "outputs": [
    {
     "name": "stdout",
     "output_type": "stream",
     "text": [
      "[1, 2, 3, 4, 5, 6, 7, 8, 9, 10]\n"
     ]
    }
   ],
   "source": [
    "\"\"\"Create a list from a list comprehension without an if clause.\"\"\"\n",
    "lst = [i for i in range(1, 11)]\n",
    "print(lst)"
   ]
  },
  {
   "cell_type": "markdown",
   "metadata": {},
   "source": [
    "Notice especially the \"punctuation\" separating the various parts of the comprehension:\n",
    "\n",
    "`[... for ... in ... if ...]`\n",
    "\n",
    "Without the if clause:\n",
    "\n",
    "`[... for ... in ...]`\n",
    "\n",
    "These patterns are functionally equivalent to the more familiar list accumulation pattern."
   ]
  },
  {
   "cell_type": "code",
   "execution_count": 14,
   "metadata": {
    "collapsed": false
   },
   "outputs": [
    {
     "name": "stdout",
     "output_type": "stream",
     "text": [
      "[1, 2, 3]\n"
     ]
    }
   ],
   "source": [
    "\"\"\"Create a list by accumulating values.\"\"\"\n",
    "lst = []\n",
    "for i in range(1, 10):\n",
    "    if i <= 3:\n",
    "        lst.append(i)\n",
    "print(lst)"
   ]
  },
  {
   "cell_type": "code",
   "execution_count": 15,
   "metadata": {
    "collapsed": false
   },
   "outputs": [
    {
     "name": "stdout",
     "output_type": "stream",
     "text": [
      "[1, 2, 3, 4, 5, 6, 7, 8, 9, 10]\n"
     ]
    }
   ],
   "source": [
    "\"\"\"Create a list by accumulating values without if condition.\"\"\"\n",
    "lst = []\n",
    "for i in range(1, 11):\n",
    "    lst.append(i)\n",
    "print(lst)"
   ]
  },
  {
   "cell_type": "markdown",
   "metadata": {},
   "source": [
    "You can translate many `for` loops into list comprehensions:\n",
    "\n",
    "<pre>\n",
    "lst = []                           \n",
    "for i in range(1, 10):          becomes          lst = [i for i in range(1, 10) if i <= 3]       \n",
    "    if i <= 3:\n",
    "        lst.append(i)\n",
    "</pre>\n",
    "\n",
    "<pre>\n",
    "lst = []                           \n",
    "for i in range(1, 10):          becomes          lst = [i for i in range(1, 10)]       \n",
    "    lst.append(i)\n",
    "</pre>\n",
    "\n",
    "<pre>\n",
    "doubled = []                           \n",
    "for i in range(1, 10):          becomes          doubled = [i * 2 for i in range(1, 10)]       \n",
    "    doubled.append(i * 2)\n",
    "</pre>\n",
    "\n",
    "Generally:\n",
    "\n",
    "<pre>\n",
    "lst = []\n",
    "for variable in sequence:       becomes          lst = [expression for variable in sequence if condition]\n",
    "    if condition:\n",
    "        lst.append(expression)\n",
    "</pre>"
   ]
  },
  {
   "cell_type": "markdown",
   "metadata": {},
   "source": [
    "**list traversal**\n",
    "\n",
    "The sequential accessing of each element in a list."
   ]
  },
  {
   "cell_type": "code",
   "execution_count": 16,
   "metadata": {
    "collapsed": false
   },
   "outputs": [
    {
     "name": "stdout",
     "output_type": "stream",
     "text": [
      "1\n",
      "2\n",
      "3\n"
     ]
    }
   ],
   "source": [
    "\"\"\"List traversal using a for loop.\"\"\"\n",
    "lst = [1, 2, 3]\n",
    "for i in lst:\n",
    "    print(i)"
   ]
  },
  {
   "cell_type": "code",
   "execution_count": 17,
   "metadata": {
    "collapsed": false
   },
   "outputs": [
    {
     "name": "stdout",
     "output_type": "stream",
     "text": [
      "1\n",
      "2\n",
      "3\n"
     ]
    }
   ],
   "source": [
    "\"\"\"List traversal using a for loop and an index.\"\"\"\n",
    "lst = [1, 2, 3]\n",
    "for i in range(len(lst)):\n",
    "    print(lst[i])"
   ]
  },
  {
   "cell_type": "markdown",
   "metadata": {},
   "source": [
    "**modifier**\n",
    "\n",
    "A function which changes its arguments inside the function body. Only mutable types can be changed by modifiers."
   ]
  },
  {
   "cell_type": "code",
   "execution_count": 18,
   "metadata": {
    "collapsed": false
   },
   "outputs": [
    {
     "name": "stdout",
     "output_type": "stream",
     "text": [
      "Places before being modified: ['new york', 'kansas city', 'los angeles', 'seattle'] \n",
      "\n",
      "Calling title_modifier(places)... \n",
      "\n",
      "The return value of title_modifier(places) is None \n",
      "\n",
      "Places after being modified: ['New York', 'Kansas City', 'Los Angeles', 'Seattle'] \n",
      "\n"
     ]
    }
   ],
   "source": [
    "import time\n",
    "delay = 3\n",
    "\n",
    "def title_modifier(lst):\n",
    "    \"\"\"This function will change the list passed to it.\"\"\"\n",
    "    for i in range(len(lst)):\n",
    "        lst[i] = ' '.join([word[0].upper() + word[1:].lower() for word in lst[i].split()])\n",
    "\n",
    "\n",
    "places = [\"new york\", \"kansas city\", \"los angeles\", \"seattle\"]\n",
    "\n",
    "print(\"Places before being modified:\", places, \"\\n\")\n",
    "time.sleep(delay)\n",
    "\n",
    "print(\"Calling title_modifier(places)...\", \"\\n\")\n",
    "return_value = title_modifier(places)\n",
    "time.sleep(delay)\n",
    "\n",
    "print(\"The return value of title_modifier(places) is\", return_value, \"\\n\")\n",
    "time.sleep(delay)\n",
    "\n",
    "print(\"Places after being modified:\", places, \"\\n\")"
   ]
  },
  {
   "cell_type": "code",
   "execution_count": 19,
   "metadata": {
    "collapsed": false
   },
   "outputs": [
    {
     "name": "stdout",
     "output_type": "stream",
     "text": [
      "Places before being modified: ['new york', 'kansas city', 'los angeles', 'seattle'] \n",
      "\n",
      "Calling title_modifier(places)... \n",
      "\n",
      "The return value of title_modifier(places) is None \n",
      "\n",
      "Places after being modified: ['New York', 'Kansas City', 'Los Angeles', 'Seattle'] \n",
      "\n"
     ]
    }
   ],
   "source": [
    "import time\n",
    "delay = 3\n",
    "\n",
    "def title_modifier(lst):\n",
    "    \"\"\"This function will change the list passed to it.\"\"\"\n",
    "    for i in range(len(lst)):\n",
    "        place = lst[i]\n",
    "        words = place.split()\n",
    "        title_cased_words = []\n",
    "        for word in words:\n",
    "            first_letter = word[0]\n",
    "            rest_of_word = word[1:]\n",
    "            title_cased_words.append(first_letter.upper() + rest_of_word.lower())\n",
    "        lst[i] = ' '.join(title_cased_words)\n",
    "\n",
    "places = [\"new york\", \"kansas city\", \"los angeles\", \"seattle\"]\n",
    "\n",
    "print(\"Places before being modified:\", places, \"\\n\")\n",
    "time.sleep(delay)\n",
    "\n",
    "print(\"Calling title_modifier(places)...\", \"\\n\")\n",
    "return_value = title_modifier(places)\n",
    "time.sleep(delay)\n",
    "\n",
    "print(\"The return value of title_modifier(places) is\", return_value, \"\\n\")\n",
    "time.sleep(delay)\n",
    "\n",
    "print(\"Places after being modified:\", places, \"\\n\")"
   ]
  },
  {
   "cell_type": "markdown",
   "metadata": {},
   "source": [
    "**mutable data type**\n",
    "\n",
    "A data type in which the elements can be modified. All mutable types are compound types. Lists are mutable data types; strings are not."
   ]
  },
  {
   "cell_type": "code",
   "execution_count": 20,
   "metadata": {
    "collapsed": false
   },
   "outputs": [
    {
     "name": "stdout",
     "output_type": "stream",
     "text": [
      "Cities before changing cities[1]: ['Albuquerque', 'Chicago', 'Paris']\n",
      "Cities after changing cities[1]: ['Albuquerque', 'Tokyo', 'Paris']\n"
     ]
    }
   ],
   "source": [
    "\"\"\"Lists are mutable.\"\"\"\n",
    "cities = [\"Albuquerque\", \"Chicago\", \"Paris\"]\n",
    "\n",
    "print(\"Cities before changing cities[1]:\", cities)\n",
    "\n",
    "cities[1] = \"Tokyo\"\n",
    "\n",
    "print(\"Cities after changing cities[1]:\", cities)"
   ]
  },
  {
   "cell_type": "code",
   "execution_count": 21,
   "metadata": {
    "collapsed": false
   },
   "outputs": [
    {
     "name": "stdout",
     "output_type": "stream",
     "text": [
      "Cities as a string: Albuquerque Chicago Paris\n"
     ]
    },
    {
     "ename": "TypeError",
     "evalue": "'str' object does not support item assignment",
     "output_type": "error",
     "traceback": [
      "\u001b[0;31m---------------------------------------------------------------------------\u001b[0m",
      "\u001b[0;31mTypeError\u001b[0m                                 Traceback (most recent call last)",
      "\u001b[0;32m<ipython-input-21-2e3d125b1f9a>\u001b[0m in \u001b[0;36m<module>\u001b[0;34m()\u001b[0m\n\u001b[1;32m      4\u001b[0m \u001b[0mprint\u001b[0m\u001b[0;34m(\u001b[0m\u001b[0;34m\"Cities as a string:\"\u001b[0m\u001b[0;34m,\u001b[0m \u001b[0mcities\u001b[0m\u001b[0;34m)\u001b[0m\u001b[0;34m\u001b[0m\u001b[0m\n\u001b[1;32m      5\u001b[0m \u001b[0;34m\u001b[0m\u001b[0m\n\u001b[0;32m----> 6\u001b[0;31m \u001b[0mcities\u001b[0m\u001b[0;34m[\u001b[0m\u001b[0;36m1\u001b[0m\u001b[0;34m]\u001b[0m \u001b[0;34m=\u001b[0m \u001b[0;34m\"Tokyo\"\u001b[0m\u001b[0;34m\u001b[0m\u001b[0m\n\u001b[0m\u001b[1;32m      7\u001b[0m \u001b[0;34m\u001b[0m\u001b[0m\n\u001b[1;32m      8\u001b[0m \u001b[0mprint\u001b[0m\u001b[0;34m(\u001b[0m\u001b[0;34m\"This will never print because it is an error to try to change part of a string\"\u001b[0m\u001b[0;34m)\u001b[0m\u001b[0;34m\u001b[0m\u001b[0m\n",
      "\u001b[0;31mTypeError\u001b[0m: 'str' object does not support item assignment"
     ]
    }
   ],
   "source": [
    "\"\"\"Strings are not mutable\"\"\"\n",
    "cities = \"Albuquerque Chicago Paris\"\n",
    "\n",
    "print(\"Cities as a string:\", cities)\n",
    "\n",
    "cities[1] = \"Tokyo\"\n",
    "\n",
    "print(\"This will never print because it is an error to try to change part of a string\")"
   ]
  },
  {
   "cell_type": "markdown",
   "metadata": {},
   "source": [
    "**nested list**\n",
    "\n",
    "A list that is an element of another list."
   ]
  },
  {
   "cell_type": "code",
   "execution_count": 22,
   "metadata": {
    "collapsed": false
   },
   "outputs": [
    {
     "name": "stdout",
     "output_type": "stream",
     "text": [
      "The conditions at 1pm on Monday are forecast to be Sunny\n",
      "The conditions at 2pm on Monday are forecast to be Sunny\n",
      "The conditions at 3pm on Monday are forecast to be Partly Cloudy\n",
      "The conditions at 1pm on Tuesday are forecast to be Cloudy\n",
      "The conditions at 2pm on Tuesday are forecast to be Cloudy\n",
      "The conditions at 3pm on Tuesday are forecast to be Cloudy\n",
      "The conditions at 1pm on Wednesday are forecast to be Partly Cloudy\n",
      "The conditions at 2pm on Wednesday are forecast to be Sunny\n",
      "The conditions at 3pm on Wednesday are forecast to be Sunny\n"
     ]
    }
   ],
   "source": [
    "\"\"\"Lists of lists (nested lists).\n",
    "\n",
    "The format of hourly_forecasts is a list of days:\n",
    "\n",
    "hourly_forecasts = [day1, day2, ..., dayN]\n",
    "\n",
    "Each day has a name and a list of conditions associated with that day for the hours of 1-3 pm:\n",
    "\n",
    "day = [name, [conditions_at_1pm, conditions_at_2pm, conditions_at_3pm]]\n",
    "\n",
    "Therefore, hourly_forecasts is, in part, a list of lists of lists.\n",
    "\"\"\"\n",
    "hourly_forecasts = [[\"Monday\", [\"Sunny\", \"Sunny\", \"Partly Cloudy\"]],\n",
    "                   [\"Tuesday\", [\"Cloudy\", \"Cloudy\", \"Cloudy\"]],\n",
    "                   [\"Wednesday\", [\"Partly Cloudy\", \"Sunny\", \"Sunny\"]]]\n",
    "for day in hourly_forecasts:\n",
    "    name = day[0]\n",
    "    hourly_conditions = day[1]\n",
    "    i = 1\n",
    "    for conditions in hourly_conditions:\n",
    "        print(\"The conditions at \" + str(i) + \"pm on \" + name + \" are forecast to be \" + conditions)\n",
    "        i += 1"
   ]
  },
  {
   "cell_type": "markdown",
   "metadata": {},
   "source": [
    "**object**\n",
    "\n",
    "A thing to which a variable can refer."
   ]
  },
  {
   "cell_type": "markdown",
   "metadata": {},
   "source": [
    "In an assignment such as:\n",
    "\n",
    "```python\n",
    "lst = [1, 2, 3]\n",
    "```\n",
    "\n",
    "lst is the variable and [1, 2, 3] is the object to which lst refers."
   ]
  },
  {
   "cell_type": "markdown",
   "metadata": {},
   "source": [
    "**pattern**\n",
    "\n",
    "A sequence of statements, or a style of coding something that has general applicability in a number of different situations. Part of becoming a mature Computer Scientist is to learn and establish the patterns and algorithms that form your toolkit. Patterns often correspond to your “mental chunking”."
   ]
  },
  {
   "cell_type": "code",
   "execution_count": 23,
   "metadata": {
    "collapsed": false
   },
   "outputs": [
    {
     "name": "stdout",
     "output_type": "stream",
     "text": [
      "January\n",
      "February\n",
      "March\n",
      "April\n",
      "May\n",
      "June\n",
      "July\n",
      "August\n",
      "September\n",
      "October\n",
      "November\n",
      "December\n"
     ]
    }
   ],
   "source": [
    "\"\"\"Direct iteration.\"\"\"\n",
    "months = [\"January\", \"February\", \"March\",\n",
    "          \"April\", \"May\", \"June\", \"July\",\n",
    "          \"August\", \"September\", \"October\",\n",
    "          \"November\", \"December\"]\n",
    "for month in months:\n",
    "    print(month)"
   ]
  },
  {
   "cell_type": "markdown",
   "metadata": {},
   "source": [
    "Boiled down to its essential characteristics, direct iteration takes the form:\n",
    "\n",
    "```\n",
    "for element in sequence:\n",
    "    expression(element)\n",
    "```\n",
    "\n",
    "Where _expression_ typically uses the value in _element_, for example, to do arithmetic, print, etc."
   ]
  },
  {
   "cell_type": "code",
   "execution_count": 24,
   "metadata": {
    "collapsed": false
   },
   "outputs": [
    {
     "name": "stdout",
     "output_type": "stream",
     "text": [
      "January\n",
      "February\n",
      "March\n",
      "April\n",
      "May\n",
      "June\n",
      "July\n",
      "August\n"
     ]
    }
   ],
   "source": [
    "\"\"\"Indexed iteration.\"\"\"\n",
    "months = [\"January\", \"February\", \"March\",\n",
    "          \"April\", \"May\", \"June\", \"July\",\n",
    "          \"August\", \"September\", \"October\",\n",
    "          \"November\", \"December\"]\n",
    "for i in range(len(month)):\n",
    "    print(months[i])"
   ]
  },
  {
   "cell_type": "markdown",
   "metadata": {},
   "source": [
    "Indexed iteration often takes the form:\n",
    "```\n",
    "for index in range(len(sequence)):\n",
    "    expression(sequence[index])\n",
    "```\n",
    "\n",
    "The example uses `range(len(sequence))` to get each index, and `sequence[index]` to get each element."
   ]
  },
  {
   "cell_type": "code",
   "execution_count": 25,
   "metadata": {
    "collapsed": false
   },
   "outputs": [
    {
     "name": "stdout",
     "output_type": "stream",
     "text": [
      "[1, 4, 9, 16, 25, 36, 49, 64, 81, 100, 121, 144]\n"
     ]
    }
   ],
   "source": [
    "\"\"\"List accumulation.\"\"\"\n",
    "numbers = [1, 2, 3, 4, 5, 6, 7, 8, 9, 10, 11, 12]\n",
    "squares = []\n",
    "for i in numbers:\n",
    "    squares.append(i ** 2)\n",
    "print(squares)"
   ]
  },
  {
   "cell_type": "markdown",
   "metadata": {},
   "source": [
    "List accumulation is a convenient for creating a new list from an old list by applying a transformation to each element in the old list and appending the result to the new list.  It takes the form:\n",
    "```\n",
    "result = []\n",
    "for element in sequence:\n",
    "    result.append(expression(element))\n",
    "```\n",
    "Using list accumulation in a function and returning the accumulated value can help make a function _pure_."
   ]
  },
  {
   "cell_type": "markdown",
   "metadata": {},
   "source": [
    "**pure function**\n",
    "\n",
    "A function which has no side effects. Pure functions only make changes to the calling program through their return values."
   ]
  },
  {
   "cell_type": "code",
   "execution_count": 26,
   "metadata": {
    "collapsed": false
   },
   "outputs": [
    {
     "name": "stdout",
     "output_type": "stream",
     "text": [
      "Places: ['new york', 'kansas city', 'los angeles', 'seattle'] \n",
      "\n",
      "Calling title_pure_function(places)... \n",
      "\n",
      "The return value of title_pure_function(places) is ['New York', 'Kansas City', 'Los Angeles', 'Seattle'] \n",
      "\n",
      "Places: ['new york', 'kansas city', 'los angeles', 'seattle'] \n",
      "\n"
     ]
    }
   ],
   "source": [
    "import time\n",
    "delay = 3\n",
    "\n",
    "def title_pure_function(lst):\n",
    "    \"\"\"This function will create a new list and return it\n",
    "    instead of changing the list passed into it.\n",
    "    \"\"\"\n",
    "    places_titled = []\n",
    "    for i in range(len(lst)):\n",
    "        place = lst[i]\n",
    "        words = place.split()\n",
    "        title_cased_words = []\n",
    "        for word in words:\n",
    "            first_letter = word[0]\n",
    "            rest_of_word = word[1:]\n",
    "            title_cased_words.append(first_letter.upper() + rest_of_word.lower())\n",
    "        titled = ' '.join(title_cased_words)\n",
    "        places_titled.append(titled)\n",
    "    return places_titled\n",
    "        \n",
    "places = [\"new york\", \"kansas city\", \"los angeles\", \"seattle\"]\n",
    "\n",
    "print(\"Places:\", places, \"\\n\")\n",
    "time.sleep(delay)\n",
    "\n",
    "print(\"Calling title_pure_function(places)...\", \"\\n\")\n",
    "return_value = title_pure_function(places)\n",
    "time.sleep(delay)\n",
    "\n",
    "print(\"The return value of title_pure_function(places) is\", return_value, \"\\n\")\n",
    "time.sleep(delay)\n",
    "\n",
    "print(\"Places:\", places, \"\\n\")"
   ]
  },
  {
   "cell_type": "markdown",
   "metadata": {},
   "source": [
    "**sequence**\n",
    "\n",
    "Any of the data types that consist of an ordered collection of elements, with each element identified by an index."
   ]
  },
  {
   "cell_type": "code",
   "execution_count": 27,
   "metadata": {
    "collapsed": false
   },
   "outputs": [
    {
     "name": "stdout",
     "output_type": "stream",
     "text": [
      "lst:     [1, 2, 3]\n",
      "lst[0]:  1\n"
     ]
    }
   ],
   "source": [
    "\"\"\"Lists are sequences.\"\"\"\n",
    "lst = [1, 2, 3]\n",
    "\n",
    "print(\"lst:    \", lst)\n",
    "print(\"lst[0]: \", lst[0])"
   ]
  },
  {
   "cell_type": "code",
   "execution_count": 28,
   "metadata": {
    "collapsed": false
   },
   "outputs": [
    {
     "name": "stdout",
     "output_type": "stream",
     "text": [
      "t:     (1, 2, 3)\n",
      "t[0]:  1\n"
     ]
    }
   ],
   "source": [
    "\"\"\"Tuples are sequences.\"\"\"\n",
    "t = (1, 2, 3)\n",
    "\n",
    "print(\"t:    \", t)\n",
    "print(\"t[0]: \", t[0])"
   ]
  },
  {
   "cell_type": "markdown",
   "metadata": {},
   "source": [
    "**side effect**\n",
    "\n",
    "A change in the state of a program made by calling a function that is not a result of reading the return value from the function. Side effects can only be produced by modifiers."
   ]
  },
  {
   "cell_type": "code",
   "execution_count": 29,
   "metadata": {
    "collapsed": false
   },
   "outputs": [
    {
     "name": "stdout",
     "output_type": "stream",
     "text": [
      "The forecast is ['Sunny', 'Sunny', 'Sunny']\n",
      "The return_value from calling change_forecast(forecast) is None\n",
      "The forecast is ['Cloudy', 'Cloudy', 'Cloudy']\n"
     ]
    }
   ],
   "source": [
    "def change_forecast(forecast):\n",
    "    \"\"\"This modifier function changes the value of the\n",
    "    forecast without returning anything.\n",
    "    \"\"\"\n",
    "    for i in range(len(forecast)):\n",
    "        forecast[i] = \"Cloudy\"\n",
    "\n",
    "forecast = [\"Sunny\", \"Sunny\", \"Sunny\"]\n",
    "print(\"The forecast is\", forecast)\n",
    "\n",
    "return_value = change_forecast(forecast)\n",
    "\n",
    "print(\"The return_value from calling change_forecast(forecast) is\", return_value)\n",
    "\n",
    "print(\"The forecast is\", forecast)"
   ]
  },
  {
   "cell_type": "markdown",
   "metadata": {},
   "source": [
    "**tuple**\n",
    "\n",
    "A sequential collection of items, similar to a list. Any python object can be an element of a tuple. However, unlike a list, tuples are immutable."
   ]
  },
  {
   "cell_type": "code",
   "execution_count": 30,
   "metadata": {
    "collapsed": false
   },
   "outputs": [
    {
     "name": "stdout",
     "output_type": "stream",
     "text": [
      "(2000, 'Ford', 'Ranger')\n"
     ]
    }
   ],
   "source": [
    "\"\"\"Create a tuple from a comma-separated list of values.\"\"\"\n",
    "vehicle = (2000, \"Ford\", \"Ranger\")\n",
    "print(vehicle)"
   ]
  },
  {
   "cell_type": "code",
   "execution_count": 31,
   "metadata": {
    "collapsed": false
   },
   "outputs": [
    {
     "name": "stdout",
     "output_type": "stream",
     "text": [
      "(2000, 'Ford', 'Ranger')\n"
     ]
    }
   ],
   "source": [
    "\"\"\"Parentheses are not required.\"\"\"\n",
    "vehicle = 2000, \"Ford\", \"Ranger\"\n",
    "print(vehicle)"
   ]
  },
  {
   "cell_type": "code",
   "execution_count": 32,
   "metadata": {
    "collapsed": false
   },
   "outputs": [
    {
     "name": "stdout",
     "output_type": "stream",
     "text": [
      "(2000, 'Ford', 'Ranger')\n"
     ]
    }
   ],
   "source": [
    "\"\"\"You can create a tuple from a list.\"\"\"\n",
    "vehicle = tuple([2000, \"Ford\", \"Ranger\"])\n",
    "print(vehicle)"
   ]
  },
  {
   "cell_type": "code",
   "execution_count": 33,
   "metadata": {
    "collapsed": false
   },
   "outputs": [
    {
     "ename": "TypeError",
     "evalue": "'tuple' object does not support item assignment",
     "output_type": "error",
     "traceback": [
      "\u001b[0;31m---------------------------------------------------------------------------\u001b[0m",
      "\u001b[0;31mTypeError\u001b[0m                                 Traceback (most recent call last)",
      "\u001b[0;32m<ipython-input-33-e926e1e8352f>\u001b[0m in \u001b[0;36m<module>\u001b[0;34m()\u001b[0m\n\u001b[1;32m      1\u001b[0m \u001b[0;34m\"\"\"Tuples are immutable.\"\"\"\u001b[0m\u001b[0;34m\u001b[0m\u001b[0m\n\u001b[1;32m      2\u001b[0m \u001b[0mvehicle\u001b[0m \u001b[0;34m=\u001b[0m \u001b[0;34m(\u001b[0m\u001b[0;36m2000\u001b[0m\u001b[0;34m,\u001b[0m \u001b[0;34m\"Ford\"\u001b[0m\u001b[0;34m,\u001b[0m \u001b[0;34m\"Ranger\"\u001b[0m\u001b[0;34m)\u001b[0m\u001b[0;34m\u001b[0m\u001b[0m\n\u001b[0;32m----> 3\u001b[0;31m \u001b[0mvehicle\u001b[0m\u001b[0;34m[\u001b[0m\u001b[0;36m2\u001b[0m\u001b[0;34m]\u001b[0m \u001b[0;34m=\u001b[0m \u001b[0;34m\"F-150\"\u001b[0m\u001b[0;34m\u001b[0m\u001b[0m\n\u001b[0m",
      "\u001b[0;31mTypeError\u001b[0m: 'tuple' object does not support item assignment"
     ]
    }
   ],
   "source": [
    "\"\"\"Tuples are immutable.\"\"\"\n",
    "vehicle = (2000, \"Ford\", \"Ranger\")\n",
    "vehicle[2] = \"F-150\""
   ]
  },
  {
   "cell_type": "code",
   "execution_count": 34,
   "metadata": {
    "collapsed": false
   },
   "outputs": [
    {
     "name": "stdout",
     "output_type": "stream",
     "text": [
      "Year: 2000\n",
      "Make: Ford\n",
      "Model: Ranger\n",
      "(2000, 'Ford', 'Ranger')\n"
     ]
    }
   ],
   "source": [
    "\"\"\"Values in tuples can be \"unpacked\" into multiple variables.\"\"\"\n",
    "vehicle = (2000, \"Ford\", \"Ranger\")\n",
    "year, make, model = vehicle  # tuple unpacking\n",
    "print(\"Year:\", year)\n",
    "print(\"Make:\", make)\n",
    "print(\"Model:\", model)\n",
    "print(vehicle)"
   ]
  }
 ],
 "metadata": {
  "anaconda-cloud": {},
  "kernelspec": {
   "display_name": "Python [default]",
   "language": "python",
   "name": "python3"
  },
  "language_info": {
   "codemirror_mode": {
    "name": "ipython",
    "version": 3
   },
   "file_extension": ".py",
   "mimetype": "text/x-python",
   "name": "python",
   "nbconvert_exporter": "python",
   "pygments_lexer": "ipython3",
   "version": "3.5.2"
  }
 },
 "nbformat": 4,
 "nbformat_minor": 1
}
