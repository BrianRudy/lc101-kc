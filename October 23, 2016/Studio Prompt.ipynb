{
 "cells": [
  {
   "cell_type": "markdown",
   "metadata": {},
   "source": [
    "# Studio: Holiday\n",
    "\n",
    "It is possible to name the days 0 through 6, where day 0 is Sunday and day 6 is Saturday. If you go on a wonderful holiday leaving on day number 3 (a Wednesday) and you return home after 10 nights, you arrive home on day number 6 (a Saturday).\n",
    "\n",
    "Write a general version of the program which asks for the starting day number, and the length of your stay, and it will tell you the number of day of the week you will return on.\n",
    "\n",
    "\n",
    "## What to think about\n",
    "\n",
    "* How many days in week?\n",
    "* What happens when we go past the last day in the week?\n",
    "* Why start at 0 instead of 1?\n",
    "* What mathematic operations could be useful?"
   ]
  },
  {
   "cell_type": "code",
   "execution_count": null,
   "metadata": {
    "collapsed": true
   },
   "outputs": [],
   "source": []
  }
 ],
 "metadata": {
  "kernelspec": {
   "display_name": "Python 3",
   "language": "python",
   "name": "python3"
  },
  "language_info": {
   "codemirror_mode": {
    "name": "ipython",
    "version": 3
   },
   "file_extension": ".py",
   "mimetype": "text/x-python",
   "name": "python",
   "nbconvert_exporter": "python",
   "pygments_lexer": "ipython3",
   "version": "3.5.2"
  }
 },
 "nbformat": 4,
 "nbformat_minor": 1
}
