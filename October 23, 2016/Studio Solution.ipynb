{
 "cells": [
  {
   "cell_type": "markdown",
   "metadata": {},
   "source": [
    "# Studio: Holiday\n",
    "\n",
    "It is possible to name the days 0 through 6, where day 0 is Sunday and day 6 is Saturday. If you go on a wonderful holiday leaving on day number 3 (a Wednesday) and you return home after 10 nights, you arrive home on day number 6 (a Saturday).\n",
    "\n",
    "Write a general version of the program which asks for the starting day number, and the length of your stay, and it will tell you the number of day of the week you will return on.\n",
    "\n",
    "\n",
    "## What to think about\n",
    "\n",
    "* How many days in week?\n",
    "* What happens when we go past the last day in the week?\n",
    "* Why start at 0 instead of 1?\n",
    "* What mathematic operations could be useful?\n",
    "\n",
    "\n"
   ]
  },
  {
   "cell_type": "markdown",
   "metadata": {},
   "source": [
    "## Solution with day"
   ]
  },
  {
   "cell_type": "code",
   "execution_count": 8,
   "metadata": {
    "collapsed": false,
    "scrolled": true
   },
   "outputs": [
    {
     "name": "stdout",
     "output_type": "stream",
     "text": [
      "What day are you leaving? 2\n",
      "How long will you be gone? 10\n",
      "Friday 5\n"
     ]
    }
   ],
   "source": [
    "days_of_week = [\n",
    "    # 0         1           2\n",
    "    'Sunday', 'Monday', 'Tuesday',\n",
    "    # 3             4           5\n",
    "    'Wednesday', 'Thursday', 'Friday',\n",
    "    # 6\n",
    "    'Saturday',\n",
    "]\n",
    "\n",
    "# Gather user input\n",
    "# Need to use the `int` call so that it'll correctly be \n",
    "# an integer for mathmatical operations\n",
    "leaving_day = int(input('What day are you leaving? '))\n",
    "length_of_vacation = int(input('How long will you be gone? '))\n",
    "\n",
    "# Get the day we will hit, it may be larger than 7\n",
    "final_day = length_of_vacation + leaving_day\n",
    "\n",
    "# Get the index for the day of the week\n",
    "# By using the modulo operator we can take advantage of\n",
    "# knowing the remainder of any numbers.\n",
    "# For example if the day is 2 and our stay is 5\n",
    "# Then we will have 7, which means we leave on a Tuesday\n",
    "# and get back on a Sunday.\n",
    "final_day_index = final_day % len(days_of_week)\n",
    "\n",
    "print(days_of_week[final_day_index], final_day_index)"
   ]
  },
  {
   "cell_type": "markdown",
   "metadata": {},
   "source": [
    "## Solution with only Number"
   ]
  },
  {
   "cell_type": "code",
   "execution_count": 9,
   "metadata": {
    "collapsed": false,
    "scrolled": true
   },
   "outputs": [
    {
     "name": "stdout",
     "output_type": "stream",
     "text": [
      "Which day are you leaving on? (0=Sun, 1=Mon, etc)2\n",
      "How many days will you be done?10\n",
      "You will return on day 5\n"
     ]
    }
   ],
   "source": [
    "\"\"\"\n",
    "Studio: Holiday\n",
    "\"\"\"\n",
    "\n",
    "# get input: departure day (0-6) and duration\n",
    "departure_day = input(\"Which day are you leaving on? (0=Sun, 1=Mon, etc)\")\n",
    "departure_day = int(departure_day)\n",
    "\n",
    "duration = input(\"How many days will you be done?\")\n",
    "duration = int(duration)\n",
    "\n",
    "# calculate return day and respond\n",
    "return_day = (departure_day + duration) % 7\n",
    "print(\"You will return on day\", return_day)"
   ]
  },
  {
   "cell_type": "markdown",
   "metadata": {},
   "source": [
    "## Solution provided in class"
   ]
  },
  {
   "cell_type": "code",
   "execution_count": 10,
   "metadata": {
    "collapsed": false
   },
   "outputs": [
    {
     "name": "stdout",
     "output_type": "stream",
     "text": [
      "What day will you leave?2\n",
      "How many days will you be gone?10\n",
      "You will return on 5\n"
     ]
    }
   ],
   "source": [
    "day = int(input(\"What day will you leave?\"))\n",
    "\n",
    "travelDays = int(input(\"How many days will you be gone?\"))\n",
    "\n",
    "newDay = day + travelDays\n",
    "\n",
    "newDay = newDay % 7\n",
    "print(\"You will return on\", newDay)"
   ]
  },
  {
   "cell_type": "code",
   "execution_count": null,
   "metadata": {
    "collapsed": true
   },
   "outputs": [],
   "source": []
  }
 ],
 "metadata": {
  "kernelspec": {
   "display_name": "Python 3",
   "language": "python",
   "name": "python3"
  },
  "language_info": {
   "codemirror_mode": {
    "name": "ipython",
    "version": 3
   },
   "file_extension": ".py",
   "mimetype": "text/x-python",
   "name": "python",
   "nbconvert_exporter": "python",
   "pygments_lexer": "ipython3",
   "version": "3.5.2"
  }
 },
 "nbformat": 4,
 "nbformat_minor": 1
}
