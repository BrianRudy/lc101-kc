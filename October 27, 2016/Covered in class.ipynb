{
 "cells": [
  {
   "cell_type": "markdown",
   "metadata": {},
   "source": [
    "## Book Exercises"
   ]
  },
  {
   "cell_type": "markdown",
   "metadata": {},
   "source": [
    "### Spins with compass"
   ]
  },
  {
   "cell_type": "code",
   "execution_count": 1,
   "metadata": {
    "collapsed": false
   },
   "outputs": [
    {
     "name": "stdout",
     "output_type": "stream",
     "text": [
      "How many times did you spin? (Enter a negative number for couter-clockwise spins) -10\n",
      "You are facing 0.0 degrees relative to north\n"
     ]
    }
   ],
   "source": [
    "spins = input(\"How many times did you spin? (Enter a negative number for couter-clockwise spins) \")\n",
    "\n",
    "# Need to ensure the direction of the spin is always correct.\n",
    "# This works because of the definition of the modulo operator and what happens with\n",
    "# negative numbers.   Keep this in mind for the assignment for chapter 3.\n",
    "degrees = (float(spins) * 360) % 360\n",
    "\n",
    "print(\"You are facing\", degrees, \"degrees relative to north\")"
   ]
  },
  {
   "cell_type": "markdown",
   "metadata": {},
   "source": [
    "## Fun with Turtles"
   ]
  },
  {
   "cell_type": "code",
   "execution_count": 2,
   "metadata": {
    "collapsed": false
   },
   "outputs": [],
   "source": [
    "import turtle               \n",
    "wn = turtle.Screen()        # creates a graphics window\n",
    "alex = turtle.Turtle()      # create a turtle named alex\n",
    "alex.speed(1)\n",
    "alex.shape('turtle')\n",
    "\n",
    "for i in [0,1,2,3,4,5]:\n",
    "    alex.forward(150)           # tell alex to move forward by 150 units\n",
    "    alex.left(85)               # turn by 90 degrees\n",
    "    alex.forward(75)\n",
    "\n",
    "## This won't run as expected with the notebook. Wait a moment for the window to be created.\n",
    "\n",
    "wn.exitonclick()\n",
    "\n"
   ]
  },
  {
   "cell_type": "markdown",
   "metadata": {
    "collapsed": true
   },
   "source": [
    "### Looking at documentation for tutles\n",
    "\n",
    "The documentation for the module inside of Python can be found here:\n",
    "https://docs.python.org/3.6/library/turtle.html"
   ]
  },
  {
   "cell_type": "code",
   "execution_count": 1,
   "metadata": {
    "collapsed": true
   },
   "outputs": [],
   "source": [
    "# Copied from the documentation example. This is bad practice to do import * DO NOT DO IT!\n",
    "from turtle import *\n",
    "color('red', 'yellow')\n",
    "begin_fill()\n",
    "while True:\n",
    "    forward(200)\n",
    "    left(170)\n",
    "    if abs(pos()) < 1:\n",
    "        break\n",
    "end_fill()\n",
    "done()"
   ]
  },
  {
   "cell_type": "markdown",
   "metadata": {},
   "source": [
    "## Using Range"
   ]
  },
  {
   "cell_type": "code",
   "execution_count": 8,
   "metadata": {
    "collapsed": false
   },
   "outputs": [
    {
     "name": "stdout",
     "output_type": "stream",
     "text": [
      "I have 6 cookies.  Iím going to eat one.\n",
      "I have 5 cookies.  Iím going to eat one.\n",
      "I have 4 cookies.  Iím going to eat one.\n",
      "I have 3 cookies.  Iím going to eat one.\n",
      "I have 2 cookies.  Iím going to eat one.\n",
      "I have 1 cookies.  Iím going to eat one.\n",
      "I ate all my cookies\n"
     ]
    }
   ],
   "source": [
    "for number in range(6, 0, -1):\n",
    "    print(\"I have\", number, \"cookies.  Iím going to eat one.\")\n",
    "\n",
    "print('I ate all my cookies')\n"
   ]
  },
  {
   "cell_type": "markdown",
   "metadata": {},
   "source": [
    "## Lots of turtles"
   ]
  },
  {
   "cell_type": "code",
   "execution_count": 1,
   "metadata": {
    "collapsed": false
   },
   "outputs": [
    {
     "name": "stdout",
     "output_type": "stream",
     "text": [
      "range(5, 60, 2)\n"
     ]
    }
   ],
   "source": [
    "import turtle\n",
    "wn = turtle.Screen()\n",
    "wn.bgcolor(\"lightgreen\")\n",
    "tess = turtle.Turtle()\n",
    "tess.color(\"blue\")\n",
    "tess.shape(\"turtle\")\n",
    "\n",
    "jim = turtle.Turtle()\n",
    "jim.color(\"green\")\n",
    "jim.shape(\"turtle\")\n",
    "\n",
    "carl = turtle.Turtle()\n",
    "carl.color(\"red\")\n",
    "carl.shape(\"turtle\")\n",
    "\n",
    "tess.up()\n",
    "carl.up()\n",
    "jim.up()\n",
    "# Keep in mind for today's studio\n",
    "for size in range(5, 60, 2):    # start with size = 5 and grow by 2\n",
    "    tess.stamp()                # leave an impression on the canvas\n",
    "    carl.stamp()\n",
    "    jim.stamp()\n",
    "    \n",
    "    carl.forward(size + 10)\n",
    "    jim.forward(size)\n",
    "    tess.forward(size)          # move tess along\n",
    "    \n",
    "    carl.right(90)\n",
    "    jim.left(24)\n",
    "    tess.right(24)              # and turn her\n",
    "\n",
    "wn.exitonclick()\n"
   ]
  },
  {
   "cell_type": "markdown",
   "metadata": {},
   "source": [
    "## Math"
   ]
  },
  {
   "cell_type": "code",
   "execution_count": 8,
   "metadata": {
    "collapsed": false
   },
   "outputs": [
    {
     "name": "stdout",
     "output_type": "stream",
     "text": [
      "4.898979485566356\n",
      "5.0\n"
     ]
    },
    {
     "ename": "ValueError",
     "evalue": "math domain error",
     "output_type": "error",
     "traceback": [
      "\u001b[0;31m---------------------------------------------------------------------------\u001b[0m",
      "\u001b[0;31mValueError\u001b[0m                                Traceback (most recent call last)",
      "\u001b[0;32m<ipython-input-8-45a521cbeb11>\u001b[0m in \u001b[0;36m<module>\u001b[0;34m()\u001b[0m\n\u001b[1;32m      4\u001b[0m \u001b[0mprint\u001b[0m\u001b[0;34m(\u001b[0m\u001b[0msqrt\u001b[0m\u001b[0;34m(\u001b[0m\u001b[0;36m25\u001b[0m\u001b[0;34m)\u001b[0m\u001b[0;34m)\u001b[0m\u001b[0;34m\u001b[0m\u001b[0m\n\u001b[1;32m      5\u001b[0m \u001b[0;34m\u001b[0m\u001b[0m\n\u001b[0;32m----> 6\u001b[0;31m \u001b[0mprint\u001b[0m\u001b[0;34m(\u001b[0m\u001b[0msqrt\u001b[0m\u001b[0;34m(\u001b[0m\u001b[0;34m-\u001b[0m\u001b[0;36m2\u001b[0m\u001b[0;34m)\u001b[0m\u001b[0;34m)\u001b[0m\u001b[0;34m\u001b[0m\u001b[0m\n\u001b[0m",
      "\u001b[0;31mValueError\u001b[0m: math domain error"
     ]
    }
   ],
   "source": [
    "from math import sqrt\n",
    "\n",
    "print(sqrt(24))\n",
    "print(sqrt(25))\n",
    "\n",
    "print(sqrt(-2))"
   ]
  },
  {
   "cell_type": "markdown",
   "metadata": {},
   "source": [
    "## Random\n",
    "\n",
    "Remember how it's not actually random. Here is an example:"
   ]
  },
  {
   "cell_type": "code",
   "execution_count": 4,
   "metadata": {
    "collapsed": false
   },
   "outputs": [
    {
     "name": "stdout",
     "output_type": "stream",
     "text": [
      "9\n",
      "4\n",
      "5 \n",
      "\n",
      "9\n",
      "4\n",
      "5 \n",
      "\n",
      "9\n",
      "4\n",
      "5 \n",
      "\n",
      "9\n",
      "4\n",
      "5 \n",
      "\n"
     ]
    }
   ],
   "source": [
    "import random\n",
    "\n",
    "random.seed(5)\n",
    "\n",
    "print(random.randint(0,10))\n",
    "print(random.randint(0,10))\n",
    "print(random.randint(0,10), '\\n')\n",
    "\n",
    "random.seed(5)\n",
    "\n",
    "print(random.randint(0,10))\n",
    "print(random.randint(0,10))\n",
    "print(random.randint(0,10), '\\n')\n",
    "\n",
    "random.seed(5)\n",
    "\n",
    "print(random.randint(0,10))\n",
    "print(random.randint(0,10))\n",
    "print(random.randint(0,10), '\\n')\n",
    "\n",
    "random.seed(5)\n",
    "\n",
    "print(random.randint(0,10))\n",
    "print(random.randint(0,10))\n",
    "print(random.randint(0,10), '\\n')"
   ]
  },
  {
   "cell_type": "markdown",
   "metadata": {},
   "source": [
    "## Chapter 4 Exercises"
   ]
  },
  {
   "cell_type": "markdown",
   "metadata": {},
   "source": [
    "### Bottles of beer"
   ]
  },
  {
   "cell_type": "code",
   "execution_count": 6,
   "metadata": {
    "collapsed": false
   },
   "outputs": [
    {
     "name": "stdout",
     "output_type": "stream",
     "text": [
      "99 Bottles of Beer on the Wall\n",
      "Take one down pass it around\n",
      "98 Bottles of Beer on the Wall\n",
      "Take one down pass it around\n",
      "97 Bottles of Beer on the Wall\n",
      "Take one down pass it around\n",
      "96 Bottles of Beer on the Wall\n",
      "Take one down pass it around\n",
      "95 Bottles of Beer on the Wall\n",
      "Take one down pass it around\n",
      "94 Bottles of Beer on the Wall\n",
      "Take one down pass it around\n",
      "93 Bottles of Beer on the Wall\n",
      "Take one down pass it around\n",
      "92 Bottles of Beer on the Wall\n",
      "Take one down pass it around\n",
      "91 Bottles of Beer on the Wall\n",
      "Take one down pass it around\n",
      "90 Bottles of Beer on the Wall\n",
      "Take one down pass it around\n",
      "89 Bottles of Beer on the Wall\n",
      "Take one down pass it around\n",
      "88 Bottles of Beer on the Wall\n",
      "Take one down pass it around\n",
      "87 Bottles of Beer on the Wall\n",
      "Take one down pass it around\n",
      "86 Bottles of Beer on the Wall\n",
      "Take one down pass it around\n",
      "85 Bottles of Beer on the Wall\n",
      "Take one down pass it around\n",
      "84 Bottles of Beer on the Wall\n",
      "Take one down pass it around\n",
      "83 Bottles of Beer on the Wall\n",
      "Take one down pass it around\n",
      "82 Bottles of Beer on the Wall\n",
      "Take one down pass it around\n",
      "81 Bottles of Beer on the Wall\n",
      "Take one down pass it around\n",
      "80 Bottles of Beer on the Wall\n",
      "Take one down pass it around\n",
      "79 Bottles of Beer on the Wall\n",
      "Take one down pass it around\n",
      "78 Bottles of Beer on the Wall\n",
      "Take one down pass it around\n",
      "77 Bottles of Beer on the Wall\n",
      "Take one down pass it around\n",
      "76 Bottles of Beer on the Wall\n",
      "Take one down pass it around\n",
      "75 Bottles of Beer on the Wall\n",
      "Take one down pass it around\n",
      "74 Bottles of Beer on the Wall\n",
      "Take one down pass it around\n",
      "73 Bottles of Beer on the Wall\n",
      "Take one down pass it around\n",
      "72 Bottles of Beer on the Wall\n",
      "Take one down pass it around\n",
      "71 Bottles of Beer on the Wall\n",
      "Take one down pass it around\n",
      "70 Bottles of Beer on the Wall\n",
      "Take one down pass it around\n",
      "69 Bottles of Beer on the Wall\n",
      "Take one down pass it around\n",
      "68 Bottles of Beer on the Wall\n",
      "Take one down pass it around\n",
      "67 Bottles of Beer on the Wall\n",
      "Take one down pass it around\n",
      "66 Bottles of Beer on the Wall\n",
      "Take one down pass it around\n",
      "65 Bottles of Beer on the Wall\n",
      "Take one down pass it around\n",
      "64 Bottles of Beer on the Wall\n",
      "Take one down pass it around\n",
      "63 Bottles of Beer on the Wall\n",
      "Take one down pass it around\n",
      "62 Bottles of Beer on the Wall\n",
      "Take one down pass it around\n",
      "61 Bottles of Beer on the Wall\n",
      "Take one down pass it around\n",
      "60 Bottles of Beer on the Wall\n",
      "Take one down pass it around\n",
      "59 Bottles of Beer on the Wall\n",
      "Take one down pass it around\n",
      "58 Bottles of Beer on the Wall\n",
      "Take one down pass it around\n",
      "57 Bottles of Beer on the Wall\n",
      "Take one down pass it around\n",
      "56 Bottles of Beer on the Wall\n",
      "Take one down pass it around\n",
      "55 Bottles of Beer on the Wall\n",
      "Take one down pass it around\n",
      "54 Bottles of Beer on the Wall\n",
      "Take one down pass it around\n",
      "53 Bottles of Beer on the Wall\n",
      "Take one down pass it around\n",
      "52 Bottles of Beer on the Wall\n",
      "Take one down pass it around\n",
      "51 Bottles of Beer on the Wall\n",
      "Take one down pass it around\n",
      "50 Bottles of Beer on the Wall\n",
      "Take one down pass it around\n",
      "49 Bottles of Beer on the Wall\n",
      "Take one down pass it around\n",
      "48 Bottles of Beer on the Wall\n",
      "Take one down pass it around\n",
      "47 Bottles of Beer on the Wall\n",
      "Take one down pass it around\n",
      "46 Bottles of Beer on the Wall\n",
      "Take one down pass it around\n",
      "45 Bottles of Beer on the Wall\n",
      "Take one down pass it around\n",
      "44 Bottles of Beer on the Wall\n",
      "Take one down pass it around\n",
      "43 Bottles of Beer on the Wall\n",
      "Take one down pass it around\n",
      "42 Bottles of Beer on the Wall\n",
      "Take one down pass it around\n",
      "41 Bottles of Beer on the Wall\n",
      "Take one down pass it around\n",
      "40 Bottles of Beer on the Wall\n",
      "Take one down pass it around\n",
      "39 Bottles of Beer on the Wall\n",
      "Take one down pass it around\n",
      "38 Bottles of Beer on the Wall\n",
      "Take one down pass it around\n",
      "37 Bottles of Beer on the Wall\n",
      "Take one down pass it around\n",
      "36 Bottles of Beer on the Wall\n",
      "Take one down pass it around\n",
      "35 Bottles of Beer on the Wall\n",
      "Take one down pass it around\n",
      "34 Bottles of Beer on the Wall\n",
      "Take one down pass it around\n",
      "33 Bottles of Beer on the Wall\n",
      "Take one down pass it around\n",
      "32 Bottles of Beer on the Wall\n",
      "Take one down pass it around\n",
      "31 Bottles of Beer on the Wall\n",
      "Take one down pass it around\n",
      "30 Bottles of Beer on the Wall\n",
      "Take one down pass it around\n",
      "29 Bottles of Beer on the Wall\n",
      "Take one down pass it around\n",
      "28 Bottles of Beer on the Wall\n",
      "Take one down pass it around\n",
      "27 Bottles of Beer on the Wall\n",
      "Take one down pass it around\n",
      "26 Bottles of Beer on the Wall\n",
      "Take one down pass it around\n",
      "25 Bottles of Beer on the Wall\n",
      "Take one down pass it around\n",
      "24 Bottles of Beer on the Wall\n",
      "Take one down pass it around\n",
      "23 Bottles of Beer on the Wall\n",
      "Take one down pass it around\n",
      "22 Bottles of Beer on the Wall\n",
      "Take one down pass it around\n",
      "21 Bottles of Beer on the Wall\n",
      "Take one down pass it around\n",
      "20 Bottles of Beer on the Wall\n",
      "Take one down pass it around\n",
      "19 Bottles of Beer on the Wall\n",
      "Take one down pass it around\n",
      "18 Bottles of Beer on the Wall\n",
      "Take one down pass it around\n",
      "17 Bottles of Beer on the Wall\n",
      "Take one down pass it around\n",
      "16 Bottles of Beer on the Wall\n",
      "Take one down pass it around\n",
      "15 Bottles of Beer on the Wall\n",
      "Take one down pass it around\n",
      "14 Bottles of Beer on the Wall\n",
      "Take one down pass it around\n",
      "13 Bottles of Beer on the Wall\n",
      "Take one down pass it around\n",
      "12 Bottles of Beer on the Wall\n",
      "Take one down pass it around\n",
      "11 Bottles of Beer on the Wall\n",
      "Take one down pass it around\n",
      "10 Bottles of Beer on the Wall\n",
      "Take one down pass it around\n",
      "9 Bottles of Beer on the Wall\n",
      "Take one down pass it around\n",
      "8 Bottles of Beer on the Wall\n",
      "Take one down pass it around\n",
      "7 Bottles of Beer on the Wall\n",
      "Take one down pass it around\n",
      "6 Bottles of Beer on the Wall\n",
      "Take one down pass it around\n",
      "5 Bottles of Beer on the Wall\n",
      "Take one down pass it around\n",
      "4 Bottles of Beer on the Wall\n",
      "Take one down pass it around\n",
      "3 Bottles of Beer on the Wall\n",
      "Take one down pass it around\n",
      "2 Bottles of Beer on the Wall\n",
      "Take one down pass it around\n",
      "1 Bottles of Beer on the Wall\n",
      "Take one down pass it around\n"
     ]
    }
   ],
   "source": [
    "bottles_of_beer = 99\n",
    "\n",
    "for bottle_number in range(bottles_of_beer, 0, -1):\n",
    "    print(bottle_number, \"Bottles of Beer on the Wall\")\n",
    "    print(\"Take one down pass it around\")"
   ]
  },
  {
   "cell_type": "markdown",
   "metadata": {},
   "source": [
    "## Cool sample by: Murial"
   ]
  },
  {
   "cell_type": "code",
   "execution_count": null,
   "metadata": {
    "collapsed": false
   },
   "outputs": [],
   "source": [
    "import turtle\n",
    "import random\n",
    "wn = turtle.Screen()\n",
    "anaise = turtle.Turtle()\n",
    "hour = 1\n",
    "lines = 1\n",
    "angle = 1\n",
    "\n",
    "anaise.speed(0)\n",
    "# Set the color mode so the mac is happy.\n",
    "# wn.colormode(255)\n",
    "\n",
    "#change starting point of line randomly\n",
    "while lines < 200:\n",
    "    anaise.goto(random.randrange(50), random.randrange(50))\n",
    "    anaise.down()\n",
    "    angle = (random.randrange(360))\n",
    "    anaise.color(random.randrange(255),random.randrange(255),random.randrange(255))\n",
    "    anaise.pensize(random.randrange(11))\n",
    "    anaise.right(angle)\n",
    "    anaise.forward(random.randrange(100))\n",
    "    anaise.up()\n",
    "    \n",
    "    #Count the number of times the loop occurs\n",
    "    lines = lines + 1\n",
    "    \n",
    "wn.exitonclick()"
   ]
  },
  {
   "cell_type": "markdown",
   "metadata": {},
   "source": [
    "## Draw the regular polygon\n",
    "\n",
    "Write a program that asks the user for the number of sides, the length of the side, the color, and the fill color of a regular polygon. The program should draw the polygon and then fill it in.\n"
   ]
  },
  {
   "cell_type": "code",
   "execution_count": null,
   "metadata": {
    "collapsed": true
   },
   "outputs": [],
   "source": []
  }
 ],
 "metadata": {
  "kernelspec": {
   "display_name": "Python 3",
   "language": "python",
   "name": "python3"
  },
  "language_info": {
   "codemirror_mode": {
    "name": "ipython",
    "version": 3
   },
   "file_extension": ".py",
   "mimetype": "text/x-python",
   "name": "python",
   "nbconvert_exporter": "python",
   "pygments_lexer": "ipython3",
   "version": "3.5.2"
  }
 },
 "nbformat": 4,
 "nbformat_minor": 1
}
