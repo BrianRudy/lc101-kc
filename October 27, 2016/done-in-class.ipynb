{
 "cells": [
  {
   "cell_type": "markdown",
   "metadata": {},
   "source": [
    "## Book Exercises"
   ]
  },
  {
   "cell_type": "markdown",
   "metadata": {},
   "source": [
    "### Spins with compass"
   ]
  },
  {
   "cell_type": "code",
   "execution_count": 5,
   "metadata": {
    "collapsed": false
   },
   "outputs": [
    {
     "name": "stdout",
     "output_type": "stream",
     "text": [
      "How many times did you spin? (Enter a negative number for couter-clockwise spins) .5\n",
      "You are facing 180.0 degrees relative to north\n"
     ]
    }
   ],
   "source": [
    "spins = input(\"How many times did you spin? (Enter a negative number for couter-clockwise spins) \")\n",
    "\n",
    "degrees = ((float(spins) * 360) % 360)\n",
    "\n",
    "print(\"You are facing\", degrees, \"degrees relative to north\")"
   ]
  },
  {
   "cell_type": "markdown",
   "metadata": {},
   "source": [
    "## Fun with Turtles"
   ]
  },
  {
   "cell_type": "code",
   "execution_count": 1,
   "metadata": {
    "collapsed": false
   },
   "outputs": [],
   "source": [
    "import turtle               \n",
    "wn = turtle.Screen()        # creates a graphics window\n",
    "alex = turtle.Turtle()      # create a turtle named alex\n",
    "alex.speed(1)\n",
    "alex.shape('turtle')\n",
    "\n",
    "for i in [0,1,2,3,4,5]:\n",
    "    alex.forward(150)           # tell alex to move forward by 150 units\n",
    "    alex.left(85)               # turn by 90 degrees\n",
    "    alex.forward(75)\n",
    "\n",
    "## This won't run as expected with the notebook. Wait a moment for the window to be created.\n",
    "\n",
    "wn.exitonclick()\n",
    "\n"
   ]
  },
  {
   "cell_type": "markdown",
   "metadata": {
    "collapsed": true
   },
   "source": [
    "### Looking at documentation for tutles\n",
    "\n",
    "The documentation for the module inside of Python can be found here:\n",
    "https://docs.python.org/3.6/library/turtle.html"
   ]
  },
  {
   "cell_type": "code",
   "execution_count": null,
   "metadata": {
    "collapsed": true
   },
   "outputs": [],
   "source": [
    "# Copied from the documentation example. This is bad practice to do import * DO NOT DO IT!\n",
    "from turtle import *\n",
    "color('red', 'yellow')\n",
    "begin_fill()\n",
    "while True:\n",
    "    forward(200)\n",
    "    left(170)\n",
    "    if abs(pos()) < 1:\n",
    "        break\n",
    "end_fill()\n",
    "done()"
   ]
  },
  {
   "cell_type": "markdown",
   "metadata": {},
   "source": [
    "## Using Range"
   ]
  },
  {
   "cell_type": "code",
   "execution_count": 14,
   "metadata": {
    "collapsed": false
   },
   "outputs": [
    {
     "name": "stdout",
     "output_type": "stream",
     "text": [
      "I have 6 cookies.  I'm going to eat one.\n",
      "I have 5 cookies.  I'm going to eat one.\n",
      "I have 4 cookies.  I'm going to eat one.\n",
      "I have 3 cookies.  I'm going to eat one.\n",
      "I ate all my cookies\n"
     ]
    }
   ],
   "source": [
    "for i in [6, 5, 4, 3]:\n",
    "    print(\"I have\", i, \"cookies.  I'm going to eat one.\")\n",
    "\n",
    "print('I ate all my cookies')\n"
   ]
  },
  {
   "cell_type": "markdown",
   "metadata": {},
   "source": [
    "## Lots of turtles"
   ]
  },
  {
   "cell_type": "code",
   "execution_count": 1,
   "metadata": {
    "collapsed": false
   },
   "outputs": [],
   "source": [
    "import turtle\n",
    "wn = turtle.Screen()\n",
    "wn.bgcolor(\"lightgreen\")\n",
    "tess = turtle.Turtle()\n",
    "tess.color(\"blue\")\n",
    "tess.shape(\"turtle\")\n",
    "\n",
    "jim = turtle.Turtle()\n",
    "jim.color(\"green\")\n",
    "jim.shape(\"turtle\")\n",
    "\n",
    "carl = turtle.Turtle()\n",
    "carl.color(\"red\")\n",
    "carl.shape(\"turtle\")\n",
    "\n",
    "tess.up()\n",
    "carl.up()\n",
    "jim.up()\n",
    "# Keep in mind for today's studio\n",
    "for size in range(5, 60, 2):    # start with size = 5 and grow by 2\n",
    "    tess.stamp()                # leave an impression on the canvas\n",
    "    carl.stamp()\n",
    "    jim.stamp()\n",
    "    \n",
    "    carl.forward(size + 10)\n",
    "    jim.forward(size)\n",
    "    tess.forward(size)          # move tess along\n",
    "    \n",
    "    carl.right(90)\n",
    "    jim.left(24)\n",
    "    tess.right(24)              # and turn her\n",
    "\n",
    "wn.exitonclick()\n"
   ]
  },
  {
   "cell_type": "markdown",
   "metadata": {},
   "source": [
    "## Math"
   ]
  },
  {
   "cell_type": "code",
   "execution_count": 4,
   "metadata": {
    "collapsed": false
   },
   "outputs": [
    {
     "name": "stdout",
     "output_type": "stream",
     "text": [
      "<class 'float'>\n"
     ]
    }
   ],
   "source": [
    "from math import sqrt\n",
    "\n",
    "\n",
    "print(type\n",
    "      (sqrt(4)))\n"
   ]
  },
  {
   "cell_type": "markdown",
   "metadata": {},
   "source": [
    "## Random\n",
    "\n",
    "Remember how it's not actually random. Here is an example:"
   ]
  },
  {
   "cell_type": "code",
   "execution_count": 6,
   "metadata": {
    "collapsed": false
   },
   "outputs": [
    {
     "name": "stdout",
     "output_type": "stream",
     "text": [
      "9\n",
      "4\n",
      "5 \n",
      "\n",
      "3\n",
      "0\n",
      "8 \n",
      "\n",
      "2\n",
      "3\n",
      "0 \n",
      "\n",
      "9\n",
      "4\n",
      "5 \n",
      "\n"
     ]
    }
   ],
   "source": [
    "import random\n",
    "\n",
    "random.seed(5)\n",
    "\n",
    "print(random.randint(0,10))\n",
    "print(random.randint(0,10))\n",
    "print(random.randint(0,10), '\\n')\n",
    "\n",
    "random.seed(15)\n",
    "\n",
    "print(random.randint(0,10))\n",
    "print(random.randint(0,10))\n",
    "print(random.randint(0,10), '\\n')\n",
    "\n",
    "random.seed(22)\n",
    "\n",
    "print(random.randint(0,10))\n",
    "print(random.randint(0,10))\n",
    "print(random.randint(0,10), '\\n')\n",
    "\n",
    "# Setting the seed back to 5 you can observe that it will always have the same results\n",
    "random.seed(5)\n",
    "\n",
    "print(random.randint(0,10))\n",
    "print(random.randint(0,10))\n",
    "print(random.randint(0,10), '\\n')"
   ]
  },
  {
   "cell_type": "markdown",
   "metadata": {},
   "source": [
    "## Chapter 4 Exercises"
   ]
  },
  {
   "cell_type": "markdown",
   "metadata": {},
   "source": [
    "### Bottles of beer"
   ]
  },
  {
   "cell_type": "code",
   "execution_count": 9,
   "metadata": {
    "collapsed": false
   },
   "outputs": [
    {
     "name": "stdout",
     "output_type": "stream",
     "text": [
      "99 bottles of beer on the walll 99 bottles of beer on the wall take one down pass it around\n",
      "98 bottles of beer on the wall\n",
      "98 bottles of beer on the walll 98 bottles of beer on the wall take one down pass it around\n",
      "97 bottles of beer on the wall\n",
      "97 bottles of beer on the walll 97 bottles of beer on the wall take one down pass it around\n",
      "96 bottles of beer on the wall\n",
      "96 bottles of beer on the walll 96 bottles of beer on the wall take one down pass it around\n",
      "95 bottles of beer on the wall\n",
      "95 bottles of beer on the walll 95 bottles of beer on the wall take one down pass it around\n",
      "94 bottles of beer on the wall\n",
      "94 bottles of beer on the walll 94 bottles of beer on the wall take one down pass it around\n",
      "93 bottles of beer on the wall\n",
      "93 bottles of beer on the walll 93 bottles of beer on the wall take one down pass it around\n",
      "92 bottles of beer on the wall\n",
      "92 bottles of beer on the walll 92 bottles of beer on the wall take one down pass it around\n",
      "91 bottles of beer on the wall\n",
      "91 bottles of beer on the walll 91 bottles of beer on the wall take one down pass it around\n",
      "90 bottles of beer on the wall\n",
      "90 bottles of beer on the walll 90 bottles of beer on the wall take one down pass it around\n",
      "89 bottles of beer on the wall\n",
      "89 bottles of beer on the walll 89 bottles of beer on the wall take one down pass it around\n",
      "88 bottles of beer on the wall\n",
      "88 bottles of beer on the walll 88 bottles of beer on the wall take one down pass it around\n",
      "87 bottles of beer on the wall\n",
      "87 bottles of beer on the walll 87 bottles of beer on the wall take one down pass it around\n",
      "86 bottles of beer on the wall\n",
      "86 bottles of beer on the walll 86 bottles of beer on the wall take one down pass it around\n",
      "85 bottles of beer on the wall\n",
      "85 bottles of beer on the walll 85 bottles of beer on the wall take one down pass it around\n",
      "84 bottles of beer on the wall\n",
      "84 bottles of beer on the walll 84 bottles of beer on the wall take one down pass it around\n",
      "83 bottles of beer on the wall\n",
      "83 bottles of beer on the walll 83 bottles of beer on the wall take one down pass it around\n",
      "82 bottles of beer on the wall\n",
      "82 bottles of beer on the walll 82 bottles of beer on the wall take one down pass it around\n",
      "81 bottles of beer on the wall\n",
      "81 bottles of beer on the walll 81 bottles of beer on the wall take one down pass it around\n",
      "80 bottles of beer on the wall\n",
      "80 bottles of beer on the walll 80 bottles of beer on the wall take one down pass it around\n",
      "79 bottles of beer on the wall\n",
      "79 bottles of beer on the walll 79 bottles of beer on the wall take one down pass it around\n",
      "78 bottles of beer on the wall\n",
      "78 bottles of beer on the walll 78 bottles of beer on the wall take one down pass it around\n",
      "77 bottles of beer on the wall\n",
      "77 bottles of beer on the walll 77 bottles of beer on the wall take one down pass it around\n",
      "76 bottles of beer on the wall\n",
      "76 bottles of beer on the walll 76 bottles of beer on the wall take one down pass it around\n",
      "75 bottles of beer on the wall\n",
      "75 bottles of beer on the walll 75 bottles of beer on the wall take one down pass it around\n",
      "74 bottles of beer on the wall\n",
      "74 bottles of beer on the walll 74 bottles of beer on the wall take one down pass it around\n",
      "73 bottles of beer on the wall\n",
      "73 bottles of beer on the walll 73 bottles of beer on the wall take one down pass it around\n",
      "72 bottles of beer on the wall\n",
      "72 bottles of beer on the walll 72 bottles of beer on the wall take one down pass it around\n",
      "71 bottles of beer on the wall\n",
      "71 bottles of beer on the walll 71 bottles of beer on the wall take one down pass it around\n",
      "70 bottles of beer on the wall\n",
      "70 bottles of beer on the walll 70 bottles of beer on the wall take one down pass it around\n",
      "69 bottles of beer on the wall\n",
      "69 bottles of beer on the walll 69 bottles of beer on the wall take one down pass it around\n",
      "68 bottles of beer on the wall\n",
      "68 bottles of beer on the walll 68 bottles of beer on the wall take one down pass it around\n",
      "67 bottles of beer on the wall\n",
      "67 bottles of beer on the walll 67 bottles of beer on the wall take one down pass it around\n",
      "66 bottles of beer on the wall\n",
      "66 bottles of beer on the walll 66 bottles of beer on the wall take one down pass it around\n",
      "65 bottles of beer on the wall\n",
      "65 bottles of beer on the walll 65 bottles of beer on the wall take one down pass it around\n",
      "64 bottles of beer on the wall\n",
      "64 bottles of beer on the walll 64 bottles of beer on the wall take one down pass it around\n",
      "63 bottles of beer on the wall\n",
      "63 bottles of beer on the walll 63 bottles of beer on the wall take one down pass it around\n",
      "62 bottles of beer on the wall\n",
      "62 bottles of beer on the walll 62 bottles of beer on the wall take one down pass it around\n",
      "61 bottles of beer on the wall\n",
      "61 bottles of beer on the walll 61 bottles of beer on the wall take one down pass it around\n",
      "60 bottles of beer on the wall\n",
      "60 bottles of beer on the walll 60 bottles of beer on the wall take one down pass it around\n",
      "59 bottles of beer on the wall\n",
      "59 bottles of beer on the walll 59 bottles of beer on the wall take one down pass it around\n",
      "58 bottles of beer on the wall\n",
      "58 bottles of beer on the walll 58 bottles of beer on the wall take one down pass it around\n",
      "57 bottles of beer on the wall\n",
      "57 bottles of beer on the walll 57 bottles of beer on the wall take one down pass it around\n",
      "56 bottles of beer on the wall\n",
      "56 bottles of beer on the walll 56 bottles of beer on the wall take one down pass it around\n",
      "55 bottles of beer on the wall\n",
      "55 bottles of beer on the walll 55 bottles of beer on the wall take one down pass it around\n",
      "54 bottles of beer on the wall\n",
      "54 bottles of beer on the walll 54 bottles of beer on the wall take one down pass it around\n",
      "53 bottles of beer on the wall\n",
      "53 bottles of beer on the walll 53 bottles of beer on the wall take one down pass it around\n",
      "52 bottles of beer on the wall\n",
      "52 bottles of beer on the walll 52 bottles of beer on the wall take one down pass it around\n",
      "51 bottles of beer on the wall\n",
      "51 bottles of beer on the walll 51 bottles of beer on the wall take one down pass it around\n",
      "50 bottles of beer on the wall\n",
      "50 bottles of beer on the walll 50 bottles of beer on the wall take one down pass it around\n",
      "49 bottles of beer on the wall\n",
      "49 bottles of beer on the walll 49 bottles of beer on the wall take one down pass it around\n",
      "48 bottles of beer on the wall\n",
      "48 bottles of beer on the walll 48 bottles of beer on the wall take one down pass it around\n",
      "47 bottles of beer on the wall\n",
      "47 bottles of beer on the walll 47 bottles of beer on the wall take one down pass it around\n",
      "46 bottles of beer on the wall\n",
      "46 bottles of beer on the walll 46 bottles of beer on the wall take one down pass it around\n",
      "45 bottles of beer on the wall\n",
      "45 bottles of beer on the walll 45 bottles of beer on the wall take one down pass it around\n",
      "44 bottles of beer on the wall\n",
      "44 bottles of beer on the walll 44 bottles of beer on the wall take one down pass it around\n",
      "43 bottles of beer on the wall\n",
      "43 bottles of beer on the walll 43 bottles of beer on the wall take one down pass it around\n",
      "42 bottles of beer on the wall\n",
      "42 bottles of beer on the walll 42 bottles of beer on the wall take one down pass it around\n",
      "41 bottles of beer on the wall\n",
      "41 bottles of beer on the walll 41 bottles of beer on the wall take one down pass it around\n",
      "40 bottles of beer on the wall\n",
      "40 bottles of beer on the walll 40 bottles of beer on the wall take one down pass it around\n",
      "39 bottles of beer on the wall\n",
      "39 bottles of beer on the walll 39 bottles of beer on the wall take one down pass it around\n",
      "38 bottles of beer on the wall\n",
      "38 bottles of beer on the walll 38 bottles of beer on the wall take one down pass it around\n",
      "37 bottles of beer on the wall\n",
      "37 bottles of beer on the walll 37 bottles of beer on the wall take one down pass it around\n",
      "36 bottles of beer on the wall\n",
      "36 bottles of beer on the walll 36 bottles of beer on the wall take one down pass it around\n",
      "35 bottles of beer on the wall\n",
      "35 bottles of beer on the walll 35 bottles of beer on the wall take one down pass it around\n",
      "34 bottles of beer on the wall\n",
      "34 bottles of beer on the walll 34 bottles of beer on the wall take one down pass it around\n",
      "33 bottles of beer on the wall\n",
      "33 bottles of beer on the walll 33 bottles of beer on the wall take one down pass it around\n",
      "32 bottles of beer on the wall\n",
      "32 bottles of beer on the walll 32 bottles of beer on the wall take one down pass it around\n",
      "31 bottles of beer on the wall\n",
      "31 bottles of beer on the walll 31 bottles of beer on the wall take one down pass it around\n",
      "30 bottles of beer on the wall\n",
      "30 bottles of beer on the walll 30 bottles of beer on the wall take one down pass it around\n",
      "29 bottles of beer on the wall\n",
      "29 bottles of beer on the walll 29 bottles of beer on the wall take one down pass it around\n",
      "28 bottles of beer on the wall\n",
      "28 bottles of beer on the walll 28 bottles of beer on the wall take one down pass it around\n",
      "27 bottles of beer on the wall\n",
      "27 bottles of beer on the walll 27 bottles of beer on the wall take one down pass it around\n",
      "26 bottles of beer on the wall\n",
      "26 bottles of beer on the walll 26 bottles of beer on the wall take one down pass it around\n",
      "25 bottles of beer on the wall\n",
      "25 bottles of beer on the walll 25 bottles of beer on the wall take one down pass it around\n",
      "24 bottles of beer on the wall\n",
      "24 bottles of beer on the walll 24 bottles of beer on the wall take one down pass it around\n",
      "23 bottles of beer on the wall\n",
      "23 bottles of beer on the walll 23 bottles of beer on the wall take one down pass it around\n",
      "22 bottles of beer on the wall\n",
      "22 bottles of beer on the walll 22 bottles of beer on the wall take one down pass it around\n",
      "21 bottles of beer on the wall\n",
      "21 bottles of beer on the walll 21 bottles of beer on the wall take one down pass it around\n",
      "20 bottles of beer on the wall\n",
      "20 bottles of beer on the walll 20 bottles of beer on the wall take one down pass it around\n",
      "19 bottles of beer on the wall\n",
      "19 bottles of beer on the walll 19 bottles of beer on the wall take one down pass it around\n",
      "18 bottles of beer on the wall\n",
      "18 bottles of beer on the walll 18 bottles of beer on the wall take one down pass it around\n",
      "17 bottles of beer on the wall\n",
      "17 bottles of beer on the walll 17 bottles of beer on the wall take one down pass it around\n",
      "16 bottles of beer on the wall\n",
      "16 bottles of beer on the walll 16 bottles of beer on the wall take one down pass it around\n",
      "15 bottles of beer on the wall\n",
      "15 bottles of beer on the walll 15 bottles of beer on the wall take one down pass it around\n",
      "14 bottles of beer on the wall\n",
      "14 bottles of beer on the walll 14 bottles of beer on the wall take one down pass it around\n",
      "13 bottles of beer on the wall\n",
      "13 bottles of beer on the walll 13 bottles of beer on the wall take one down pass it around\n",
      "12 bottles of beer on the wall\n",
      "12 bottles of beer on the walll 12 bottles of beer on the wall take one down pass it around\n",
      "11 bottles of beer on the wall\n",
      "11 bottles of beer on the walll 11 bottles of beer on the wall take one down pass it around\n",
      "10 bottles of beer on the wall\n",
      "10 bottles of beer on the walll 10 bottles of beer on the wall take one down pass it around\n",
      "9 bottles of beer on the wall\n",
      "9 bottles of beer on the walll 9 bottles of beer on the wall take one down pass it around\n",
      "8 bottles of beer on the wall\n",
      "8 bottles of beer on the walll 8 bottles of beer on the wall take one down pass it around\n",
      "7 bottles of beer on the wall\n",
      "7 bottles of beer on the walll 7 bottles of beer on the wall take one down pass it around\n",
      "6 bottles of beer on the wall\n",
      "6 bottles of beer on the walll 6 bottles of beer on the wall take one down pass it around\n",
      "5 bottles of beer on the wall\n",
      "5 bottles of beer on the walll 5 bottles of beer on the wall take one down pass it around\n",
      "4 bottles of beer on the wall\n",
      "4 bottles of beer on the walll 4 bottles of beer on the wall take one down pass it around\n",
      "3 bottles of beer on the wall\n",
      "3 bottles of beer on the walll 3 bottles of beer on the wall take one down pass it around\n",
      "2 bottles of beer on the wall\n",
      "2 bottles of beer on the walll 2 bottles of beer on the wall take one down pass it around\n",
      "1 bottles of beer on the wall\n",
      "1 bottles of beer on the walll 1 bottles of beer on the wall take one down pass it around\n",
      "0 bottles of beer on the wall\n"
     ]
    }
   ],
   "source": [
    "number_of_beers = 99\n",
    "\n",
    "for number in range(number_of_beers, 0, -1):\n",
    "    print(number, \"bottles of beer on the walll\", number,\"bottles of beer on the wall take one down pass it around\")\n",
    "    print(number - 1, \"bottles of beer on the wall\")"
   ]
  },
  {
   "cell_type": "markdown",
   "metadata": {},
   "source": [
    "## Cool sample by: Murial"
   ]
  },
  {
   "cell_type": "code",
   "execution_count": 1,
   "metadata": {
    "collapsed": false
   },
   "outputs": [],
   "source": [
    "import turtle\n",
    "import random\n",
    "wn = turtle.Screen()\n",
    "anaise = turtle.Turtle()\n",
    "hour = 1\n",
    "lines = 1\n",
    "angle = 1\n",
    "\n",
    "anaise.speed(0)\n",
    "# Set the color mode so the mac is happy.\n",
    "wn.colormode(255)\n",
    "\n",
    "#change starting point of line randomly\n",
    "while lines < 200:\n",
    "    anaise.goto(random.randrange(50), random.randrange(50))\n",
    "    anaise.down()\n",
    "    angle = (random.randrange(360))\n",
    "    anaise.color(random.randrange(255),random.randrange(255),random.randrange(255))\n",
    "    anaise.pensize(random.randrange(11))\n",
    "    anaise.right(angle)\n",
    "    anaise.forward(random.randrange(100))\n",
    "    anaise.up()\n",
    "    \n",
    "    #Count the number of times the loop occurs\n",
    "    lines = lines + 1\n",
    "    \n",
    "wn.exitonclick()"
   ]
  },
  {
   "cell_type": "markdown",
   "metadata": {},
   "source": [
    "## Draw the regular polygon\n",
    "\n",
    "Write a program that asks the user for the number of sides, the length of the side, the color, and the fill color of a regular polygon. The program should draw the polygon and then fill it in.\n"
   ]
  },
  {
   "cell_type": "code",
   "execution_count": 1,
   "metadata": {
    "collapsed": false
   },
   "outputs": [
    {
     "name": "stdout",
     "output_type": "stream",
     "text": [
      "How many sides?55\n",
      "How long are the sides?30\n",
      "What color for the lines?red\n",
      "What color for the fill?blue\n"
     ]
    }
   ],
   "source": [
    "import turtle\n",
    "wn = turtle.Screen()\n",
    "alex = turtle.Turtle()\n",
    "\n",
    "\n",
    "sides_number = int(input(\"How many sides?\"))\n",
    "sides_length = int(input(\"How long are the sides?\"))\n",
    "line_color = input(\"What color for the lines?\")\n",
    "fill_color = input(\"What color for the fill?\")\n",
    "\n",
    "alex.color(line_color)\n",
    "alex.fillcolor(fill_color)\n",
    "\n",
    "alex.speed(1)\n",
    "alex.begin_fill()\n",
    "\n",
    "for i in range(sides_number):\n",
    "    alex.forward(sides_length)\n",
    "    alex.left((360)/(sides_number))\n",
    "    \n",
    "alex.end_fill()"
   ]
  },
  {
   "cell_type": "markdown",
   "metadata": {},
   "source": [
    "## Studio: Donut\n",
    "\n",
    "Show them a random Donut of the day: \"Yellow Jacket - creme, sugar, and honey with a glazed top and cake body\"\n",
    "\n",
    "Ask the patron how much they want to pay per donut?\n",
    "Ask the number of donuts they want to buy? (fractional donuts)\n",
    "Take into account the tax rate: 5%\n",
    "\n",
    "```python\n",
    "    >>> \"Here's the donut of the day\"\n",
    "    >>> \"Yellow Jacket - creme, sugar, and honey with a glazed top and cake body\"\n",
    "    >>> \"How many donuts?\"\n",
    "    >>> \"What do you want to pay per donut?\"\n",
    "    >>> \"Computing price....\"\n",
    "    >>> \"You shall pay: $price$\"\n",
    "```\n",
    "\n",
    "\n"
   ]
  },
  {
   "cell_type": "code",
   "execution_count": null,
   "metadata": {
    "collapsed": true
   },
   "outputs": [],
   "source": [
    ">>>"
   ]
  }
 ],
 "metadata": {
  "kernelspec": {
   "display_name": "Python 3",
   "language": "python",
   "name": "python3"
  },
  "language_info": {
   "codemirror_mode": {
    "name": "ipython",
    "version": 3
   },
   "file_extension": ".py",
   "mimetype": "text/x-python",
   "name": "python",
   "nbconvert_exporter": "python",
   "pygments_lexer": "ipython3",
   "version": "3.5.2"
  }
 },
 "nbformat": 4,
 "nbformat_minor": 1
}
